{
  "cells": [
    {
      "cell_type": "markdown",
      "metadata": {
        "id": "XYg_1MnayyJq"
      },
      "source": [
        "def sentiment_analysis( año : int ): Según el año de lanzamiento, se devuelve una lista con la cantidad de registros de reseñas de usuarios que se encuentren categorizados con un análisis de sentimiento.\n",
        "Ejemplo de retorno: {Negative = 182, Neutral = 120, Positive = 278}"
      ]
    },
    {
      "cell_type": "markdown",
      "metadata": {
        "id": "58QD4TB5y4bp"
      },
      "source": []
    },
    {
      "cell_type": "code",
      "execution_count": 1,
      "metadata": {
        "id": "p6YkIx0rxnqZ"
      },
      "outputs": [],
      "source": [
        "import pandas as pd\n",
        "\n",
        "archivo_csv1 = 'gamescompleto.csv'\n",
        "archivo_csv2 = 'df_reviews_completo3sin23.csv'\n",
        "\n",
        "dfgames = pd.read_csv(archivo_csv1)\n",
        "dfreviews = pd.read_csv(archivo_csv2)\n"
      ]
    },
    {
      "cell_type": "code",
      "execution_count": 2,
      "metadata": {
        "colab": {
          "base_uri": "https://localhost:8080/",
          "height": 521
        },
        "id": "ZzampSoHypZr",
        "outputId": "fb2c4ec2-2c9a-427c-b4ba-9d6e6c846701"
      },
      "outputs": [
        {
          "data": {
            "text/html": [
              "<div>\n",
              "<style scoped>\n",
              "    .dataframe tbody tr th:only-of-type {\n",
              "        vertical-align: middle;\n",
              "    }\n",
              "\n",
              "    .dataframe tbody tr th {\n",
              "        vertical-align: top;\n",
              "    }\n",
              "\n",
              "    .dataframe thead th {\n",
              "        text-align: right;\n",
              "    }\n",
              "</style>\n",
              "<table border=\"1\" class=\"dataframe\">\n",
              "  <thead>\n",
              "    <tr style=\"text-align: right;\">\n",
              "      <th></th>\n",
              "      <th>publisher</th>\n",
              "      <th>genres</th>\n",
              "      <th>item_name</th>\n",
              "      <th>title</th>\n",
              "      <th>url</th>\n",
              "      <th>release_date</th>\n",
              "      <th>tags</th>\n",
              "      <th>reviews_url</th>\n",
              "      <th>specs</th>\n",
              "      <th>price</th>\n",
              "      <th>early_access</th>\n",
              "      <th>item_id</th>\n",
              "      <th>developer</th>\n",
              "    </tr>\n",
              "  </thead>\n",
              "  <tbody>\n",
              "    <tr>\n",
              "      <th>0</th>\n",
              "      <td>Kotoshiro</td>\n",
              "      <td>['Action', 'Casual', 'Indie', 'Simulation', 'S...</td>\n",
              "      <td>Lost Summoner Kitty</td>\n",
              "      <td>Lost Summoner Kitty</td>\n",
              "      <td>http://store.steampowered.com/app/761140/Lost_...</td>\n",
              "      <td>2018-01-04</td>\n",
              "      <td>['Strategy', 'Action', 'Indie', 'Casual', 'Sim...</td>\n",
              "      <td>http://steamcommunity.com/app/761140/reviews/?...</td>\n",
              "      <td>['Single-player']</td>\n",
              "      <td>4.99</td>\n",
              "      <td>False</td>\n",
              "      <td>761140.0</td>\n",
              "      <td>Kotoshiro</td>\n",
              "    </tr>\n",
              "    <tr>\n",
              "      <th>1</th>\n",
              "      <td>Making Fun, Inc.</td>\n",
              "      <td>['Free to Play', 'Indie', 'RPG', 'Strategy']</td>\n",
              "      <td>Ironbound</td>\n",
              "      <td>Ironbound</td>\n",
              "      <td>http://store.steampowered.com/app/643980/Ironb...</td>\n",
              "      <td>2018-01-04</td>\n",
              "      <td>['Free to Play', 'Strategy', 'Indie', 'RPG', '...</td>\n",
              "      <td>http://steamcommunity.com/app/643980/reviews/?...</td>\n",
              "      <td>['Single-player', 'Multi-player', 'Online Mult...</td>\n",
              "      <td>Free To Play</td>\n",
              "      <td>False</td>\n",
              "      <td>643980.0</td>\n",
              "      <td>Secret Level SRL</td>\n",
              "    </tr>\n",
              "    <tr>\n",
              "      <th>2</th>\n",
              "      <td>Poolians.com</td>\n",
              "      <td>['Casual', 'Free to Play', 'Indie', 'Simulatio...</td>\n",
              "      <td>Real Pool 3D - Poolians</td>\n",
              "      <td>Real Pool 3D - Poolians</td>\n",
              "      <td>http://store.steampowered.com/app/670290/Real_...</td>\n",
              "      <td>2017-07-24</td>\n",
              "      <td>['Free to Play', 'Simulation', 'Sports', 'Casu...</td>\n",
              "      <td>http://steamcommunity.com/app/670290/reviews/?...</td>\n",
              "      <td>['Single-player', 'Multi-player', 'Online Mult...</td>\n",
              "      <td>Free to Play</td>\n",
              "      <td>False</td>\n",
              "      <td>670290.0</td>\n",
              "      <td>Poolians.com</td>\n",
              "    </tr>\n",
              "    <tr>\n",
              "      <th>3</th>\n",
              "      <td>彼岸领域</td>\n",
              "      <td>['Action', 'Adventure', 'Casual']</td>\n",
              "      <td>弹炸人2222</td>\n",
              "      <td>弹炸人2222</td>\n",
              "      <td>http://store.steampowered.com/app/767400/2222/</td>\n",
              "      <td>2017-12-07</td>\n",
              "      <td>['Action', 'Adventure', 'Casual']</td>\n",
              "      <td>http://steamcommunity.com/app/767400/reviews/?...</td>\n",
              "      <td>['Single-player']</td>\n",
              "      <td>0.99</td>\n",
              "      <td>False</td>\n",
              "      <td>767400.0</td>\n",
              "      <td>彼岸领域</td>\n",
              "    </tr>\n",
              "    <tr>\n",
              "      <th>4</th>\n",
              "      <td>Trickjump Games Ltd</td>\n",
              "      <td>['Action', 'Adventure', 'Simulation']</td>\n",
              "      <td>Battle Royale Trainer</td>\n",
              "      <td>Battle Royale Trainer</td>\n",
              "      <td>http://store.steampowered.com/app/772540/Battl...</td>\n",
              "      <td>2018-01-04</td>\n",
              "      <td>['Action', 'Adventure', 'Simulation', 'FPS', '...</td>\n",
              "      <td>http://steamcommunity.com/app/772540/reviews/?...</td>\n",
              "      <td>['Single-player', 'Steam Achievements']</td>\n",
              "      <td>3.99</td>\n",
              "      <td>False</td>\n",
              "      <td>772540.0</td>\n",
              "      <td>Trickjump Games Ltd</td>\n",
              "    </tr>\n",
              "  </tbody>\n",
              "</table>\n",
              "</div>"
            ],
            "text/plain": [
              "             publisher                                             genres  \\\n",
              "0            Kotoshiro  ['Action', 'Casual', 'Indie', 'Simulation', 'S...   \n",
              "1     Making Fun, Inc.       ['Free to Play', 'Indie', 'RPG', 'Strategy']   \n",
              "2         Poolians.com  ['Casual', 'Free to Play', 'Indie', 'Simulatio...   \n",
              "3                 彼岸领域                  ['Action', 'Adventure', 'Casual']   \n",
              "4  Trickjump Games Ltd              ['Action', 'Adventure', 'Simulation']   \n",
              "\n",
              "                 item_name                    title  \\\n",
              "0      Lost Summoner Kitty      Lost Summoner Kitty   \n",
              "1                Ironbound                Ironbound   \n",
              "2  Real Pool 3D - Poolians  Real Pool 3D - Poolians   \n",
              "3                  弹炸人2222                  弹炸人2222   \n",
              "4    Battle Royale Trainer    Battle Royale Trainer   \n",
              "\n",
              "                                                 url release_date  \\\n",
              "0  http://store.steampowered.com/app/761140/Lost_...   2018-01-04   \n",
              "1  http://store.steampowered.com/app/643980/Ironb...   2018-01-04   \n",
              "2  http://store.steampowered.com/app/670290/Real_...   2017-07-24   \n",
              "3     http://store.steampowered.com/app/767400/2222/   2017-12-07   \n",
              "4  http://store.steampowered.com/app/772540/Battl...   2018-01-04   \n",
              "\n",
              "                                                tags  \\\n",
              "0  ['Strategy', 'Action', 'Indie', 'Casual', 'Sim...   \n",
              "1  ['Free to Play', 'Strategy', 'Indie', 'RPG', '...   \n",
              "2  ['Free to Play', 'Simulation', 'Sports', 'Casu...   \n",
              "3                  ['Action', 'Adventure', 'Casual']   \n",
              "4  ['Action', 'Adventure', 'Simulation', 'FPS', '...   \n",
              "\n",
              "                                         reviews_url  \\\n",
              "0  http://steamcommunity.com/app/761140/reviews/?...   \n",
              "1  http://steamcommunity.com/app/643980/reviews/?...   \n",
              "2  http://steamcommunity.com/app/670290/reviews/?...   \n",
              "3  http://steamcommunity.com/app/767400/reviews/?...   \n",
              "4  http://steamcommunity.com/app/772540/reviews/?...   \n",
              "\n",
              "                                               specs         price  \\\n",
              "0                                  ['Single-player']          4.99   \n",
              "1  ['Single-player', 'Multi-player', 'Online Mult...  Free To Play   \n",
              "2  ['Single-player', 'Multi-player', 'Online Mult...  Free to Play   \n",
              "3                                  ['Single-player']          0.99   \n",
              "4            ['Single-player', 'Steam Achievements']          3.99   \n",
              "\n",
              "   early_access   item_id            developer  \n",
              "0         False  761140.0            Kotoshiro  \n",
              "1         False  643980.0     Secret Level SRL  \n",
              "2         False  670290.0         Poolians.com  \n",
              "3         False  767400.0                 彼岸领域  \n",
              "4         False  772540.0  Trickjump Games Ltd  "
            ]
          },
          "execution_count": 2,
          "metadata": {},
          "output_type": "execute_result"
        }
      ],
      "source": [
        "dfgames.head()\n",
        "# año lanzamiento 0 release_date"
      ]
    },
    {
      "cell_type": "code",
      "execution_count": 3,
      "metadata": {
        "colab": {
          "base_uri": "https://localhost:8080/"
        },
        "id": "JT3yxH8lyrAh",
        "outputId": "112060dd-f07e-4b83-c724-a23b6eeb6c1b"
      },
      "outputs": [
        {
          "name": "stdout",
          "output_type": "stream",
          "text": [
            "<class 'pandas.core.frame.DataFrame'>\n",
            "RangeIndex: 28852 entries, 0 to 28851\n",
            "Data columns (total 13 columns):\n",
            " #   Column        Non-Null Count  Dtype  \n",
            "---  ------        --------------  -----  \n",
            " 0   publisher     23936 non-null  object \n",
            " 1   genres        28852 non-null  object \n",
            " 2   item_name     28851 non-null  object \n",
            " 3   title         28851 non-null  object \n",
            " 4   url           28852 non-null  object \n",
            " 5   release_date  28834 non-null  object \n",
            " 6   tags          28828 non-null  object \n",
            " 7   reviews_url   28851 non-null  object \n",
            " 8   specs         28566 non-null  object \n",
            " 9   price         27622 non-null  object \n",
            " 10  early_access  28852 non-null  bool   \n",
            " 11  item_id       28851 non-null  float64\n",
            " 12  developer     28682 non-null  object \n",
            "dtypes: bool(1), float64(1), object(11)\n",
            "memory usage: 2.7+ MB\n"
          ]
        }
      ],
      "source": [
        "dfgames.info()"
      ]
    },
    {
      "cell_type": "code",
      "execution_count": 4,
      "metadata": {
        "colab": {
          "base_uri": "https://localhost:8080/"
        },
        "id": "FATerOHdzWLQ",
        "outputId": "fd64e5b5-f30e-46d8-b4ce-3a1d1689a420"
      },
      "outputs": [
        {
          "data": {
            "text/plain": [
              "publisher       4916\n",
              "genres             0\n",
              "item_name          1\n",
              "title              1\n",
              "url                0\n",
              "release_date      18\n",
              "tags              24\n",
              "reviews_url        1\n",
              "specs            286\n",
              "price           1230\n",
              "early_access       0\n",
              "item_id            1\n",
              "developer        170\n",
              "dtype: int64"
            ]
          },
          "execution_count": 4,
          "metadata": {},
          "output_type": "execute_result"
        }
      ],
      "source": [
        "dfgames.isnull().sum()"
      ]
    },
    {
      "cell_type": "code",
      "execution_count": 5,
      "metadata": {
        "id": "2wNQsN_iyuW9"
      },
      "outputs": [],
      "source": [
        "dfgames2= dfgames[['release_date','item_id']]"
      ]
    },
    {
      "cell_type": "code",
      "execution_count": 6,
      "metadata": {
        "id": "2f8kP0PlzfFI"
      },
      "outputs": [],
      "source": [
        "dfgames2=dfgames2.dropna(subset=['release_date'])"
      ]
    },
    {
      "cell_type": "code",
      "execution_count": 7,
      "metadata": {},
      "outputs": [],
      "source": [
        "dfgames2=dfgames2.dropna()"
      ]
    },
    {
      "cell_type": "code",
      "execution_count": 8,
      "metadata": {
        "colab": {
          "base_uri": "https://localhost:8080/"
        },
        "id": "kXs6aviAzRE5",
        "outputId": "4a2dff9c-dd55-4ea3-f4e1-f54be7db3328"
      },
      "outputs": [
        {
          "data": {
            "text/plain": [
              "release_date    0\n",
              "item_id         0\n",
              "dtype: int64"
            ]
          },
          "execution_count": 8,
          "metadata": {},
          "output_type": "execute_result"
        }
      ],
      "source": [
        "dfgames2.isnull().sum()"
      ]
    },
    {
      "cell_type": "code",
      "execution_count": 9,
      "metadata": {
        "colab": {
          "base_uri": "https://localhost:8080/",
          "height": 424
        },
        "id": "itYFHoBZ0D7f",
        "outputId": "a55da2f5-c281-4efe-d57b-ab23fe73c443"
      },
      "outputs": [
        {
          "data": {
            "text/html": [
              "<div>\n",
              "<style scoped>\n",
              "    .dataframe tbody tr th:only-of-type {\n",
              "        vertical-align: middle;\n",
              "    }\n",
              "\n",
              "    .dataframe tbody tr th {\n",
              "        vertical-align: top;\n",
              "    }\n",
              "\n",
              "    .dataframe thead th {\n",
              "        text-align: right;\n",
              "    }\n",
              "</style>\n",
              "<table border=\"1\" class=\"dataframe\">\n",
              "  <thead>\n",
              "    <tr style=\"text-align: right;\">\n",
              "      <th></th>\n",
              "      <th>release_date</th>\n",
              "      <th>item_id</th>\n",
              "    </tr>\n",
              "  </thead>\n",
              "  <tbody>\n",
              "    <tr>\n",
              "      <th>0</th>\n",
              "      <td>2018-01-04</td>\n",
              "      <td>761140.0</td>\n",
              "    </tr>\n",
              "    <tr>\n",
              "      <th>1</th>\n",
              "      <td>2018-01-04</td>\n",
              "      <td>643980.0</td>\n",
              "    </tr>\n",
              "    <tr>\n",
              "      <th>2</th>\n",
              "      <td>2017-07-24</td>\n",
              "      <td>670290.0</td>\n",
              "    </tr>\n",
              "    <tr>\n",
              "      <th>3</th>\n",
              "      <td>2017-12-07</td>\n",
              "      <td>767400.0</td>\n",
              "    </tr>\n",
              "    <tr>\n",
              "      <th>4</th>\n",
              "      <td>2018-01-04</td>\n",
              "      <td>772540.0</td>\n",
              "    </tr>\n",
              "    <tr>\n",
              "      <th>...</th>\n",
              "      <td>...</td>\n",
              "      <td>...</td>\n",
              "    </tr>\n",
              "    <tr>\n",
              "      <th>28847</th>\n",
              "      <td>2018-01-04</td>\n",
              "      <td>745400.0</td>\n",
              "    </tr>\n",
              "    <tr>\n",
              "      <th>28848</th>\n",
              "      <td>2018-01-04</td>\n",
              "      <td>773640.0</td>\n",
              "    </tr>\n",
              "    <tr>\n",
              "      <th>28849</th>\n",
              "      <td>2018-01-04</td>\n",
              "      <td>733530.0</td>\n",
              "    </tr>\n",
              "    <tr>\n",
              "      <th>28850</th>\n",
              "      <td>2018-01-04</td>\n",
              "      <td>610660.0</td>\n",
              "    </tr>\n",
              "    <tr>\n",
              "      <th>28851</th>\n",
              "      <td>2017-09-02</td>\n",
              "      <td>658870.0</td>\n",
              "    </tr>\n",
              "  </tbody>\n",
              "</table>\n",
              "<p>28833 rows × 2 columns</p>\n",
              "</div>"
            ],
            "text/plain": [
              "      release_date   item_id\n",
              "0       2018-01-04  761140.0\n",
              "1       2018-01-04  643980.0\n",
              "2       2017-07-24  670290.0\n",
              "3       2017-12-07  767400.0\n",
              "4       2018-01-04  772540.0\n",
              "...            ...       ...\n",
              "28847   2018-01-04  745400.0\n",
              "28848   2018-01-04  773640.0\n",
              "28849   2018-01-04  733530.0\n",
              "28850   2018-01-04  610660.0\n",
              "28851   2017-09-02  658870.0\n",
              "\n",
              "[28833 rows x 2 columns]"
            ]
          },
          "execution_count": 9,
          "metadata": {},
          "output_type": "execute_result"
        }
      ],
      "source": [
        "dfgames2"
      ]
    },
    {
      "cell_type": "code",
      "execution_count": 10,
      "metadata": {
        "colab": {
          "base_uri": "https://localhost:8080/"
        },
        "id": "uBEXcjp20H1_",
        "outputId": "03f5cc6d-a7b9-4c2c-9577-b75b5045f617"
      },
      "outputs": [
        {
          "name": "stdout",
          "output_type": "stream",
          "text": [
            "<class 'pandas.core.frame.DataFrame'>\n",
            "Index: 28833 entries, 0 to 28851\n",
            "Data columns (total 2 columns):\n",
            " #   Column        Non-Null Count  Dtype  \n",
            "---  ------        --------------  -----  \n",
            " 0   release_date  28833 non-null  object \n",
            " 1   item_id       28833 non-null  float64\n",
            "dtypes: float64(1), object(1)\n",
            "memory usage: 675.8+ KB\n"
          ]
        }
      ],
      "source": [
        "dfgames2.info()"
      ]
    },
    {
      "cell_type": "code",
      "execution_count": 11,
      "metadata": {
        "colab": {
          "base_uri": "https://localhost:8080/"
        },
        "id": "Xm8xtzRPznnR",
        "outputId": "3af52eaa-fec8-4030-a951-f8d6d6f01a8c"
      },
      "outputs": [
        {
          "name": "stdout",
          "output_type": "stream",
          "text": [
            "<class 'pandas.core.frame.DataFrame'>\n",
            "RangeIndex: 59275 entries, 0 to 59274\n",
            "Data columns (total 9 columns):\n",
            " #   Column              Non-Null Count  Dtype  \n",
            "---  ------              --------------  -----  \n",
            " 0   user_id             25787 non-null  object \n",
            " 1   user_url            25787 non-null  object \n",
            " 2   funny               8150 non-null   object \n",
            " 3   Fecha_posteo        49159 non-null  float64\n",
            " 4   last_edited         6140 non-null   object \n",
            " 5   item_id             59275 non-null  int64  \n",
            " 6   helpful             59275 non-null  object \n",
            " 7   recommend           59275 non-null  bool   \n",
            " 8   sentiment_analysis  59275 non-null  int64  \n",
            "dtypes: bool(1), float64(1), int64(2), object(5)\n",
            "memory usage: 3.7+ MB\n"
          ]
        }
      ],
      "source": [
        "dfreviews.info()"
      ]
    },
    {
      "cell_type": "code",
      "execution_count": 12,
      "metadata": {
        "id": "8ICempAD0KmP"
      },
      "outputs": [],
      "source": [
        "dfreviews2= dfreviews[['item_id','sentiment_analysis']]"
      ]
    },
    {
      "cell_type": "code",
      "execution_count": 13,
      "metadata": {
        "colab": {
          "base_uri": "https://localhost:8080/"
        },
        "id": "j-qafzBt0Zz3",
        "outputId": "04579c77-f437-4a2a-e55f-f0afb0546b87"
      },
      "outputs": [
        {
          "name": "stdout",
          "output_type": "stream",
          "text": [
            "<class 'pandas.core.frame.DataFrame'>\n",
            "RangeIndex: 59275 entries, 0 to 59274\n",
            "Data columns (total 2 columns):\n",
            " #   Column              Non-Null Count  Dtype\n",
            "---  ------              --------------  -----\n",
            " 0   item_id             59275 non-null  int64\n",
            " 1   sentiment_analysis  59275 non-null  int64\n",
            "dtypes: int64(2)\n",
            "memory usage: 926.3 KB\n"
          ]
        }
      ],
      "source": [
        "dfreviews2.info()"
      ]
    },
    {
      "cell_type": "code",
      "execution_count": 14,
      "metadata": {
        "colab": {
          "base_uri": "https://localhost:8080/"
        },
        "id": "dJ_F2i2E0bYu",
        "outputId": "3c14831c-85a4-49d9-cb1a-67afdd11a49b"
      },
      "outputs": [
        {
          "data": {
            "text/plain": [
              "item_id               0\n",
              "sentiment_analysis    0\n",
              "dtype: int64"
            ]
          },
          "execution_count": 14,
          "metadata": {},
          "output_type": "execute_result"
        }
      ],
      "source": [
        "dfreviews2.isnull().sum()"
      ]
    },
    {
      "cell_type": "code",
      "execution_count": 15,
      "metadata": {
        "id": "2kUpB1NI0rgH"
      },
      "outputs": [],
      "source": [
        "df_merge = pd.merge(dfgames2, dfreviews2, on=\"item_id\", how=\"inner\")\n"
      ]
    },
    {
      "cell_type": "markdown",
      "metadata": {
        "id": "eg_Tey8ryv2r"
      },
      "source": []
    },
    {
      "cell_type": "code",
      "execution_count": 16,
      "metadata": {
        "colab": {
          "base_uri": "https://localhost:8080/",
          "height": 424
        },
        "id": "fZMdiWui0xAO",
        "outputId": "f0ced470-dac1-4042-fdd6-47e70af4d4d9"
      },
      "outputs": [
        {
          "data": {
            "text/html": [
              "<div>\n",
              "<style scoped>\n",
              "    .dataframe tbody tr th:only-of-type {\n",
              "        vertical-align: middle;\n",
              "    }\n",
              "\n",
              "    .dataframe tbody tr th {\n",
              "        vertical-align: top;\n",
              "    }\n",
              "\n",
              "    .dataframe thead th {\n",
              "        text-align: right;\n",
              "    }\n",
              "</style>\n",
              "<table border=\"1\" class=\"dataframe\">\n",
              "  <thead>\n",
              "    <tr style=\"text-align: right;\">\n",
              "      <th></th>\n",
              "      <th>release_date</th>\n",
              "      <th>item_id</th>\n",
              "      <th>sentiment_analysis</th>\n",
              "    </tr>\n",
              "  </thead>\n",
              "  <tbody>\n",
              "    <tr>\n",
              "      <th>0</th>\n",
              "      <td>1997-06-30</td>\n",
              "      <td>282010.0</td>\n",
              "      <td>1</td>\n",
              "    </tr>\n",
              "    <tr>\n",
              "      <th>1</th>\n",
              "      <td>1998-11-08</td>\n",
              "      <td>70.0</td>\n",
              "      <td>1</td>\n",
              "    </tr>\n",
              "    <tr>\n",
              "      <th>2</th>\n",
              "      <td>1998-11-08</td>\n",
              "      <td>70.0</td>\n",
              "      <td>0</td>\n",
              "    </tr>\n",
              "    <tr>\n",
              "      <th>3</th>\n",
              "      <td>1998-11-08</td>\n",
              "      <td>70.0</td>\n",
              "      <td>0</td>\n",
              "    </tr>\n",
              "    <tr>\n",
              "      <th>4</th>\n",
              "      <td>1998-11-08</td>\n",
              "      <td>70.0</td>\n",
              "      <td>2</td>\n",
              "    </tr>\n",
              "    <tr>\n",
              "      <th>...</th>\n",
              "      <td>...</td>\n",
              "      <td>...</td>\n",
              "      <td>...</td>\n",
              "    </tr>\n",
              "    <tr>\n",
              "      <th>50358</th>\n",
              "      <td>2004-03-01</td>\n",
              "      <td>80.0</td>\n",
              "      <td>1</td>\n",
              "    </tr>\n",
              "    <tr>\n",
              "      <th>50359</th>\n",
              "      <td>2004-03-01</td>\n",
              "      <td>80.0</td>\n",
              "      <td>2</td>\n",
              "    </tr>\n",
              "    <tr>\n",
              "      <th>50360</th>\n",
              "      <td>2004-03-01</td>\n",
              "      <td>80.0</td>\n",
              "      <td>2</td>\n",
              "    </tr>\n",
              "    <tr>\n",
              "      <th>50361</th>\n",
              "      <td>2004-03-01</td>\n",
              "      <td>80.0</td>\n",
              "      <td>1</td>\n",
              "    </tr>\n",
              "    <tr>\n",
              "      <th>50362</th>\n",
              "      <td>2004-03-01</td>\n",
              "      <td>80.0</td>\n",
              "      <td>0</td>\n",
              "    </tr>\n",
              "  </tbody>\n",
              "</table>\n",
              "<p>50363 rows × 3 columns</p>\n",
              "</div>"
            ],
            "text/plain": [
              "      release_date   item_id  sentiment_analysis\n",
              "0       1997-06-30  282010.0                   1\n",
              "1       1998-11-08      70.0                   1\n",
              "2       1998-11-08      70.0                   0\n",
              "3       1998-11-08      70.0                   0\n",
              "4       1998-11-08      70.0                   2\n",
              "...            ...       ...                 ...\n",
              "50358   2004-03-01      80.0                   1\n",
              "50359   2004-03-01      80.0                   2\n",
              "50360   2004-03-01      80.0                   2\n",
              "50361   2004-03-01      80.0                   1\n",
              "50362   2004-03-01      80.0                   0\n",
              "\n",
              "[50363 rows x 3 columns]"
            ]
          },
          "execution_count": 16,
          "metadata": {},
          "output_type": "execute_result"
        }
      ],
      "source": [
        "df_merge"
      ]
    },
    {
      "cell_type": "code",
      "execution_count": 17,
      "metadata": {},
      "outputs": [
        {
          "name": "stdout",
          "output_type": "stream",
          "text": [
            "<class 'pandas.core.frame.DataFrame'>\n",
            "RangeIndex: 50363 entries, 0 to 50362\n",
            "Data columns (total 3 columns):\n",
            " #   Column              Non-Null Count  Dtype  \n",
            "---  ------              --------------  -----  \n",
            " 0   release_date        50363 non-null  object \n",
            " 1   item_id             50363 non-null  float64\n",
            " 2   sentiment_analysis  50363 non-null  int64  \n",
            "dtypes: float64(1), int64(1), object(1)\n",
            "memory usage: 1.2+ MB\n"
          ]
        }
      ],
      "source": [
        "df_merge.info()"
      ]
    },
    {
      "cell_type": "code",
      "execution_count": 18,
      "metadata": {},
      "outputs": [],
      "source": [
        "# vamos a convetir la columna de fechas a datetime\n",
        "df_merge['release_date'] = pd.to_datetime(df_merge['release_date'], format='%Y-%m-%d', errors='coerce')\n"
      ]
    },
    {
      "cell_type": "code",
      "execution_count": 19,
      "metadata": {},
      "outputs": [
        {
          "name": "stdout",
          "output_type": "stream",
          "text": [
            "<class 'pandas.core.frame.DataFrame'>\n",
            "RangeIndex: 50363 entries, 0 to 50362\n",
            "Data columns (total 3 columns):\n",
            " #   Column              Non-Null Count  Dtype         \n",
            "---  ------              --------------  -----         \n",
            " 0   release_date        50138 non-null  datetime64[ns]\n",
            " 1   item_id             50363 non-null  float64       \n",
            " 2   sentiment_analysis  50363 non-null  int64         \n",
            "dtypes: datetime64[ns](1), float64(1), int64(1)\n",
            "memory usage: 1.2 MB\n"
          ]
        }
      ],
      "source": [
        "df_merge.info()\n"
      ]
    },
    {
      "cell_type": "code",
      "execution_count": 20,
      "metadata": {},
      "outputs": [],
      "source": [
        "df_merge=df_merge.dropna(subset=['release_date'])"
      ]
    },
    {
      "cell_type": "code",
      "execution_count": 21,
      "metadata": {},
      "outputs": [
        {
          "name": "stdout",
          "output_type": "stream",
          "text": [
            "<class 'pandas.core.frame.DataFrame'>\n",
            "Index: 50138 entries, 0 to 50362\n",
            "Data columns (total 3 columns):\n",
            " #   Column              Non-Null Count  Dtype         \n",
            "---  ------              --------------  -----         \n",
            " 0   release_date        50138 non-null  datetime64[ns]\n",
            " 1   item_id             50138 non-null  float64       \n",
            " 2   sentiment_analysis  50138 non-null  int64         \n",
            "dtypes: datetime64[ns](1), float64(1), int64(1)\n",
            "memory usage: 1.5 MB\n"
          ]
        }
      ],
      "source": [
        "df_merge.info()\n",
        "\n"
      ]
    },
    {
      "cell_type": "code",
      "execution_count": 22,
      "metadata": {},
      "outputs": [
        {
          "name": "stderr",
          "output_type": "stream",
          "text": [
            "C:\\Users\\W10\\AppData\\Local\\Temp\\ipykernel_12924\\4112362021.py:1: SettingWithCopyWarning: \n",
            "A value is trying to be set on a copy of a slice from a DataFrame.\n",
            "Try using .loc[row_indexer,col_indexer] = value instead\n",
            "\n",
            "See the caveats in the documentation: https://pandas.pydata.org/pandas-docs/stable/user_guide/indexing.html#returning-a-view-versus-a-copy\n",
            "  df_merge['release_year'] = df_merge['release_date'].dt.year.astype(int)\n"
          ]
        }
      ],
      "source": [
        "df_merge['release_year'] = df_merge['release_date'].dt.year.astype(int)\n"
      ]
    },
    {
      "cell_type": "code",
      "execution_count": 23,
      "metadata": {
        "colab": {
          "base_uri": "https://localhost:8080/",
          "height": 719
        },
        "id": "6hyVUm7WOr_P",
        "outputId": "6a13540c-4003-4f3d-8e81-3e1c595765cf"
      },
      "outputs": [
        {
          "name": "stderr",
          "output_type": "stream",
          "text": [
            "C:\\Users\\W10\\AppData\\Local\\Temp\\ipykernel_12924\\1907173146.py:6: SettingWithCopyWarning: \n",
            "A value is trying to be set on a copy of a slice from a DataFrame.\n",
            "Try using .loc[row_indexer,col_indexer] = value instead\n",
            "\n",
            "See the caveats in the documentation: https://pandas.pydata.org/pandas-docs/stable/user_guide/indexing.html#returning-a-view-versus-a-copy\n",
            "  df_merge['release_date'] = pd.to_datetime(df_merge['release_date'])\n"
          ]
        },
        {
          "data": {
            "image/png": "[encoded data removed]",
            "text/plain": [
              "<Figure size 1400x800 with 1 Axes>"
            ]
          },
          "metadata": {},
          "output_type": "display_data"
        }
      ],
      "source": [
        "import pandas as pd\n",
        "import matplotlib.pyplot as plt\n",
        "\n",
        "df_merge['release_date'] = pd.to_datetime(df_merge['release_date'])\n",
        "\n",
        "# Agrupa y cuenta las filas por año\n",
        "data_por_año = df_merge.groupby(df_merge['release_date'].dt.year).count()\n",
        "\n",
        "plt.figure(figsize=(14, 8))  \n",
        "plt.plot(data_por_año.index, data_por_año['item_id'], marker='o', linestyle='-')\n",
        "\n",
        "plt.title('Gráfico de Cantidad de Elementos por Año')\n",
        "plt.xlabel('Año')\n",
        "plt.ylabel('Cantidad de Elementos')\n",
        "\n",
        "plt.show()\n"
      ]
    },
    {
      "cell_type": "code",
      "execution_count": 25,
      "metadata": {
        "colab": {
          "base_uri": "https://localhost:8080/"
        },
        "id": "kxmnvTQDP1Jk",
        "outputId": "3ff63639-91dd-479c-d186-08496ef8bafc"
      },
      "outputs": [
        {
          "name": "stdout",
          "output_type": "stream",
          "text": [
            "mínimo: 1989-01-01 00:00:00\n",
            "máximo: 2017-12-25 00:00:00\n"
          ]
        }
      ],
      "source": [
        "valor_minimo = df_merge['release_date'].min()\n",
        "valor_maximo = df_merge['release_date'].max()\n",
        "\n",
        "print(\"mínimo:\", valor_minimo)\n",
        "print(\"máximo:\", valor_maximo)"
      ]
    },
    {
      "cell_type": "code",
      "execution_count": 30,
      "metadata": {},
      "outputs": [],
      "source": [
        "archivo = 'df_5sinreduccion.parquet'\n",
        "# exportamos el df a un archivo Parquet.\n",
        "df_merge.to_parquet(archivo, index=False)"
      ]
    },
    {
      "cell_type": "code",
      "execution_count": 27,
      "metadata": {},
      "outputs": [],
      "source": [
        "import pandas as pd \n"
      ]
    },
    {
      "cell_type": "code",
      "execution_count": 32,
      "metadata": {},
      "outputs": [],
      "source": [
        "df5 = pd.read_parquet('df_5sinreduccion.parquet')"
      ]
    },
    {
      "cell_type": "code",
      "execution_count": 33,
      "metadata": {},
      "outputs": [
        {
          "data": {
            "text/html": [
              "<div>\n",
              "<style scoped>\n",
              "    .dataframe tbody tr th:only-of-type {\n",
              "        vertical-align: middle;\n",
              "    }\n",
              "\n",
              "    .dataframe tbody tr th {\n",
              "        vertical-align: top;\n",
              "    }\n",
              "\n",
              "    .dataframe thead th {\n",
              "        text-align: right;\n",
              "    }\n",
              "</style>\n",
              "<table border=\"1\" class=\"dataframe\">\n",
              "  <thead>\n",
              "    <tr style=\"text-align: right;\">\n",
              "      <th></th>\n",
              "      <th>release_date</th>\n",
              "      <th>item_id</th>\n",
              "      <th>sentiment_analysis</th>\n",
              "      <th>release_year</th>\n",
              "    </tr>\n",
              "  </thead>\n",
              "  <tbody>\n",
              "    <tr>\n",
              "      <th>0</th>\n",
              "      <td>1997-06-30</td>\n",
              "      <td>282010.0</td>\n",
              "      <td>1</td>\n",
              "      <td>1997</td>\n",
              "    </tr>\n",
              "    <tr>\n",
              "      <th>1</th>\n",
              "      <td>1998-11-08</td>\n",
              "      <td>70.0</td>\n",
              "      <td>1</td>\n",
              "      <td>1998</td>\n",
              "    </tr>\n",
              "    <tr>\n",
              "      <th>2</th>\n",
              "      <td>1998-11-08</td>\n",
              "      <td>70.0</td>\n",
              "      <td>0</td>\n",
              "      <td>1998</td>\n",
              "    </tr>\n",
              "    <tr>\n",
              "      <th>3</th>\n",
              "      <td>1998-11-08</td>\n",
              "      <td>70.0</td>\n",
              "      <td>0</td>\n",
              "      <td>1998</td>\n",
              "    </tr>\n",
              "    <tr>\n",
              "      <th>4</th>\n",
              "      <td>1998-11-08</td>\n",
              "      <td>70.0</td>\n",
              "      <td>2</td>\n",
              "      <td>1998</td>\n",
              "    </tr>\n",
              "  </tbody>\n",
              "</table>\n",
              "</div>"
            ],
            "text/plain": [
              "  release_date   item_id  sentiment_analysis  release_year\n",
              "0   1997-06-30  282010.0                   1          1997\n",
              "1   1998-11-08      70.0                   1          1998\n",
              "2   1998-11-08      70.0                   0          1998\n",
              "3   1998-11-08      70.0                   0          1998\n",
              "4   1998-11-08      70.0                   2          1998"
            ]
          },
          "execution_count": 33,
          "metadata": {},
          "output_type": "execute_result"
        }
      ],
      "source": [
        "df5.head()"
      ]
    },
    {
      "cell_type": "code",
      "execution_count": 34,
      "metadata": {},
      "outputs": [
        {
          "name": "stdout",
          "output_type": "stream",
          "text": [
            "<class 'pandas.core.frame.DataFrame'>\n",
            "RangeIndex: 50138 entries, 0 to 50137\n",
            "Data columns (total 4 columns):\n",
            " #   Column              Non-Null Count  Dtype         \n",
            "---  ------              --------------  -----         \n",
            " 0   release_date        50138 non-null  datetime64[ns]\n",
            " 1   item_id             50138 non-null  float64       \n",
            " 2   sentiment_analysis  50138 non-null  int64         \n",
            " 3   release_year        50138 non-null  int32         \n",
            "dtypes: datetime64[ns](1), float64(1), int32(1), int64(1)\n",
            "memory usage: 1.3 MB\n"
          ]
        }
      ],
      "source": [
        "df5.info()"
      ]
    },
    {
      "cell_type": "code",
      "execution_count": 35,
      "metadata": {
        "id": "p-wEdm1702Zq"
      },
      "outputs": [],
      "source": [
        "def sentiment_analysis(año:int):\n",
        "    # Filtra el DataFrame para el año especificado\n",
        "    df_filtrado = df5[df5['release_year'] == año]\n",
        "\n",
        "    # Cuenta la cantidad de registros para cada categoría de sentimiento\n",
        "    conteo_sentimiento = df_filtrado['sentiment_analysis'].value_counts()\n",
        "\n",
        "    # Construye el diccionario de retorno con las categorías de sentimiento y sus cantidades\n",
        "    resultado = {\n",
        "        \"Negative\": conteo_sentimiento.get(0, 0),\n",
        "        \"Neutral\": conteo_sentimiento.get(1, 0),\n",
        "        \"Positive\": conteo_sentimiento.get(2, 0)\n",
        "    }\n",
        "\n",
        "    return resultado"
      ]
    },
    {
      "cell_type": "code",
      "execution_count": 36,
      "metadata": {
        "colab": {
          "base_uri": "https://localhost:8080/"
        },
        "id": "ZjRZt6-v1p0t",
        "outputId": "074f7355-fb69-48a2-85ca-0e4676214c0b"
      },
      "outputs": [
        {
          "name": "stdout",
          "output_type": "stream",
          "text": [
            "{'Negative': 76, 'Neutral': 188, 'Positive': 286}\n"
          ]
        }
      ],
      "source": [
        "resultado = sentiment_analysis(2004)\n",
        "print(resultado)\n"
      ]
    },
    {
      "cell_type": "code",
      "execution_count": 37,
      "metadata": {
        "colab": {
          "base_uri": "https://localhost:8080/"
        },
        "id": "IPBTSQ7S1wBu",
        "outputId": "a6a3501f-dbd4-4bac-b026-832e4ab7538e"
      },
      "outputs": [
        {
          "name": "stdout",
          "output_type": "stream",
          "text": [
            "{'1985': {'Negative': 0, 'Neutral': 0, 'Positive': 0}}\n",
            "{'1986': {'Negative': 0, 'Neutral': 0, 'Positive': 0}}\n",
            "{'1987': {'Negative': 0, 'Neutral': 0, 'Positive': 0}}\n",
            "{'1988': {'Negative': 0, 'Neutral': 0, 'Positive': 0}}\n",
            "{'1989': {'Negative': 0, 'Neutral': 0, 'Positive': 1}}\n",
            "{'1990': {'Negative': 1, 'Neutral': 0, 'Positive': 4}}\n",
            "{'1991': {'Negative': 0, 'Neutral': 0, 'Positive': 1}}\n",
            "{'1992': {'Negative': 0, 'Neutral': 1, 'Positive': 2}}\n",
            "{'1993': {'Negative': 2, 'Neutral': 1, 'Positive': 2}}\n",
            "{'1994': {'Negative': 2, 'Neutral': 5, 'Positive': 8}}\n",
            "{'1995': {'Negative': 3, 'Neutral': 4, 'Positive': 9}}\n",
            "{'1996': {'Negative': 2, 'Neutral': 4, 'Positive': 2}}\n",
            "{'1997': {'Negative': 5, 'Neutral': 15, 'Positive': 28}}\n",
            "{'1998': {'Negative': 17, 'Neutral': 28, 'Positive': 51}}\n",
            "{'1999': {'Negative': 10, 'Neutral': 34, 'Positive': 32}}\n",
            "{'2000': {'Negative': 16, 'Neutral': 39, 'Positive': 43}}\n",
            "{'2001': {'Negative': 7, 'Neutral': 10, 'Positive': 18}}\n",
            "{'2002': {'Negative': 8, 'Neutral': 11, 'Positive': 26}}\n",
            "{'2003': {'Negative': 46, 'Neutral': 80, 'Positive': 91}}\n",
            "{'2004': {'Negative': 76, 'Neutral': 188, 'Positive': 286}}\n",
            "{'2005': {'Negative': 39, 'Neutral': 92, 'Positive': 162}}\n",
            "{'2006': {'Negative': 350, 'Neutral': 632, 'Positive': 1081}}\n",
            "{'2007': {'Negative': 517, 'Neutral': 1336, 'Positive': 2319}}\n",
            "{'2008': {'Negative': 59, 'Neutral': 136, 'Positive': 264}}\n",
            "{'2009': {'Negative': 326, 'Neutral': 638, 'Positive': 1007}}\n",
            "{'2010': {'Negative': 327, 'Neutral': 588, 'Positive': 1091}}\n",
            "{'2011': {'Negative': 542, 'Neutral': 1045, 'Positive': 1849}}\n",
            "{'2012': {'Negative': 1649, 'Neutral': 2814, 'Positive': 4580}}\n",
            "{'2013': {'Negative': 1333, 'Neutral': 2316, 'Positive': 3933}}\n",
            "{'2014': {'Negative': 1243, 'Neutral': 1971, 'Positive': 3144}}\n",
            "{'2015': {'Negative': 1222, 'Neutral': 2082, 'Positive': 3142}}\n",
            "{'2016': {'Negative': 559, 'Neutral': 930, 'Positive': 1497}}\n",
            "{'2017': {'Negative': 357, 'Neutral': 728, 'Positive': 1019}}\n",
            "{'2018': {'Negative': 0, 'Neutral': 0, 'Positive': 0}}\n",
            "{'2019': {'Negative': 0, 'Neutral': 0, 'Positive': 0}}\n",
            "{'2020': {'Negative': 0, 'Neutral': 0, 'Positive': 0}}\n",
            "{'2021': {'Negative': 0, 'Neutral': 0, 'Positive': 0}}\n",
            "{'2022': {'Negative': 0, 'Neutral': 0, 'Positive': 0}}\n"
          ]
        }
      ],
      "source": [
        "# Lista para almacenar los resultados por año\n",
        "resultados_por_año = []\n",
        "\n",
        "# Itera desde el año 2010 hasta el 2015\n",
        "for año in range(1985, 2023):\n",
        "    # Llama a la función UsersRecommend para el año actual\n",
        "    resultado_poraño = sentiment_analysis(año)\n",
        "\n",
        "    # Agrega el resultado a la lista de resultados por año\n",
        "    resultados_por_año.append({str(año): resultado_poraño})\n",
        "\n",
        "# Imprime los resultados\n",
        "for resultado in resultados_por_año:\n",
        "    print(resultado)"
      ]
    }
  ],
  "metadata": {
    "colab": {
      "provenance": []
    },
    "kernelspec": {
      "display_name": "Python 3",
      "name": "python3"
    },
    "language_info": {
      "codemirror_mode": {
        "name": "ipython",
        "version": 3
      },
      "file_extension": ".py",
      "mimetype": "text/x-python",
      "name": "python",
      "nbconvert_exporter": "python",
      "pygments_lexer": "ipython3",
      "version": "3.11.3"
    }
  },
  "nbformat": 4,
  "nbformat_minor": 0
}
