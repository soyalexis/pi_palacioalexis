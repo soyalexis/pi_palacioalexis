{
  "cells": [
    {
      "cell_type": "markdown",
      "metadata": {
        "id": "HkmG2XY8l5xU"
      },
      "source": [
        "def UsersRecommend( año : int ): Devuelve el top 3 de juegos MENOS recomendados por usuarios para el año dado. (reviews.recommend = True y comentarios positivos/neutrales)"
      ]
    },
    {
      "cell_type": "code",
      "execution_count": 1,
      "metadata": {
        "id": "Q9505mnsl3Qq"
      },
      "outputs": [],
      "source": [
        "import pandas as pd\n",
        "\n",
        "archivo_csv1 = 'gamescompleto.csv'\n",
        "archivo_csv2 = 'itemscompleto.csv'\n",
        "archivo_csv3 = 'df_reviews_completo3sin23.csv'\n",
        "\n",
        "dfgames = pd.read_csv(archivo_csv1)\n",
        "dfitems = pd.read_csv(archivo_csv2)\n",
        "dfreviews = pd.read_csv(archivo_csv3)"
      ]
    },
    {
      "cell_type": "code",
      "execution_count": 2,
      "metadata": {
        "colab": {
          "base_uri": "https://localhost:8080/",
          "height": 206
        },
        "id": "hFXXivmOxFac",
        "outputId": "4b5e6412-a9c8-409d-e060-b378589950d9"
      },
      "outputs": [
        {
          "data": {
            "text/html": [
              "<div>\n",
              "<style scoped>\n",
              "    .dataframe tbody tr th:only-of-type {\n",
              "        vertical-align: middle;\n",
              "    }\n",
              "\n",
              "    .dataframe tbody tr th {\n",
              "        vertical-align: top;\n",
              "    }\n",
              "\n",
              "    .dataframe thead th {\n",
              "        text-align: right;\n",
              "    }\n",
              "</style>\n",
              "<table border=\"1\" class=\"dataframe\">\n",
              "  <thead>\n",
              "    <tr style=\"text-align: right;\">\n",
              "      <th></th>\n",
              "      <th>user_id</th>\n",
              "      <th>user_url</th>\n",
              "      <th>funny</th>\n",
              "      <th>Fecha_posteo</th>\n",
              "      <th>last_edited</th>\n",
              "      <th>item_id</th>\n",
              "      <th>helpful</th>\n",
              "      <th>recommend</th>\n",
              "      <th>sentiment_analysis</th>\n",
              "    </tr>\n",
              "  </thead>\n",
              "  <tbody>\n",
              "    <tr>\n",
              "      <th>0</th>\n",
              "      <td>76561197970982479</td>\n",
              "      <td>http://steamcommunity.com/profiles/76561197970...</td>\n",
              "      <td>NaN</td>\n",
              "      <td>2011.0</td>\n",
              "      <td>NaN</td>\n",
              "      <td>1250</td>\n",
              "      <td>No ratings yet</td>\n",
              "      <td>True</td>\n",
              "      <td>2</td>\n",
              "    </tr>\n",
              "    <tr>\n",
              "      <th>1</th>\n",
              "      <td>js41637</td>\n",
              "      <td>http://steamcommunity.com/id/js41637</td>\n",
              "      <td>NaN</td>\n",
              "      <td>2011.0</td>\n",
              "      <td>NaN</td>\n",
              "      <td>22200</td>\n",
              "      <td>No ratings yet</td>\n",
              "      <td>True</td>\n",
              "      <td>2</td>\n",
              "    </tr>\n",
              "    <tr>\n",
              "      <th>2</th>\n",
              "      <td>evcentric</td>\n",
              "      <td>http://steamcommunity.com/id/evcentric</td>\n",
              "      <td>NaN</td>\n",
              "      <td>2011.0</td>\n",
              "      <td>NaN</td>\n",
              "      <td>43110</td>\n",
              "      <td>No ratings yet</td>\n",
              "      <td>True</td>\n",
              "      <td>1</td>\n",
              "    </tr>\n",
              "    <tr>\n",
              "      <th>3</th>\n",
              "      <td>doctr</td>\n",
              "      <td>http://steamcommunity.com/id/doctr</td>\n",
              "      <td>NaN</td>\n",
              "      <td>2014.0</td>\n",
              "      <td>NaN</td>\n",
              "      <td>251610</td>\n",
              "      <td>15 of 20 people (75%) found this review helpful</td>\n",
              "      <td>True</td>\n",
              "      <td>2</td>\n",
              "    </tr>\n",
              "    <tr>\n",
              "      <th>4</th>\n",
              "      <td>maplemage</td>\n",
              "      <td>http://steamcommunity.com/id/maplemage</td>\n",
              "      <td>NaN</td>\n",
              "      <td>2013.0</td>\n",
              "      <td>NaN</td>\n",
              "      <td>227300</td>\n",
              "      <td>0 of 1 people (0%) found this review helpful</td>\n",
              "      <td>True</td>\n",
              "      <td>1</td>\n",
              "    </tr>\n",
              "  </tbody>\n",
              "</table>\n",
              "</div>"
            ],
            "text/plain": [
              "             user_id                                           user_url funny  \\\n",
              "0  76561197970982479  http://steamcommunity.com/profiles/76561197970...   NaN   \n",
              "1            js41637               http://steamcommunity.com/id/js41637   NaN   \n",
              "2          evcentric             http://steamcommunity.com/id/evcentric   NaN   \n",
              "3              doctr                 http://steamcommunity.com/id/doctr   NaN   \n",
              "4          maplemage             http://steamcommunity.com/id/maplemage   NaN   \n",
              "\n",
              "   Fecha_posteo last_edited  item_id  \\\n",
              "0        2011.0         NaN     1250   \n",
              "1        2011.0         NaN    22200   \n",
              "2        2011.0         NaN    43110   \n",
              "3        2014.0         NaN   251610   \n",
              "4        2013.0         NaN   227300   \n",
              "\n",
              "                                           helpful  recommend  \\\n",
              "0                                   No ratings yet       True   \n",
              "1                                   No ratings yet       True   \n",
              "2                                   No ratings yet       True   \n",
              "3  15 of 20 people (75%) found this review helpful       True   \n",
              "4     0 of 1 people (0%) found this review helpful       True   \n",
              "\n",
              "   sentiment_analysis  \n",
              "0                   2  \n",
              "1                   2  \n",
              "2                   1  \n",
              "3                   2  \n",
              "4                   1  "
            ]
          },
          "execution_count": 2,
          "metadata": {},
          "output_type": "execute_result"
        }
      ],
      "source": [
        "dfreviews.head()"
      ]
    },
    {
      "cell_type": "code",
      "execution_count": 3,
      "metadata": {
        "colab": {
          "base_uri": "https://localhost:8080/"
        },
        "id": "9owPNWDbxGu5",
        "outputId": "fb9b8fd2-834d-431a-a54c-4847a4a78120"
      },
      "outputs": [
        {
          "name": "stdout",
          "output_type": "stream",
          "text": [
            "<class 'pandas.core.frame.DataFrame'>\n",
            "RangeIndex: 59275 entries, 0 to 59274\n",
            "Data columns (total 9 columns):\n",
            " #   Column              Non-Null Count  Dtype  \n",
            "---  ------              --------------  -----  \n",
            " 0   user_id             25787 non-null  object \n",
            " 1   user_url            25787 non-null  object \n",
            " 2   funny               8150 non-null   object \n",
            " 3   Fecha_posteo        49159 non-null  float64\n",
            " 4   last_edited         6140 non-null   object \n",
            " 5   item_id             59275 non-null  int64  \n",
            " 6   helpful             59275 non-null  object \n",
            " 7   recommend           59275 non-null  bool   \n",
            " 8   sentiment_analysis  59275 non-null  int64  \n",
            "dtypes: bool(1), float64(1), int64(2), object(5)\n",
            "memory usage: 3.7+ MB\n"
          ]
        }
      ],
      "source": [
        "dfreviews.info()"
      ]
    },
    {
      "cell_type": "code",
      "execution_count": 4,
      "metadata": {
        "colab": {
          "base_uri": "https://localhost:8080/"
        },
        "id": "UFs8dbbHxW3V",
        "outputId": "2008bc2a-2acb-4e21-a741-c001d99f6c3a"
      },
      "outputs": [
        {
          "data": {
            "text/plain": [
              "user_id               33488\n",
              "user_url              33488\n",
              "funny                 51125\n",
              "Fecha_posteo          10116\n",
              "last_edited           53135\n",
              "item_id                   0\n",
              "helpful                   0\n",
              "recommend                 0\n",
              "sentiment_analysis        0\n",
              "dtype: int64"
            ]
          },
          "execution_count": 4,
          "metadata": {},
          "output_type": "execute_result"
        }
      ],
      "source": [
        "dfreviews.isnull().sum()"
      ]
    },
    {
      "cell_type": "code",
      "execution_count": 5,
      "metadata": {
        "colab": {
          "base_uri": "https://localhost:8080/"
        },
        "id": "_nyEcaQLxacQ",
        "outputId": "8a45370c-9287-4b32-e8d3-ce12b064f227"
      },
      "outputs": [
        {
          "name": "stdout",
          "output_type": "stream",
          "text": [
            "user_id               28803\n",
            "user_url              28803\n",
            "funny                 43373\n",
            "Fecha_posteo              0\n",
            "last_edited           44022\n",
            "item_id                   0\n",
            "helpful                   0\n",
            "recommend                 0\n",
            "sentiment_analysis        0\n",
            "dtype: int64\n"
          ]
        }
      ],
      "source": [
        "dfreviews2 = dfreviews.dropna(subset=['Fecha_posteo'])\n",
        "\n",
        "print(dfreviews2.isnull().sum())\n"
      ]
    },
    {
      "cell_type": "code",
      "execution_count": 6,
      "metadata": {
        "id": "9UimejDziksZ"
      },
      "outputs": [],
      "source": [
        "# de este df necesitariamos solo estas columnas 'item_id','Fecha_posteo','recommend', sentiment_analysis\n",
        "dfreviews3= dfreviews2[['item_id','Fecha_posteo','recommend','sentiment_analysis']]"
      ]
    },
    {
      "cell_type": "code",
      "execution_count": 7,
      "metadata": {
        "colab": {
          "base_uri": "https://localhost:8080/",
          "height": 206
        },
        "id": "mS2jiFpPi-eT",
        "outputId": "50aca0f1-5d4b-41d2-97f4-10f26925f9e3"
      },
      "outputs": [
        {
          "data": {
            "text/html": [
              "<div>\n",
              "<style scoped>\n",
              "    .dataframe tbody tr th:only-of-type {\n",
              "        vertical-align: middle;\n",
              "    }\n",
              "\n",
              "    .dataframe tbody tr th {\n",
              "        vertical-align: top;\n",
              "    }\n",
              "\n",
              "    .dataframe thead th {\n",
              "        text-align: right;\n",
              "    }\n",
              "</style>\n",
              "<table border=\"1\" class=\"dataframe\">\n",
              "  <thead>\n",
              "    <tr style=\"text-align: right;\">\n",
              "      <th></th>\n",
              "      <th>item_id</th>\n",
              "      <th>Fecha_posteo</th>\n",
              "      <th>recommend</th>\n",
              "      <th>sentiment_analysis</th>\n",
              "    </tr>\n",
              "  </thead>\n",
              "  <tbody>\n",
              "    <tr>\n",
              "      <th>0</th>\n",
              "      <td>1250</td>\n",
              "      <td>2011.0</td>\n",
              "      <td>True</td>\n",
              "      <td>2</td>\n",
              "    </tr>\n",
              "    <tr>\n",
              "      <th>1</th>\n",
              "      <td>22200</td>\n",
              "      <td>2011.0</td>\n",
              "      <td>True</td>\n",
              "      <td>2</td>\n",
              "    </tr>\n",
              "    <tr>\n",
              "      <th>2</th>\n",
              "      <td>43110</td>\n",
              "      <td>2011.0</td>\n",
              "      <td>True</td>\n",
              "      <td>1</td>\n",
              "    </tr>\n",
              "    <tr>\n",
              "      <th>3</th>\n",
              "      <td>251610</td>\n",
              "      <td>2014.0</td>\n",
              "      <td>True</td>\n",
              "      <td>2</td>\n",
              "    </tr>\n",
              "    <tr>\n",
              "      <th>4</th>\n",
              "      <td>227300</td>\n",
              "      <td>2013.0</td>\n",
              "      <td>True</td>\n",
              "      <td>1</td>\n",
              "    </tr>\n",
              "  </tbody>\n",
              "</table>\n",
              "</div>"
            ],
            "text/plain": [
              "   item_id  Fecha_posteo  recommend  sentiment_analysis\n",
              "0     1250        2011.0       True                   2\n",
              "1    22200        2011.0       True                   2\n",
              "2    43110        2011.0       True                   1\n",
              "3   251610        2014.0       True                   2\n",
              "4   227300        2013.0       True                   1"
            ]
          },
          "execution_count": 7,
          "metadata": {},
          "output_type": "execute_result"
        }
      ],
      "source": [
        "dfreviews3.head()"
      ]
    },
    {
      "cell_type": "code",
      "execution_count": 8,
      "metadata": {
        "colab": {
          "base_uri": "https://localhost:8080/"
        },
        "id": "qZWRqUfHj1Q-",
        "outputId": "e65cc72e-50e5-4332-898f-bc4a34d64854"
      },
      "outputs": [
        {
          "name": "stdout",
          "output_type": "stream",
          "text": [
            "<class 'pandas.core.frame.DataFrame'>\n",
            "RangeIndex: 88310 entries, 0 to 88309\n",
            "Data columns (total 8 columns):\n",
            " #   Column            Non-Null Count  Dtype  \n",
            "---  ------            --------------  -----  \n",
            " 0   user_id           88310 non-null  object \n",
            " 1   items_count       88310 non-null  float64\n",
            " 2   steam_id          88310 non-null  int64  \n",
            " 3   user_url          88310 non-null  object \n",
            " 4   item_id           88310 non-null  int64  \n",
            " 5   item_name         88310 non-null  object \n",
            " 6   playtime_forever  88310 non-null  int64  \n",
            " 7   playtime_2weeks   88310 non-null  int64  \n",
            "dtypes: float64(1), int64(4), object(3)\n",
            "memory usage: 5.4+ MB\n"
          ]
        }
      ],
      "source": [
        "dfitems.info()"
      ]
    },
    {
      "cell_type": "code",
      "execution_count": 9,
      "metadata": {
        "id": "OZKcKMQtkIO0"
      },
      "outputs": [],
      "source": [
        "dfitems2= dfitems[['item_name','item_id']]"
      ]
    },
    {
      "cell_type": "code",
      "execution_count": 10,
      "metadata": {
        "colab": {
          "base_uri": "https://localhost:8080/",
          "height": 206
        },
        "id": "rtPcwJBqkh26",
        "outputId": "b0e09752-8d8a-4d6a-aa21-8cd7adee5f63"
      },
      "outputs": [
        {
          "data": {
            "text/html": [
              "<div>\n",
              "<style scoped>\n",
              "    .dataframe tbody tr th:only-of-type {\n",
              "        vertical-align: middle;\n",
              "    }\n",
              "\n",
              "    .dataframe tbody tr th {\n",
              "        vertical-align: top;\n",
              "    }\n",
              "\n",
              "    .dataframe thead th {\n",
              "        text-align: right;\n",
              "    }\n",
              "</style>\n",
              "<table border=\"1\" class=\"dataframe\">\n",
              "  <thead>\n",
              "    <tr style=\"text-align: right;\">\n",
              "      <th></th>\n",
              "      <th>item_name</th>\n",
              "      <th>item_id</th>\n",
              "    </tr>\n",
              "  </thead>\n",
              "  <tbody>\n",
              "    <tr>\n",
              "      <th>0</th>\n",
              "      <td>Counter-Strike</td>\n",
              "      <td>10</td>\n",
              "    </tr>\n",
              "    <tr>\n",
              "      <th>1</th>\n",
              "      <td>Team Fortress Classic</td>\n",
              "      <td>20</td>\n",
              "    </tr>\n",
              "    <tr>\n",
              "      <th>2</th>\n",
              "      <td>Day of Defeat</td>\n",
              "      <td>30</td>\n",
              "    </tr>\n",
              "    <tr>\n",
              "      <th>3</th>\n",
              "      <td>Deathmatch Classic</td>\n",
              "      <td>40</td>\n",
              "    </tr>\n",
              "    <tr>\n",
              "      <th>4</th>\n",
              "      <td>Half-Life: Opposing Force</td>\n",
              "      <td>50</td>\n",
              "    </tr>\n",
              "  </tbody>\n",
              "</table>\n",
              "</div>"
            ],
            "text/plain": [
              "                   item_name  item_id\n",
              "0             Counter-Strike       10\n",
              "1      Team Fortress Classic       20\n",
              "2              Day of Defeat       30\n",
              "3         Deathmatch Classic       40\n",
              "4  Half-Life: Opposing Force       50"
            ]
          },
          "execution_count": 10,
          "metadata": {},
          "output_type": "execute_result"
        }
      ],
      "source": [
        "dfitems2.head()"
      ]
    },
    {
      "cell_type": "code",
      "execution_count": 11,
      "metadata": {
        "colab": {
          "base_uri": "https://localhost:8080/"
        },
        "id": "tMqvlE8nk2Da",
        "outputId": "f95d0253-4784-4a75-8252-fa1de1e8901e"
      },
      "outputs": [
        {
          "name": "stdout",
          "output_type": "stream",
          "text": [
            "<class 'pandas.core.frame.DataFrame'>\n",
            "RangeIndex: 88310 entries, 0 to 88309\n",
            "Data columns (total 2 columns):\n",
            " #   Column     Non-Null Count  Dtype \n",
            "---  ------     --------------  ----- \n",
            " 0   item_name  88310 non-null  object\n",
            " 1   item_id    88310 non-null  int64 \n",
            "dtypes: int64(1), object(1)\n",
            "memory usage: 1.3+ MB\n"
          ]
        }
      ],
      "source": [
        "dfitems2.info()"
      ]
    },
    {
      "cell_type": "code",
      "execution_count": 12,
      "metadata": {
        "id": "1DSGUdAtk4YC"
      },
      "outputs": [],
      "source": [
        "# unimos nuestros df por medio de item_id\n",
        "merged_df = pd.merge(dfreviews3, dfitems2, on='item_id', how='inner')\n"
      ]
    },
    {
      "cell_type": "code",
      "execution_count": 13,
      "metadata": {
        "colab": {
          "base_uri": "https://localhost:8080/"
        },
        "id": "Ii56Nkn9lO7w",
        "outputId": "49faa9b9-a63a-4ac4-f865-092c8a138935"
      },
      "outputs": [
        {
          "name": "stdout",
          "output_type": "stream",
          "text": [
            "<class 'pandas.core.frame.DataFrame'>\n",
            "RangeIndex: 9535143 entries, 0 to 9535142\n",
            "Data columns (total 5 columns):\n",
            " #   Column              Dtype  \n",
            "---  ------              -----  \n",
            " 0   item_id             int64  \n",
            " 1   Fecha_posteo        float64\n",
            " 2   recommend           bool   \n",
            " 3   sentiment_analysis  int64  \n",
            " 4   item_name           object \n",
            "dtypes: bool(1), float64(1), int64(2), object(1)\n",
            "memory usage: 300.1+ MB\n"
          ]
        }
      ],
      "source": [
        "merged_df.info()"
      ]
    },
    {
      "cell_type": "code",
      "execution_count": 14,
      "metadata": {
        "colab": {
          "base_uri": "https://localhost:8080/",
          "height": 206
        },
        "id": "-rNDg7KXlTXe",
        "outputId": "a7c8738d-8bfc-4e93-ef12-417535e7a685"
      },
      "outputs": [
        {
          "data": {
            "text/html": [
              "<div>\n",
              "<style scoped>\n",
              "    .dataframe tbody tr th:only-of-type {\n",
              "        vertical-align: middle;\n",
              "    }\n",
              "\n",
              "    .dataframe tbody tr th {\n",
              "        vertical-align: top;\n",
              "    }\n",
              "\n",
              "    .dataframe thead th {\n",
              "        text-align: right;\n",
              "    }\n",
              "</style>\n",
              "<table border=\"1\" class=\"dataframe\">\n",
              "  <thead>\n",
              "    <tr style=\"text-align: right;\">\n",
              "      <th></th>\n",
              "      <th>item_id</th>\n",
              "      <th>Fecha_posteo</th>\n",
              "      <th>recommend</th>\n",
              "      <th>sentiment_analysis</th>\n",
              "      <th>item_name</th>\n",
              "    </tr>\n",
              "  </thead>\n",
              "  <tbody>\n",
              "    <tr>\n",
              "      <th>0</th>\n",
              "      <td>1250</td>\n",
              "      <td>2011.0</td>\n",
              "      <td>True</td>\n",
              "      <td>2</td>\n",
              "      <td>Killing Floor</td>\n",
              "    </tr>\n",
              "    <tr>\n",
              "      <th>1</th>\n",
              "      <td>1250</td>\n",
              "      <td>2011.0</td>\n",
              "      <td>True</td>\n",
              "      <td>2</td>\n",
              "      <td>Killing Floor</td>\n",
              "    </tr>\n",
              "    <tr>\n",
              "      <th>2</th>\n",
              "      <td>1250</td>\n",
              "      <td>2011.0</td>\n",
              "      <td>True</td>\n",
              "      <td>2</td>\n",
              "      <td>Killing Floor</td>\n",
              "    </tr>\n",
              "    <tr>\n",
              "      <th>3</th>\n",
              "      <td>1250</td>\n",
              "      <td>2011.0</td>\n",
              "      <td>True</td>\n",
              "      <td>2</td>\n",
              "      <td>Killing Floor</td>\n",
              "    </tr>\n",
              "    <tr>\n",
              "      <th>4</th>\n",
              "      <td>1250</td>\n",
              "      <td>2011.0</td>\n",
              "      <td>True</td>\n",
              "      <td>2</td>\n",
              "      <td>Killing Floor</td>\n",
              "    </tr>\n",
              "  </tbody>\n",
              "</table>\n",
              "</div>"
            ],
            "text/plain": [
              "   item_id  Fecha_posteo  recommend  sentiment_analysis      item_name\n",
              "0     1250        2011.0       True                   2  Killing Floor\n",
              "1     1250        2011.0       True                   2  Killing Floor\n",
              "2     1250        2011.0       True                   2  Killing Floor\n",
              "3     1250        2011.0       True                   2  Killing Floor\n",
              "4     1250        2011.0       True                   2  Killing Floor"
            ]
          },
          "execution_count": 14,
          "metadata": {},
          "output_type": "execute_result"
        }
      ],
      "source": [
        "merged_df.head()"
      ]
    },
    {
      "cell_type": "code",
      "execution_count": 15,
      "metadata": {
        "id": "BS_MScH7yJT4"
      },
      "outputs": [],
      "source": [
        "# para achicar el df aca nos quedamos solo con el valor 0 y los False\n",
        "merged_df = merged_df[merged_df['sentiment_analysis'] == 0]"
      ]
    },
    {
      "cell_type": "code",
      "execution_count": 16,
      "metadata": {
        "id": "2bEaesBC1flZ"
      },
      "outputs": [],
      "source": [
        "merged_df = merged_df[merged_df['recommend'] == False]"
      ]
    },
    {
      "cell_type": "code",
      "execution_count": 17,
      "metadata": {
        "colab": {
          "base_uri": "https://localhost:8080/"
        },
        "id": "tXIExNGTyN9g",
        "outputId": "69cf641c-ef9f-4c18-96ad-86ba13e96962"
      },
      "outputs": [
        {
          "name": "stdout",
          "output_type": "stream",
          "text": [
            "<class 'pandas.core.frame.DataFrame'>\n",
            "Index: 301684 entries, 6641 to 9535125\n",
            "Data columns (total 5 columns):\n",
            " #   Column              Non-Null Count   Dtype  \n",
            "---  ------              --------------   -----  \n",
            " 0   item_id             301684 non-null  int64  \n",
            " 1   Fecha_posteo        301684 non-null  float64\n",
            " 2   recommend           301684 non-null  bool   \n",
            " 3   sentiment_analysis  301684 non-null  int64  \n",
            " 4   item_name           301684 non-null  object \n",
            "dtypes: bool(1), float64(1), int64(2), object(1)\n",
            "memory usage: 11.8+ MB\n"
          ]
        }
      ],
      "source": [
        "merged_df.info()"
      ]
    },
    {
      "cell_type": "code",
      "execution_count": 18,
      "metadata": {
        "colab": {
          "base_uri": "https://localhost:8080/"
        },
        "id": "hT3HxFXoyRI_",
        "outputId": "fc28ceda-6337-4ea7-b13e-0c470d876967"
      },
      "outputs": [
        {
          "data": {
            "text/plain": [
              "item_id               0\n",
              "Fecha_posteo          0\n",
              "recommend             0\n",
              "sentiment_analysis    0\n",
              "item_name             0\n",
              "dtype: int64"
            ]
          },
          "execution_count": 18,
          "metadata": {},
          "output_type": "execute_result"
        }
      ],
      "source": [
        "merged_df.isnull().sum()"
      ]
    },
    {
      "cell_type": "code",
      "execution_count": 19,
      "metadata": {
        "colab": {
          "base_uri": "https://localhost:8080/"
        },
        "id": "OtvZwhDZnkIr",
        "outputId": "f7d56e2b-2fcb-4054-82aa-6ed5cb638c06"
      },
      "outputs": [
        {
          "name": "stdout",
          "output_type": "stream",
          "text": [
            "Valor Mínimo: 2011.0\n",
            "Valor Máximo: 2015.0\n"
          ]
        }
      ],
      "source": [
        "# veamos lo rangos de fecha para solicitar el imput\n",
        "valor_minimo = merged_df['Fecha_posteo'].min()\n",
        "valor_maximo = merged_df['Fecha_posteo'].max()\n",
        "\n",
        "print(\"Valor Mínimo:\", valor_minimo)\n",
        "print(\"Valor Máximo:\", valor_maximo)\n"
      ]
    },
    {
      "cell_type": "code",
      "execution_count": 21,
      "metadata": {
        "id": "7vXf2iV2TvZ6"
      },
      "outputs": [],
      "source": [
        "merged_df['Fecha_posteo'] = merged_df['Fecha_posteo'].astype(int)\n"
      ]
    },
    {
      "cell_type": "code",
      "execution_count": 22,
      "metadata": {
        "colab": {
          "base_uri": "https://localhost:8080/",
          "height": 424
        },
        "id": "tBjN4ViJTyb7",
        "outputId": "68f071e0-a8cb-4166-85a4-0193386ef4b6"
      },
      "outputs": [
        {
          "data": {
            "text/html": [
              "<div>\n",
              "<style scoped>\n",
              "    .dataframe tbody tr th:only-of-type {\n",
              "        vertical-align: middle;\n",
              "    }\n",
              "\n",
              "    .dataframe tbody tr th {\n",
              "        vertical-align: top;\n",
              "    }\n",
              "\n",
              "    .dataframe thead th {\n",
              "        text-align: right;\n",
              "    }\n",
              "</style>\n",
              "<table border=\"1\" class=\"dataframe\">\n",
              "  <thead>\n",
              "    <tr style=\"text-align: right;\">\n",
              "      <th></th>\n",
              "      <th>item_id</th>\n",
              "      <th>Fecha_posteo</th>\n",
              "      <th>recommend</th>\n",
              "      <th>sentiment_analysis</th>\n",
              "      <th>item_name</th>\n",
              "    </tr>\n",
              "  </thead>\n",
              "  <tbody>\n",
              "    <tr>\n",
              "      <th>6641</th>\n",
              "      <td>1250</td>\n",
              "      <td>2014</td>\n",
              "      <td>False</td>\n",
              "      <td>0</td>\n",
              "      <td>Killing Floor</td>\n",
              "    </tr>\n",
              "    <tr>\n",
              "      <th>6642</th>\n",
              "      <td>1250</td>\n",
              "      <td>2014</td>\n",
              "      <td>False</td>\n",
              "      <td>0</td>\n",
              "      <td>Killing Floor</td>\n",
              "    </tr>\n",
              "    <tr>\n",
              "      <th>6643</th>\n",
              "      <td>1250</td>\n",
              "      <td>2014</td>\n",
              "      <td>False</td>\n",
              "      <td>0</td>\n",
              "      <td>Killing Floor</td>\n",
              "    </tr>\n",
              "    <tr>\n",
              "      <th>6644</th>\n",
              "      <td>1250</td>\n",
              "      <td>2014</td>\n",
              "      <td>False</td>\n",
              "      <td>0</td>\n",
              "      <td>Killing Floor</td>\n",
              "    </tr>\n",
              "    <tr>\n",
              "      <th>6645</th>\n",
              "      <td>1250</td>\n",
              "      <td>2014</td>\n",
              "      <td>False</td>\n",
              "      <td>0</td>\n",
              "      <td>Killing Floor</td>\n",
              "    </tr>\n",
              "    <tr>\n",
              "      <th>...</th>\n",
              "      <td>...</td>\n",
              "      <td>...</td>\n",
              "      <td>...</td>\n",
              "      <td>...</td>\n",
              "      <td>...</td>\n",
              "    </tr>\n",
              "    <tr>\n",
              "      <th>9535107</th>\n",
              "      <td>209630</td>\n",
              "      <td>2014</td>\n",
              "      <td>False</td>\n",
              "      <td>0</td>\n",
              "      <td>Magrunner: Dark Pulse</td>\n",
              "    </tr>\n",
              "    <tr>\n",
              "      <th>9535108</th>\n",
              "      <td>209630</td>\n",
              "      <td>2014</td>\n",
              "      <td>False</td>\n",
              "      <td>0</td>\n",
              "      <td>Magrunner: Dark Pulse</td>\n",
              "    </tr>\n",
              "    <tr>\n",
              "      <th>9535123</th>\n",
              "      <td>305920</td>\n",
              "      <td>2015</td>\n",
              "      <td>False</td>\n",
              "      <td>0</td>\n",
              "      <td>Another Perspective</td>\n",
              "    </tr>\n",
              "    <tr>\n",
              "      <th>9535124</th>\n",
              "      <td>305920</td>\n",
              "      <td>2015</td>\n",
              "      <td>False</td>\n",
              "      <td>0</td>\n",
              "      <td>Another Perspective</td>\n",
              "    </tr>\n",
              "    <tr>\n",
              "      <th>9535125</th>\n",
              "      <td>305920</td>\n",
              "      <td>2015</td>\n",
              "      <td>False</td>\n",
              "      <td>0</td>\n",
              "      <td>Another Perspective</td>\n",
              "    </tr>\n",
              "  </tbody>\n",
              "</table>\n",
              "<p>301684 rows × 5 columns</p>\n",
              "</div>"
            ],
            "text/plain": [
              "         item_id  Fecha_posteo  recommend  sentiment_analysis  \\\n",
              "6641        1250          2014      False                   0   \n",
              "6642        1250          2014      False                   0   \n",
              "6643        1250          2014      False                   0   \n",
              "6644        1250          2014      False                   0   \n",
              "6645        1250          2014      False                   0   \n",
              "...          ...           ...        ...                 ...   \n",
              "9535107   209630          2014      False                   0   \n",
              "9535108   209630          2014      False                   0   \n",
              "9535123   305920          2015      False                   0   \n",
              "9535124   305920          2015      False                   0   \n",
              "9535125   305920          2015      False                   0   \n",
              "\n",
              "                     item_name  \n",
              "6641             Killing Floor  \n",
              "6642             Killing Floor  \n",
              "6643             Killing Floor  \n",
              "6644             Killing Floor  \n",
              "6645             Killing Floor  \n",
              "...                        ...  \n",
              "9535107  Magrunner: Dark Pulse  \n",
              "9535108  Magrunner: Dark Pulse  \n",
              "9535123    Another Perspective  \n",
              "9535124    Another Perspective  \n",
              "9535125    Another Perspective  \n",
              "\n",
              "[301684 rows x 5 columns]"
            ]
          },
          "execution_count": 22,
          "metadata": {},
          "output_type": "execute_result"
        }
      ],
      "source": [
        "merged_df\n"
      ]
    },
    {
      "cell_type": "code",
      "execution_count": 25,
      "metadata": {},
      "outputs": [
        {
          "data": {
            "image/png": "[encoded data removed]",
            "text/plain": [
              "<Figure size 1000x600 with 1 Axes>"
            ]
          },
          "metadata": {},
          "output_type": "display_data"
        }
      ],
      "source": [
        "import pandas as pd\n",
        "import matplotlib.pyplot as plt\n",
        "\n",
        "sentimientos_negativos = merged_df[merged_df['sentiment_analysis'] == 0]\n",
        "\n",
        "# Cuenta cuántas veces aparece cada juego\n",
        "top_juegos_negativos = sentimientos_negativos['item_name'].value_counts().head(5)\n",
        "\n",
        "# Grafica el top 5 de juegos con sentimientos negativos\n",
        "top_juegos_negativos.plot(kind='bar', figsize=(10, 6))\n",
        "plt.title('Top 5 de Juegos con Sentimientos Negativos')\n",
        "plt.xlabel('Juego')\n",
        "plt.ylabel('Cantidad de Sentimientos Negativos')\n",
        "plt.show()\n",
        "\n"
      ]
    },
    {
      "cell_type": "code",
      "execution_count": 26,
      "metadata": {},
      "outputs": [],
      "source": [
        "# Vamos a reducirlo a la mitad por una cuestion de espacio en render \n",
        "df_reducido = merged_df.sample(frac=0.5, random_state=1)"
      ]
    },
    {
      "cell_type": "code",
      "execution_count": 28,
      "metadata": {},
      "outputs": [
        {
          "name": "stdout",
          "output_type": "stream",
          "text": [
            "<class 'pandas.core.frame.DataFrame'>\n",
            "Index: 150842 entries, 8533128 to 3708605\n",
            "Data columns (total 5 columns):\n",
            " #   Column              Non-Null Count   Dtype \n",
            "---  ------              --------------   ----- \n",
            " 0   item_id             150842 non-null  int64 \n",
            " 1   Fecha_posteo        150842 non-null  int32 \n",
            " 2   recommend           150842 non-null  bool  \n",
            " 3   sentiment_analysis  150842 non-null  int64 \n",
            " 4   item_name           150842 non-null  object\n",
            "dtypes: bool(1), int32(1), int64(2), object(1)\n",
            "memory usage: 5.3+ MB\n"
          ]
        }
      ],
      "source": [
        "df_reducido.info()"
      ]
    },
    {
      "cell_type": "code",
      "execution_count": 27,
      "metadata": {},
      "outputs": [],
      "source": [
        "archivo = 'df_4reducido.parquet'\n",
        "# exportamos el df a un archivo Parquet.\n",
        "df_reducido.to_parquet(archivo, index=False)"
      ]
    },
    {
      "cell_type": "code",
      "execution_count": 29,
      "metadata": {},
      "outputs": [],
      "source": [
        "archivo = 'df_4reducido.parquet'\n",
        "# vargamos el archivo \n",
        "df = pd.read_parquet(archivo)"
      ]
    },
    {
      "cell_type": "code",
      "execution_count": 30,
      "metadata": {
        "id": "akCRosAVf9qc"
      },
      "outputs": [],
      "source": [
        "def UsersNotRecommend(year:int):\n",
        "    # Filtra el DataFrame para el año especificado y donde 'recommend' es True\n",
        "    juegos_recomendados = df[(df['Fecha_posteo'] == year) & (df['recommend'] == False)]\n",
        "\n",
        "    # Verifica si no hay datos para ese año\n",
        "    if juegos_recomendados.empty:\n",
        "        return (\"No hay datos para ese año\", year)\n",
        "\n",
        "    # Agrupa por el nombre del juego y cuenta las recomendaciones\n",
        "    juegos_agrupados = juegos_recomendados['item_name'].value_counts().reset_index()\n",
        "    juegos_agrupados.columns = ['Juego', 'Recomendaciones']\n",
        "\n",
        "    # Ordena los juegos por número de recomendaciones de mayor a menor\n",
        "    juegos_ordenados = juegos_agrupados.sort_values(by='Recomendaciones', ascending=False)\n",
        "\n",
        "    # Toma los 3 juegos con más recomendaciones\n",
        "    top_3_juegos = juegos_ordenados.head(3)\n",
        "\n",
        "    # Formatea los resultados en la estructura deseada\n",
        "    resultado = []\n",
        "    for i, row in top_3_juegos.iterrows():\n",
        "        resultado.append({\"Puesto \" + str(i + 1): row['Juego']})\n",
        "\n",
        "    return resultado\n"
      ]
    },
    {
      "cell_type": "code",
      "execution_count": 33,
      "metadata": {
        "colab": {
          "base_uri": "https://localhost:8080/"
        },
        "id": "MZHJtsZHenLu",
        "outputId": "80cf30c2-6504-4878-d880-2e08611caead"
      },
      "outputs": [
        {
          "name": "stdout",
          "output_type": "stream",
          "text": [
            "[{'Puesto 1': 'War Inc. Battlezone'}, {'Puesto 2': 'From Dust'}, {'Puesto 3': 'And Yet It Moves'}]\n"
          ]
        }
      ],
      "source": [
        "top_3_juegos = UsersNotRecommend(2011)\n",
        "print(top_3_juegos)\n"
      ]
    },
    {
      "cell_type": "code",
      "execution_count": 34,
      "metadata": {
        "colab": {
          "base_uri": "https://localhost:8080/"
        },
        "id": "gF47EAU9fJlm",
        "outputId": "19d55984-f1bf-474d-c11a-a3c8a72d92a8"
      },
      "outputs": [
        {
          "name": "stdout",
          "output_type": "stream",
          "text": [
            "{'2010': ('No hay datos para ese año', 2010)}\n",
            "{'2011': [{'Puesto 1': 'War Inc. Battlezone'}, {'Puesto 2': 'From Dust'}, {'Puesto 3': 'And Yet It Moves'}]}\n",
            "{'2012': [{'Puesto 1': 'Red Faction: Armageddon'}, {'Puesto 2': \"The Kings' Crusade\"}, {'Puesto 3': 'Resident Evil™: Operation Raccoon City'}]}\n",
            "{'2013': [{'Puesto 1': \"Garry's Mod\"}, {'Puesto 2': 'No More Room in Hell'}, {'Puesto 3': 'PlanetSide 2'}]}\n",
            "{'2014': [{'Puesto 1': 'Counter-Strike: Global Offensive'}, {'Puesto 2': 'Unturned'}, {'Puesto 3': \"Garry's Mod\"}]}\n",
            "{'2015': [{'Puesto 1': 'Counter-Strike: Global Offensive'}, {'Puesto 2': 'PAYDAY 2'}, {'Puesto 3': 'Unturned'}]}\n",
            "{'2016': ('No hay datos para ese año', 2016)}\n",
            "{'2017': ('No hay datos para ese año', 2017)}\n",
            "{'2018': ('No hay datos para ese año', 2018)}\n",
            "{'2019': ('No hay datos para ese año', 2019)}\n",
            "{'2020': ('No hay datos para ese año', 2020)}\n",
            "{'2021': ('No hay datos para ese año', 2021)}\n",
            "{'2022': ('No hay datos para ese año', 2022)}\n"
          ]
        }
      ],
      "source": [
        "# Lista para almacenar los resultados por año\n",
        "resultados_por_año = []\n",
        "\n",
        "# Itera desde el año 2010 hasta el 2015\n",
        "for año in range(2010, 2023):\n",
        "    # Llama a la función UsersRecommend para el año actual\n",
        "    top_3_juegos_año = UsersNotRecommend(año)\n",
        "\n",
        "    # Agrega el resultado a la lista de resultados por año\n",
        "    resultados_por_año.append({str(año): top_3_juegos_año})\n",
        "\n",
        "# Imprime los resultados\n",
        "for resultado in resultados_por_año:\n",
        "    print(resultado)\n"
      ]
    }
  ],
  "metadata": {
    "colab": {
      "provenance": []
    },
    "kernelspec": {
      "display_name": "Python 3",
      "name": "python3"
    },
    "language_info": {
      "codemirror_mode": {
        "name": "ipython",
        "version": 3
      },
      "file_extension": ".py",
      "mimetype": "text/x-python",
      "name": "python",
      "nbconvert_exporter": "python",
      "pygments_lexer": "ipython3",
      "version": "3.11.3"
    }
  },
  "nbformat": 4,
  "nbformat_minor": 0
}
