{
  "cells": [
    {
      "cell_type": "markdown",
      "metadata": {
        "id": "HkmG2XY8l5xU"
      },
      "source": [
        "def UsersNotRecommend( año : int ): Devuelve el top 3 de juegos mas recomendados por usuarios para el año dado. (reviews.recommend = False y comentarios negativos)"
      ]
    },
    {
      "cell_type": "code",
      "execution_count": 1,
      "metadata": {
        "id": "Q9505mnsl3Qq"
      },
      "outputs": [],
      "source": [
        "import pandas as pd\n",
        "\n",
        "archivo_csv1 = 'gamescompleto.csv'\n",
        "archivo_csv2 = 'itemscompleto.csv'\n",
        "archivo_csv3 = 'df_reviews_completo3sin23.csv'\n",
        "\n",
        "dfgames = pd.read_csv(archivo_csv1)\n",
        "dfitems = pd.read_csv(archivo_csv2)\n",
        "dfreviews = pd.read_csv(archivo_csv3)"
      ]
    },
    {
      "cell_type": "code",
      "execution_count": 2,
      "metadata": {
        "colab": {
          "base_uri": "https://localhost:8080/",
          "height": 206
        },
        "id": "hFXXivmOxFac",
        "outputId": "37e1b1ff-4274-464f-ea2b-ac8b83d1c038"
      },
      "outputs": [
        {
          "data": {
            "text/html": [
              "<div>\n",
              "<style scoped>\n",
              "    .dataframe tbody tr th:only-of-type {\n",
              "        vertical-align: middle;\n",
              "    }\n",
              "\n",
              "    .dataframe tbody tr th {\n",
              "        vertical-align: top;\n",
              "    }\n",
              "\n",
              "    .dataframe thead th {\n",
              "        text-align: right;\n",
              "    }\n",
              "</style>\n",
              "<table border=\"1\" class=\"dataframe\">\n",
              "  <thead>\n",
              "    <tr style=\"text-align: right;\">\n",
              "      <th></th>\n",
              "      <th>user_id</th>\n",
              "      <th>user_url</th>\n",
              "      <th>funny</th>\n",
              "      <th>Fecha_posteo</th>\n",
              "      <th>last_edited</th>\n",
              "      <th>item_id</th>\n",
              "      <th>helpful</th>\n",
              "      <th>recommend</th>\n",
              "      <th>sentiment_analysis</th>\n",
              "    </tr>\n",
              "  </thead>\n",
              "  <tbody>\n",
              "    <tr>\n",
              "      <th>0</th>\n",
              "      <td>76561197970982479</td>\n",
              "      <td>http://steamcommunity.com/profiles/76561197970...</td>\n",
              "      <td>NaN</td>\n",
              "      <td>2011.0</td>\n",
              "      <td>NaN</td>\n",
              "      <td>1250</td>\n",
              "      <td>No ratings yet</td>\n",
              "      <td>True</td>\n",
              "      <td>2</td>\n",
              "    </tr>\n",
              "    <tr>\n",
              "      <th>1</th>\n",
              "      <td>js41637</td>\n",
              "      <td>http://steamcommunity.com/id/js41637</td>\n",
              "      <td>NaN</td>\n",
              "      <td>2011.0</td>\n",
              "      <td>NaN</td>\n",
              "      <td>22200</td>\n",
              "      <td>No ratings yet</td>\n",
              "      <td>True</td>\n",
              "      <td>2</td>\n",
              "    </tr>\n",
              "    <tr>\n",
              "      <th>2</th>\n",
              "      <td>evcentric</td>\n",
              "      <td>http://steamcommunity.com/id/evcentric</td>\n",
              "      <td>NaN</td>\n",
              "      <td>2011.0</td>\n",
              "      <td>NaN</td>\n",
              "      <td>43110</td>\n",
              "      <td>No ratings yet</td>\n",
              "      <td>True</td>\n",
              "      <td>1</td>\n",
              "    </tr>\n",
              "    <tr>\n",
              "      <th>3</th>\n",
              "      <td>doctr</td>\n",
              "      <td>http://steamcommunity.com/id/doctr</td>\n",
              "      <td>NaN</td>\n",
              "      <td>2014.0</td>\n",
              "      <td>NaN</td>\n",
              "      <td>251610</td>\n",
              "      <td>15 of 20 people (75%) found this review helpful</td>\n",
              "      <td>True</td>\n",
              "      <td>2</td>\n",
              "    </tr>\n",
              "    <tr>\n",
              "      <th>4</th>\n",
              "      <td>maplemage</td>\n",
              "      <td>http://steamcommunity.com/id/maplemage</td>\n",
              "      <td>NaN</td>\n",
              "      <td>2013.0</td>\n",
              "      <td>NaN</td>\n",
              "      <td>227300</td>\n",
              "      <td>0 of 1 people (0%) found this review helpful</td>\n",
              "      <td>True</td>\n",
              "      <td>1</td>\n",
              "    </tr>\n",
              "  </tbody>\n",
              "</table>\n",
              "</div>"
            ],
            "text/plain": [
              "             user_id                                           user_url funny  \\\n",
              "0  76561197970982479  http://steamcommunity.com/profiles/76561197970...   NaN   \n",
              "1            js41637               http://steamcommunity.com/id/js41637   NaN   \n",
              "2          evcentric             http://steamcommunity.com/id/evcentric   NaN   \n",
              "3              doctr                 http://steamcommunity.com/id/doctr   NaN   \n",
              "4          maplemage             http://steamcommunity.com/id/maplemage   NaN   \n",
              "\n",
              "   Fecha_posteo last_edited  item_id  \\\n",
              "0        2011.0         NaN     1250   \n",
              "1        2011.0         NaN    22200   \n",
              "2        2011.0         NaN    43110   \n",
              "3        2014.0         NaN   251610   \n",
              "4        2013.0         NaN   227300   \n",
              "\n",
              "                                           helpful  recommend  \\\n",
              "0                                   No ratings yet       True   \n",
              "1                                   No ratings yet       True   \n",
              "2                                   No ratings yet       True   \n",
              "3  15 of 20 people (75%) found this review helpful       True   \n",
              "4     0 of 1 people (0%) found this review helpful       True   \n",
              "\n",
              "   sentiment_analysis  \n",
              "0                   2  \n",
              "1                   2  \n",
              "2                   1  \n",
              "3                   2  \n",
              "4                   1  "
            ]
          },
          "execution_count": 2,
          "metadata": {},
          "output_type": "execute_result"
        }
      ],
      "source": [
        "dfreviews.head()"
      ]
    },
    {
      "cell_type": "code",
      "execution_count": 3,
      "metadata": {
        "colab": {
          "base_uri": "https://localhost:8080/"
        },
        "id": "9owPNWDbxGu5",
        "outputId": "f6c26ac3-23c6-4a22-bff4-2444f15ee6a8"
      },
      "outputs": [
        {
          "name": "stdout",
          "output_type": "stream",
          "text": [
            "<class 'pandas.core.frame.DataFrame'>\n",
            "RangeIndex: 59275 entries, 0 to 59274\n",
            "Data columns (total 9 columns):\n",
            " #   Column              Non-Null Count  Dtype  \n",
            "---  ------              --------------  -----  \n",
            " 0   user_id             25787 non-null  object \n",
            " 1   user_url            25787 non-null  object \n",
            " 2   funny               8150 non-null   object \n",
            " 3   Fecha_posteo        49159 non-null  float64\n",
            " 4   last_edited         6140 non-null   object \n",
            " 5   item_id             59275 non-null  int64  \n",
            " 6   helpful             59275 non-null  object \n",
            " 7   recommend           59275 non-null  bool   \n",
            " 8   sentiment_analysis  59275 non-null  int64  \n",
            "dtypes: bool(1), float64(1), int64(2), object(5)\n",
            "memory usage: 3.7+ MB\n"
          ]
        }
      ],
      "source": [
        "dfreviews.info()"
      ]
    },
    {
      "cell_type": "code",
      "execution_count": 4,
      "metadata": {
        "colab": {
          "base_uri": "https://localhost:8080/"
        },
        "id": "UFs8dbbHxW3V",
        "outputId": "5a78dbaa-8c26-4ef9-f1db-dd690950761d"
      },
      "outputs": [
        {
          "data": {
            "text/plain": [
              "user_id               33488\n",
              "user_url              33488\n",
              "funny                 51125\n",
              "Fecha_posteo          10116\n",
              "last_edited           53135\n",
              "item_id                   0\n",
              "helpful                   0\n",
              "recommend                 0\n",
              "sentiment_analysis        0\n",
              "dtype: int64"
            ]
          },
          "execution_count": 4,
          "metadata": {},
          "output_type": "execute_result"
        }
      ],
      "source": [
        "dfreviews.isnull().sum()"
      ]
    },
    {
      "cell_type": "code",
      "execution_count": 5,
      "metadata": {
        "colab": {
          "base_uri": "https://localhost:8080/"
        },
        "id": "_nyEcaQLxacQ",
        "outputId": "d693e77c-117f-4157-ce42-191ad7bb18e9"
      },
      "outputs": [
        {
          "name": "stdout",
          "output_type": "stream",
          "text": [
            "user_id               28803\n",
            "user_url              28803\n",
            "funny                 43373\n",
            "Fecha_posteo              0\n",
            "last_edited           44022\n",
            "item_id                   0\n",
            "helpful                   0\n",
            "recommend                 0\n",
            "sentiment_analysis        0\n",
            "dtype: int64\n"
          ]
        }
      ],
      "source": [
        "# vamos a limpiar un poco la columna que nos interesa\n",
        "dfreviews2 = dfreviews.dropna(subset=['Fecha_posteo'])\n",
        "\n",
        "print(dfreviews2.isnull().sum())"
      ]
    },
    {
      "cell_type": "code",
      "execution_count": 6,
      "metadata": {
        "id": "9UimejDziksZ"
      },
      "outputs": [],
      "source": [
        "# de este df necesitariamos solo estas columnas 'item_id','Fecha_posteo','recommend', sentiment_analysis\n",
        "dfreviews3= dfreviews2[['item_id','Fecha_posteo','recommend','sentiment_analysis']]"
      ]
    },
    {
      "cell_type": "code",
      "execution_count": 7,
      "metadata": {
        "colab": {
          "base_uri": "https://localhost:8080/",
          "height": 206
        },
        "id": "mS2jiFpPi-eT",
        "outputId": "1992355f-e7bc-4109-f5e3-ab3560ed7e6f"
      },
      "outputs": [
        {
          "data": {
            "text/html": [
              "<div>\n",
              "<style scoped>\n",
              "    .dataframe tbody tr th:only-of-type {\n",
              "        vertical-align: middle;\n",
              "    }\n",
              "\n",
              "    .dataframe tbody tr th {\n",
              "        vertical-align: top;\n",
              "    }\n",
              "\n",
              "    .dataframe thead th {\n",
              "        text-align: right;\n",
              "    }\n",
              "</style>\n",
              "<table border=\"1\" class=\"dataframe\">\n",
              "  <thead>\n",
              "    <tr style=\"text-align: right;\">\n",
              "      <th></th>\n",
              "      <th>item_id</th>\n",
              "      <th>Fecha_posteo</th>\n",
              "      <th>recommend</th>\n",
              "      <th>sentiment_analysis</th>\n",
              "    </tr>\n",
              "  </thead>\n",
              "  <tbody>\n",
              "    <tr>\n",
              "      <th>0</th>\n",
              "      <td>1250</td>\n",
              "      <td>2011.0</td>\n",
              "      <td>True</td>\n",
              "      <td>2</td>\n",
              "    </tr>\n",
              "    <tr>\n",
              "      <th>1</th>\n",
              "      <td>22200</td>\n",
              "      <td>2011.0</td>\n",
              "      <td>True</td>\n",
              "      <td>2</td>\n",
              "    </tr>\n",
              "    <tr>\n",
              "      <th>2</th>\n",
              "      <td>43110</td>\n",
              "      <td>2011.0</td>\n",
              "      <td>True</td>\n",
              "      <td>1</td>\n",
              "    </tr>\n",
              "    <tr>\n",
              "      <th>3</th>\n",
              "      <td>251610</td>\n",
              "      <td>2014.0</td>\n",
              "      <td>True</td>\n",
              "      <td>2</td>\n",
              "    </tr>\n",
              "    <tr>\n",
              "      <th>4</th>\n",
              "      <td>227300</td>\n",
              "      <td>2013.0</td>\n",
              "      <td>True</td>\n",
              "      <td>1</td>\n",
              "    </tr>\n",
              "  </tbody>\n",
              "</table>\n",
              "</div>"
            ],
            "text/plain": [
              "   item_id  Fecha_posteo  recommend  sentiment_analysis\n",
              "0     1250        2011.0       True                   2\n",
              "1    22200        2011.0       True                   2\n",
              "2    43110        2011.0       True                   1\n",
              "3   251610        2014.0       True                   2\n",
              "4   227300        2013.0       True                   1"
            ]
          },
          "execution_count": 7,
          "metadata": {},
          "output_type": "execute_result"
        }
      ],
      "source": [
        "dfreviews3.head()"
      ]
    },
    {
      "cell_type": "code",
      "execution_count": 9,
      "metadata": {},
      "outputs": [
        {
          "data": {
            "image/png": "[encoded data removed]",
            "text/plain": [
              "<Figure size 1200x600 with 1 Axes>"
            ]
          },
          "metadata": {},
          "output_type": "display_data"
        }
      ],
      "source": [
        "import matplotlib.pyplot as plt\n",
        "\n",
        "# Agrupamos por año los sentimientos\n",
        "sentiment_counts = dfreviews3.groupby(['Fecha_posteo', 'sentiment_analysis'])['sentiment_analysis'].count().unstack().fillna(0)\n",
        "\n",
        "sentiment_counts.plot(kind='bar', stacked=True, figsize=(12, 6))\n",
        "\n",
        "plt.title('Distribución de Sentimientos por Año')\n",
        "plt.xlabel('Año')\n",
        "plt.ylabel('Cantidad de Publicaciones')\n",
        "plt.legend(title='Sentimiento', labels=['0', '1', '2'], bbox_to_anchor=(1.05, 1), loc='upper left')\n",
        "\n",
        "plt.show()\n"
      ]
    },
    {
      "cell_type": "code",
      "execution_count": 10,
      "metadata": {
        "colab": {
          "base_uri": "https://localhost:8080/"
        },
        "id": "qZWRqUfHj1Q-",
        "outputId": "0d672287-94c2-4b33-8c2d-93f22481ade5"
      },
      "outputs": [
        {
          "name": "stdout",
          "output_type": "stream",
          "text": [
            "<class 'pandas.core.frame.DataFrame'>\n",
            "RangeIndex: 88310 entries, 0 to 88309\n",
            "Data columns (total 8 columns):\n",
            " #   Column            Non-Null Count  Dtype  \n",
            "---  ------            --------------  -----  \n",
            " 0   user_id           88310 non-null  object \n",
            " 1   items_count       88310 non-null  float64\n",
            " 2   steam_id          88310 non-null  int64  \n",
            " 3   user_url          88310 non-null  object \n",
            " 4   item_id           88310 non-null  int64  \n",
            " 5   item_name         88310 non-null  object \n",
            " 6   playtime_forever  88310 non-null  int64  \n",
            " 7   playtime_2weeks   88310 non-null  int64  \n",
            "dtypes: float64(1), int64(4), object(3)\n",
            "memory usage: 5.4+ MB\n"
          ]
        }
      ],
      "source": [
        "# Veamos un poco el siguiente df\n",
        "dfitems.info()"
      ]
    },
    {
      "cell_type": "code",
      "execution_count": 11,
      "metadata": {},
      "outputs": [
        {
          "data": {
            "text/html": [
              "<div>\n",
              "<style scoped>\n",
              "    .dataframe tbody tr th:only-of-type {\n",
              "        vertical-align: middle;\n",
              "    }\n",
              "\n",
              "    .dataframe tbody tr th {\n",
              "        vertical-align: top;\n",
              "    }\n",
              "\n",
              "    .dataframe thead th {\n",
              "        text-align: right;\n",
              "    }\n",
              "</style>\n",
              "<table border=\"1\" class=\"dataframe\">\n",
              "  <thead>\n",
              "    <tr style=\"text-align: right;\">\n",
              "      <th></th>\n",
              "      <th>user_id</th>\n",
              "      <th>items_count</th>\n",
              "      <th>steam_id</th>\n",
              "      <th>user_url</th>\n",
              "      <th>item_id</th>\n",
              "      <th>item_name</th>\n",
              "      <th>playtime_forever</th>\n",
              "      <th>playtime_2weeks</th>\n",
              "    </tr>\n",
              "  </thead>\n",
              "  <tbody>\n",
              "    <tr>\n",
              "      <th>0</th>\n",
              "      <td>76561197970982479</td>\n",
              "      <td>277.0</td>\n",
              "      <td>76561197970982479</td>\n",
              "      <td>http://steamcommunity.com/profiles/76561197970...</td>\n",
              "      <td>10</td>\n",
              "      <td>Counter-Strike</td>\n",
              "      <td>6</td>\n",
              "      <td>0</td>\n",
              "    </tr>\n",
              "    <tr>\n",
              "      <th>1</th>\n",
              "      <td>js41637</td>\n",
              "      <td>888.0</td>\n",
              "      <td>76561198035864385</td>\n",
              "      <td>http://steamcommunity.com/id/js41637</td>\n",
              "      <td>20</td>\n",
              "      <td>Team Fortress Classic</td>\n",
              "      <td>0</td>\n",
              "      <td>0</td>\n",
              "    </tr>\n",
              "    <tr>\n",
              "      <th>2</th>\n",
              "      <td>evcentric</td>\n",
              "      <td>137.0</td>\n",
              "      <td>76561198007712555</td>\n",
              "      <td>http://steamcommunity.com/id/evcentric</td>\n",
              "      <td>30</td>\n",
              "      <td>Day of Defeat</td>\n",
              "      <td>7</td>\n",
              "      <td>0</td>\n",
              "    </tr>\n",
              "    <tr>\n",
              "      <th>3</th>\n",
              "      <td>Riot-Punch</td>\n",
              "      <td>328.0</td>\n",
              "      <td>76561197963445855</td>\n",
              "      <td>http://steamcommunity.com/id/Riot-Punch</td>\n",
              "      <td>40</td>\n",
              "      <td>Deathmatch Classic</td>\n",
              "      <td>0</td>\n",
              "      <td>0</td>\n",
              "    </tr>\n",
              "    <tr>\n",
              "      <th>4</th>\n",
              "      <td>doctr</td>\n",
              "      <td>541.0</td>\n",
              "      <td>76561198002099482</td>\n",
              "      <td>http://steamcommunity.com/id/doctr</td>\n",
              "      <td>50</td>\n",
              "      <td>Half-Life: Opposing Force</td>\n",
              "      <td>0</td>\n",
              "      <td>0</td>\n",
              "    </tr>\n",
              "    <tr>\n",
              "      <th>...</th>\n",
              "      <td>...</td>\n",
              "      <td>...</td>\n",
              "      <td>...</td>\n",
              "      <td>...</td>\n",
              "      <td>...</td>\n",
              "      <td>...</td>\n",
              "      <td>...</td>\n",
              "      <td>...</td>\n",
              "    </tr>\n",
              "    <tr>\n",
              "      <th>88305</th>\n",
              "      <td>76561198323066619</td>\n",
              "      <td>22.0</td>\n",
              "      <td>76561198323066619</td>\n",
              "      <td>http://steamcommunity.com/profiles/76561198323...</td>\n",
              "      <td>273350</td>\n",
              "      <td>Evolve Stage 2</td>\n",
              "      <td>23</td>\n",
              "      <td>0</td>\n",
              "    </tr>\n",
              "    <tr>\n",
              "      <th>88306</th>\n",
              "      <td>76561198326700687</td>\n",
              "      <td>177.0</td>\n",
              "      <td>76561198326700687</td>\n",
              "      <td>http://steamcommunity.com/profiles/76561198326...</td>\n",
              "      <td>10</td>\n",
              "      <td>Counter-Strike</td>\n",
              "      <td>48</td>\n",
              "      <td>0</td>\n",
              "    </tr>\n",
              "    <tr>\n",
              "      <th>88307</th>\n",
              "      <td>XxLaughingJackClown77xX</td>\n",
              "      <td>0.0</td>\n",
              "      <td>76561198328759259</td>\n",
              "      <td>http://steamcommunity.com/id/XxLaughingJackClo...</td>\n",
              "      <td>80</td>\n",
              "      <td>Counter-Strike: Condition Zero</td>\n",
              "      <td>0</td>\n",
              "      <td>0</td>\n",
              "    </tr>\n",
              "    <tr>\n",
              "      <th>88308</th>\n",
              "      <td>76561198329548331</td>\n",
              "      <td>7.0</td>\n",
              "      <td>76561198329548331</td>\n",
              "      <td>http://steamcommunity.com/profiles/76561198329...</td>\n",
              "      <td>100</td>\n",
              "      <td>Counter-Strike: Condition Zero Deleted Scenes</td>\n",
              "      <td>0</td>\n",
              "      <td>0</td>\n",
              "    </tr>\n",
              "    <tr>\n",
              "      <th>88309</th>\n",
              "      <td>edward_tremethick</td>\n",
              "      <td>0.0</td>\n",
              "      <td>76561198331598578</td>\n",
              "      <td>http://steamcommunity.com/id/edward_tremethick</td>\n",
              "      <td>240</td>\n",
              "      <td>Counter-Strike: Source</td>\n",
              "      <td>213</td>\n",
              "      <td>0</td>\n",
              "    </tr>\n",
              "  </tbody>\n",
              "</table>\n",
              "<p>88310 rows × 8 columns</p>\n",
              "</div>"
            ],
            "text/plain": [
              "                       user_id  items_count           steam_id  \\\n",
              "0            76561197970982479        277.0  76561197970982479   \n",
              "1                      js41637        888.0  76561198035864385   \n",
              "2                    evcentric        137.0  76561198007712555   \n",
              "3                   Riot-Punch        328.0  76561197963445855   \n",
              "4                        doctr        541.0  76561198002099482   \n",
              "...                        ...          ...                ...   \n",
              "88305        76561198323066619         22.0  76561198323066619   \n",
              "88306        76561198326700687        177.0  76561198326700687   \n",
              "88307  XxLaughingJackClown77xX          0.0  76561198328759259   \n",
              "88308        76561198329548331          7.0  76561198329548331   \n",
              "88309        edward_tremethick          0.0  76561198331598578   \n",
              "\n",
              "                                                user_url  item_id  \\\n",
              "0      http://steamcommunity.com/profiles/76561197970...       10   \n",
              "1                   http://steamcommunity.com/id/js41637       20   \n",
              "2                 http://steamcommunity.com/id/evcentric       30   \n",
              "3                http://steamcommunity.com/id/Riot-Punch       40   \n",
              "4                     http://steamcommunity.com/id/doctr       50   \n",
              "...                                                  ...      ...   \n",
              "88305  http://steamcommunity.com/profiles/76561198323...   273350   \n",
              "88306  http://steamcommunity.com/profiles/76561198326...       10   \n",
              "88307  http://steamcommunity.com/id/XxLaughingJackClo...       80   \n",
              "88308  http://steamcommunity.com/profiles/76561198329...      100   \n",
              "88309     http://steamcommunity.com/id/edward_tremethick      240   \n",
              "\n",
              "                                           item_name  playtime_forever  \\\n",
              "0                                     Counter-Strike                 6   \n",
              "1                              Team Fortress Classic                 0   \n",
              "2                                      Day of Defeat                 7   \n",
              "3                                 Deathmatch Classic                 0   \n",
              "4                          Half-Life: Opposing Force                 0   \n",
              "...                                              ...               ...   \n",
              "88305                                 Evolve Stage 2                23   \n",
              "88306                                 Counter-Strike                48   \n",
              "88307                 Counter-Strike: Condition Zero                 0   \n",
              "88308  Counter-Strike: Condition Zero Deleted Scenes                 0   \n",
              "88309                         Counter-Strike: Source               213   \n",
              "\n",
              "       playtime_2weeks  \n",
              "0                    0  \n",
              "1                    0  \n",
              "2                    0  \n",
              "3                    0  \n",
              "4                    0  \n",
              "...                ...  \n",
              "88305                0  \n",
              "88306                0  \n",
              "88307                0  \n",
              "88308                0  \n",
              "88309                0  \n",
              "\n",
              "[88310 rows x 8 columns]"
            ]
          },
          "execution_count": 11,
          "metadata": {},
          "output_type": "execute_result"
        }
      ],
      "source": [
        "dfitems"
      ]
    },
    {
      "cell_type": "code",
      "execution_count": 12,
      "metadata": {
        "id": "OZKcKMQtkIO0"
      },
      "outputs": [],
      "source": [
        "# separamos la columnas de interes\n",
        "dfitems2= dfitems[['item_name','item_id']]"
      ]
    },
    {
      "cell_type": "code",
      "execution_count": 15,
      "metadata": {},
      "outputs": [
        {
          "name": "stderr",
          "output_type": "stream",
          "text": [
            "C:\\Users\\W10\\AppData\\Local\\Temp\\ipykernel_5860\\755035641.py:1: SettingWithCopyWarning: \n",
            "A value is trying to be set on a copy of a slice from a DataFrame.\n",
            "Try using .loc[row_indexer,col_indexer] = value instead\n",
            "\n",
            "See the caveats in the documentation: https://pandas.pydata.org/pandas-docs/stable/user_guide/indexing.html#returning-a-view-versus-a-copy\n",
            "  dfitems2['item_name'] = dfitems2['item_name'].str.lower()\n"
          ]
        }
      ],
      "source": [
        "dfitems2['item_name'] = dfitems2['item_name'].str.lower()\n"
      ]
    },
    {
      "cell_type": "code",
      "execution_count": 16,
      "metadata": {
        "colab": {
          "base_uri": "https://localhost:8080/",
          "height": 206
        },
        "id": "rtPcwJBqkh26",
        "outputId": "6a716694-ed23-4a50-aedb-4724b19a3628"
      },
      "outputs": [
        {
          "data": {
            "text/html": [
              "<div>\n",
              "<style scoped>\n",
              "    .dataframe tbody tr th:only-of-type {\n",
              "        vertical-align: middle;\n",
              "    }\n",
              "\n",
              "    .dataframe tbody tr th {\n",
              "        vertical-align: top;\n",
              "    }\n",
              "\n",
              "    .dataframe thead th {\n",
              "        text-align: right;\n",
              "    }\n",
              "</style>\n",
              "<table border=\"1\" class=\"dataframe\">\n",
              "  <thead>\n",
              "    <tr style=\"text-align: right;\">\n",
              "      <th></th>\n",
              "      <th>item_name</th>\n",
              "      <th>item_id</th>\n",
              "    </tr>\n",
              "  </thead>\n",
              "  <tbody>\n",
              "    <tr>\n",
              "      <th>0</th>\n",
              "      <td>counter-strike</td>\n",
              "      <td>10</td>\n",
              "    </tr>\n",
              "    <tr>\n",
              "      <th>1</th>\n",
              "      <td>team fortress classic</td>\n",
              "      <td>20</td>\n",
              "    </tr>\n",
              "    <tr>\n",
              "      <th>2</th>\n",
              "      <td>day of defeat</td>\n",
              "      <td>30</td>\n",
              "    </tr>\n",
              "    <tr>\n",
              "      <th>3</th>\n",
              "      <td>deathmatch classic</td>\n",
              "      <td>40</td>\n",
              "    </tr>\n",
              "    <tr>\n",
              "      <th>4</th>\n",
              "      <td>half-life: opposing force</td>\n",
              "      <td>50</td>\n",
              "    </tr>\n",
              "  </tbody>\n",
              "</table>\n",
              "</div>"
            ],
            "text/plain": [
              "                   item_name  item_id\n",
              "0             counter-strike       10\n",
              "1      team fortress classic       20\n",
              "2              day of defeat       30\n",
              "3         deathmatch classic       40\n",
              "4  half-life: opposing force       50"
            ]
          },
          "execution_count": 16,
          "metadata": {},
          "output_type": "execute_result"
        }
      ],
      "source": [
        "dfitems2.head()\n",
        "# Los nombres no los voy a poner a miniscula porque estan escritos "
      ]
    },
    {
      "cell_type": "code",
      "execution_count": 17,
      "metadata": {
        "colab": {
          "base_uri": "https://localhost:8080/"
        },
        "id": "tMqvlE8nk2Da",
        "outputId": "fa7ccefd-ae24-43ba-bdf6-e4fc9b043494"
      },
      "outputs": [
        {
          "name": "stdout",
          "output_type": "stream",
          "text": [
            "<class 'pandas.core.frame.DataFrame'>\n",
            "RangeIndex: 88310 entries, 0 to 88309\n",
            "Data columns (total 2 columns):\n",
            " #   Column     Non-Null Count  Dtype \n",
            "---  ------     --------------  ----- \n",
            " 0   item_name  88310 non-null  object\n",
            " 1   item_id    88310 non-null  int64 \n",
            "dtypes: int64(1), object(1)\n",
            "memory usage: 1.3+ MB\n"
          ]
        }
      ],
      "source": [
        "dfitems2.info()\n",
        "#no hay nulos "
      ]
    },
    {
      "cell_type": "code",
      "execution_count": 18,
      "metadata": {
        "id": "1DSGUdAtk4YC"
      },
      "outputs": [],
      "source": [
        "# unimos nuestros df por medio de item_id\n",
        "merged_df = pd.merge(dfreviews3, dfitems2, on='item_id', how='inner')\n"
      ]
    },
    {
      "cell_type": "code",
      "execution_count": 19,
      "metadata": {
        "colab": {
          "base_uri": "https://localhost:8080/"
        },
        "id": "Ii56Nkn9lO7w",
        "outputId": "e3fd3488-0c31-4bc8-efc6-369ae5dfa6e3"
      },
      "outputs": [
        {
          "name": "stdout",
          "output_type": "stream",
          "text": [
            "<class 'pandas.core.frame.DataFrame'>\n",
            "RangeIndex: 9535143 entries, 0 to 9535142\n",
            "Data columns (total 5 columns):\n",
            " #   Column              Dtype  \n",
            "---  ------              -----  \n",
            " 0   item_id             int64  \n",
            " 1   Fecha_posteo        float64\n",
            " 2   recommend           bool   \n",
            " 3   sentiment_analysis  int64  \n",
            " 4   item_name           object \n",
            "dtypes: bool(1), float64(1), int64(2), object(1)\n",
            "memory usage: 300.1+ MB\n"
          ]
        }
      ],
      "source": [
        "merged_df.info()"
      ]
    },
    {
      "cell_type": "code",
      "execution_count": 20,
      "metadata": {
        "colab": {
          "base_uri": "https://localhost:8080/",
          "height": 206
        },
        "id": "-rNDg7KXlTXe",
        "outputId": "79ac672f-a492-4738-b583-a5541224fe7d"
      },
      "outputs": [
        {
          "data": {
            "text/html": [
              "<div>\n",
              "<style scoped>\n",
              "    .dataframe tbody tr th:only-of-type {\n",
              "        vertical-align: middle;\n",
              "    }\n",
              "\n",
              "    .dataframe tbody tr th {\n",
              "        vertical-align: top;\n",
              "    }\n",
              "\n",
              "    .dataframe thead th {\n",
              "        text-align: right;\n",
              "    }\n",
              "</style>\n",
              "<table border=\"1\" class=\"dataframe\">\n",
              "  <thead>\n",
              "    <tr style=\"text-align: right;\">\n",
              "      <th></th>\n",
              "      <th>item_id</th>\n",
              "      <th>Fecha_posteo</th>\n",
              "      <th>recommend</th>\n",
              "      <th>sentiment_analysis</th>\n",
              "      <th>item_name</th>\n",
              "    </tr>\n",
              "  </thead>\n",
              "  <tbody>\n",
              "    <tr>\n",
              "      <th>0</th>\n",
              "      <td>1250</td>\n",
              "      <td>2011.0</td>\n",
              "      <td>True</td>\n",
              "      <td>2</td>\n",
              "      <td>killing floor</td>\n",
              "    </tr>\n",
              "    <tr>\n",
              "      <th>1</th>\n",
              "      <td>1250</td>\n",
              "      <td>2011.0</td>\n",
              "      <td>True</td>\n",
              "      <td>2</td>\n",
              "      <td>killing floor</td>\n",
              "    </tr>\n",
              "    <tr>\n",
              "      <th>2</th>\n",
              "      <td>1250</td>\n",
              "      <td>2011.0</td>\n",
              "      <td>True</td>\n",
              "      <td>2</td>\n",
              "      <td>killing floor</td>\n",
              "    </tr>\n",
              "    <tr>\n",
              "      <th>3</th>\n",
              "      <td>1250</td>\n",
              "      <td>2011.0</td>\n",
              "      <td>True</td>\n",
              "      <td>2</td>\n",
              "      <td>killing floor</td>\n",
              "    </tr>\n",
              "    <tr>\n",
              "      <th>4</th>\n",
              "      <td>1250</td>\n",
              "      <td>2011.0</td>\n",
              "      <td>True</td>\n",
              "      <td>2</td>\n",
              "      <td>killing floor</td>\n",
              "    </tr>\n",
              "  </tbody>\n",
              "</table>\n",
              "</div>"
            ],
            "text/plain": [
              "   item_id  Fecha_posteo  recommend  sentiment_analysis      item_name\n",
              "0     1250        2011.0       True                   2  killing floor\n",
              "1     1250        2011.0       True                   2  killing floor\n",
              "2     1250        2011.0       True                   2  killing floor\n",
              "3     1250        2011.0       True                   2  killing floor\n",
              "4     1250        2011.0       True                   2  killing floor"
            ]
          },
          "execution_count": 20,
          "metadata": {},
          "output_type": "execute_result"
        }
      ],
      "source": [
        "merged_df.head()"
      ]
    },
    {
      "cell_type": "code",
      "execution_count": 21,
      "metadata": {
        "id": "BS_MScH7yJT4"
      },
      "outputs": [],
      "source": [
        "# para reducir el df nos quedamos solo con los valor distintos de 0\n",
        "merged_df = merged_df[merged_df['sentiment_analysis'] != 0]"
      ]
    },
    {
      "cell_type": "code",
      "execution_count": 22,
      "metadata": {
        "id": "2bEaesBC1flZ"
      },
      "outputs": [],
      "source": [
        "# y aca nos quedamos solo con los True\n",
        "merged_df = merged_df[merged_df['recommend'] != False]"
      ]
    },
    {
      "cell_type": "code",
      "execution_count": 23,
      "metadata": {
        "colab": {
          "base_uri": "https://localhost:8080/"
        },
        "id": "tXIExNGTyN9g",
        "outputId": "ee74a469-f2f0-4e8c-ee6f-406ab2eec123"
      },
      "outputs": [
        {
          "name": "stdout",
          "output_type": "stream",
          "text": [
            "<class 'pandas.core.frame.DataFrame'>\n",
            "Index: 7524317 entries, 0 to 9535142\n",
            "Data columns (total 5 columns):\n",
            " #   Column              Dtype  \n",
            "---  ------              -----  \n",
            " 0   item_id             int64  \n",
            " 1   Fecha_posteo        float64\n",
            " 2   recommend           bool   \n",
            " 3   sentiment_analysis  int64  \n",
            " 4   item_name           object \n",
            "dtypes: bool(1), float64(1), int64(2), object(1)\n",
            "memory usage: 294.2+ MB\n"
          ]
        }
      ],
      "source": [
        "merged_df.info()"
      ]
    },
    {
      "cell_type": "code",
      "execution_count": 24,
      "metadata": {
        "colab": {
          "base_uri": "https://localhost:8080/"
        },
        "id": "hT3HxFXoyRI_",
        "outputId": "8be1284d-1c76-427d-fbdb-4c95a762394f"
      },
      "outputs": [
        {
          "data": {
            "text/plain": [
              "item_id               0\n",
              "Fecha_posteo          0\n",
              "recommend             0\n",
              "sentiment_analysis    0\n",
              "item_name             0\n",
              "dtype: int64"
            ]
          },
          "execution_count": 24,
          "metadata": {},
          "output_type": "execute_result"
        }
      ],
      "source": [
        "merged_df.isnull().sum()"
      ]
    },
    {
      "cell_type": "code",
      "execution_count": 25,
      "metadata": {
        "colab": {
          "base_uri": "https://localhost:8080/"
        },
        "id": "OtvZwhDZnkIr",
        "outputId": "f0a98937-6597-4d48-8c87-6cceabfed367"
      },
      "outputs": [
        {
          "name": "stdout",
          "output_type": "stream",
          "text": [
            "Valor Mínimo: 2010.0\n",
            "Valor Máximo: 2015.0\n"
          ]
        }
      ],
      "source": [
        "# veamos lo rangos de fecha\n",
        "valor_minimo = merged_df['Fecha_posteo'].min()\n",
        "valor_maximo = merged_df['Fecha_posteo'].max()\n",
        "\n",
        "print(\"Valor Mínimo:\", valor_minimo)\n",
        "print(\"Valor Máximo:\", valor_maximo)\n"
      ]
    },
    {
      "cell_type": "code",
      "execution_count": 27,
      "metadata": {
        "id": "7vXf2iV2TvZ6"
      },
      "outputs": [],
      "source": [
        "# convierto a enteros \n",
        "merged_df['Fecha_posteo'] = merged_df['Fecha_posteo'].astype(int)\n"
      ]
    },
    {
      "cell_type": "code",
      "execution_count": 28,
      "metadata": {
        "colab": {
          "base_uri": "https://localhost:8080/",
          "height": 424
        },
        "id": "tBjN4ViJTyb7",
        "outputId": "61627f13-e00a-42f7-8066-7827ed631e00"
      },
      "outputs": [
        {
          "data": {
            "text/html": [
              "<div>\n",
              "<style scoped>\n",
              "    .dataframe tbody tr th:only-of-type {\n",
              "        vertical-align: middle;\n",
              "    }\n",
              "\n",
              "    .dataframe tbody tr th {\n",
              "        vertical-align: top;\n",
              "    }\n",
              "\n",
              "    .dataframe thead th {\n",
              "        text-align: right;\n",
              "    }\n",
              "</style>\n",
              "<table border=\"1\" class=\"dataframe\">\n",
              "  <thead>\n",
              "    <tr style=\"text-align: right;\">\n",
              "      <th></th>\n",
              "      <th>item_id</th>\n",
              "      <th>Fecha_posteo</th>\n",
              "      <th>recommend</th>\n",
              "      <th>sentiment_analysis</th>\n",
              "      <th>item_name</th>\n",
              "    </tr>\n",
              "  </thead>\n",
              "  <tbody>\n",
              "    <tr>\n",
              "      <th>0</th>\n",
              "      <td>1250</td>\n",
              "      <td>2011</td>\n",
              "      <td>True</td>\n",
              "      <td>2</td>\n",
              "      <td>killing floor</td>\n",
              "    </tr>\n",
              "    <tr>\n",
              "      <th>1</th>\n",
              "      <td>1250</td>\n",
              "      <td>2011</td>\n",
              "      <td>True</td>\n",
              "      <td>2</td>\n",
              "      <td>killing floor</td>\n",
              "    </tr>\n",
              "    <tr>\n",
              "      <th>2</th>\n",
              "      <td>1250</td>\n",
              "      <td>2011</td>\n",
              "      <td>True</td>\n",
              "      <td>2</td>\n",
              "      <td>killing floor</td>\n",
              "    </tr>\n",
              "    <tr>\n",
              "      <th>3</th>\n",
              "      <td>1250</td>\n",
              "      <td>2011</td>\n",
              "      <td>True</td>\n",
              "      <td>2</td>\n",
              "      <td>killing floor</td>\n",
              "    </tr>\n",
              "    <tr>\n",
              "      <th>4</th>\n",
              "      <td>1250</td>\n",
              "      <td>2011</td>\n",
              "      <td>True</td>\n",
              "      <td>2</td>\n",
              "      <td>killing floor</td>\n",
              "    </tr>\n",
              "    <tr>\n",
              "      <th>...</th>\n",
              "      <td>...</td>\n",
              "      <td>...</td>\n",
              "      <td>...</td>\n",
              "      <td>...</td>\n",
              "      <td>...</td>\n",
              "    </tr>\n",
              "    <tr>\n",
              "      <th>9535138</th>\n",
              "      <td>306040</td>\n",
              "      <td>2015</td>\n",
              "      <td>True</td>\n",
              "      <td>2</td>\n",
              "      <td>the howler</td>\n",
              "    </tr>\n",
              "    <tr>\n",
              "      <th>9535139</th>\n",
              "      <td>306040</td>\n",
              "      <td>2015</td>\n",
              "      <td>True</td>\n",
              "      <td>2</td>\n",
              "      <td>the howler</td>\n",
              "    </tr>\n",
              "    <tr>\n",
              "      <th>9535140</th>\n",
              "      <td>306040</td>\n",
              "      <td>2015</td>\n",
              "      <td>True</td>\n",
              "      <td>2</td>\n",
              "      <td>the howler</td>\n",
              "    </tr>\n",
              "    <tr>\n",
              "      <th>9535141</th>\n",
              "      <td>306040</td>\n",
              "      <td>2015</td>\n",
              "      <td>True</td>\n",
              "      <td>2</td>\n",
              "      <td>the howler</td>\n",
              "    </tr>\n",
              "    <tr>\n",
              "      <th>9535142</th>\n",
              "      <td>306040</td>\n",
              "      <td>2015</td>\n",
              "      <td>True</td>\n",
              "      <td>2</td>\n",
              "      <td>the howler</td>\n",
              "    </tr>\n",
              "  </tbody>\n",
              "</table>\n",
              "<p>7524317 rows × 5 columns</p>\n",
              "</div>"
            ],
            "text/plain": [
              "         item_id  Fecha_posteo  recommend  sentiment_analysis      item_name\n",
              "0           1250          2011       True                   2  killing floor\n",
              "1           1250          2011       True                   2  killing floor\n",
              "2           1250          2011       True                   2  killing floor\n",
              "3           1250          2011       True                   2  killing floor\n",
              "4           1250          2011       True                   2  killing floor\n",
              "...          ...           ...        ...                 ...            ...\n",
              "9535138   306040          2015       True                   2     the howler\n",
              "9535139   306040          2015       True                   2     the howler\n",
              "9535140   306040          2015       True                   2     the howler\n",
              "9535141   306040          2015       True                   2     the howler\n",
              "9535142   306040          2015       True                   2     the howler\n",
              "\n",
              "[7524317 rows x 5 columns]"
            ]
          },
          "execution_count": 28,
          "metadata": {},
          "output_type": "execute_result"
        }
      ],
      "source": [
        "merged_df\n"
      ]
    },
    {
      "cell_type": "code",
      "execution_count": 29,
      "metadata": {},
      "outputs": [],
      "source": [
        "# Vamos a reducirlo a la mitad por una cuestion de espacio en render \n",
        "df_reducido = merged_df.sample(frac=0.5, random_state=1)"
      ]
    },
    {
      "cell_type": "code",
      "execution_count": 33,
      "metadata": {},
      "outputs": [
        {
          "name": "stdout",
          "output_type": "stream",
          "text": [
            "<class 'pandas.core.frame.DataFrame'>\n",
            "Index: 3762158 entries, 18549 to 7852770\n",
            "Data columns (total 5 columns):\n",
            " #   Column              Dtype \n",
            "---  ------              ----- \n",
            " 0   item_id             int64 \n",
            " 1   Fecha_posteo        int32 \n",
            " 2   recommend           bool  \n",
            " 3   sentiment_analysis  int64 \n",
            " 4   item_name           object\n",
            "dtypes: bool(1), int32(1), int64(2), object(1)\n",
            "memory usage: 132.8+ MB\n"
          ]
        }
      ],
      "source": [
        "df_reducido.info()"
      ]
    },
    {
      "cell_type": "code",
      "execution_count": 30,
      "metadata": {},
      "outputs": [],
      "source": [
        "archivo_salida = 'df_3reducido.parquet'\n",
        "\n",
        "df_reducido.to_parquet(archivo_salida, index=False)"
      ]
    },
    {
      "cell_type": "code",
      "execution_count": 2,
      "metadata": {},
      "outputs": [],
      "source": [
        "import pandas as pd "
      ]
    },
    {
      "cell_type": "code",
      "execution_count": 3,
      "metadata": {},
      "outputs": [],
      "source": [
        "archivo_parquet = 'df_3reducido.parquet'\n",
        "\n",
        "df = pd.read_parquet(archivo_parquet)"
      ]
    },
    {
      "cell_type": "code",
      "execution_count": 4,
      "metadata": {},
      "outputs": [
        {
          "name": "stdout",
          "output_type": "stream",
          "text": [
            "<class 'pandas.core.frame.DataFrame'>\n",
            "RangeIndex: 3762158 entries, 0 to 3762157\n",
            "Data columns (total 5 columns):\n",
            " #   Column              Dtype \n",
            "---  ------              ----- \n",
            " 0   item_id             int64 \n",
            " 1   Fecha_posteo        int32 \n",
            " 2   recommend           bool  \n",
            " 3   sentiment_analysis  int64 \n",
            " 4   item_name           object\n",
            "dtypes: bool(1), int32(1), int64(2), object(1)\n",
            "memory usage: 104.0+ MB\n"
          ]
        }
      ],
      "source": [
        "df.info()"
      ]
    },
    {
      "cell_type": "code",
      "execution_count": 5,
      "metadata": {},
      "outputs": [],
      "source": [
        "# Vamos a tener que reducirlo un poco mas aun\n",
        "tamano_muestra = 0.4  #40% tomamos\n",
        "\n",
        "# Tomar una muestra aleatoria del DataFrame\n",
        "df = df.sample(frac=tamano_muestra, random_state=42)"
      ]
    },
    {
      "cell_type": "code",
      "execution_count": 6,
      "metadata": {},
      "outputs": [
        {
          "name": "stdout",
          "output_type": "stream",
          "text": [
            "<class 'pandas.core.frame.DataFrame'>\n",
            "Index: 1504863 entries, 189330 to 3250224\n",
            "Data columns (total 5 columns):\n",
            " #   Column              Non-Null Count    Dtype \n",
            "---  ------              --------------    ----- \n",
            " 0   item_id             1504863 non-null  int64 \n",
            " 1   Fecha_posteo        1504863 non-null  int32 \n",
            " 2   recommend           1504863 non-null  bool  \n",
            " 3   sentiment_analysis  1504863 non-null  int64 \n",
            " 4   item_name           1504863 non-null  object\n",
            "dtypes: bool(1), int32(1), int64(2), object(1)\n",
            "memory usage: 53.1+ MB\n"
          ]
        }
      ],
      "source": [
        "df.info()"
      ]
    },
    {
      "cell_type": "code",
      "execution_count": 7,
      "metadata": {
        "id": "akCRosAVf9qc"
      },
      "outputs": [],
      "source": [
        "def UsersRecommend(year:int):\n",
        "    # Filtra el DataFrame para el año especificado y donde 'recommend' es True\n",
        "    juegos_recomendados = df[(df['Fecha_posteo'] == year) & (df['recommend'] == True)]\n",
        "\n",
        "    # Verifica si no hay datos para ese año\n",
        "    if juegos_recomendados.empty:\n",
        "        return (\"No hay datos para ese año\", year)\n",
        "\n",
        "    # Agrupa por el nombre del juego y cuenta las recomendaciones\n",
        "    juegos_agrupados = juegos_recomendados['item_name'].value_counts().reset_index()\n",
        "    juegos_agrupados.columns = ['Juego', 'Recomendaciones']\n",
        "\n",
        "    # Ordena los juegos por número de recomendaciones de mayor a menor\n",
        "    juegos_ordenados = juegos_agrupados.sort_values(by='Recomendaciones', ascending=False)\n",
        "\n",
        "    # Toma los 3 juegos con más recomendaciones\n",
        "    top_3_juegos = juegos_ordenados.head(3)\n",
        "\n",
        "    # Formatea los resultados en la estructura deseada\n",
        "    resultado = []\n",
        "    for i, row in top_3_juegos.iterrows():\n",
        "        resultado.append({\"Puesto \" + str(i + 1): row['Juego']})\n",
        "\n",
        "    return resultado\n"
      ]
    },
    {
      "cell_type": "code",
      "execution_count": 8,
      "metadata": {
        "colab": {
          "base_uri": "https://localhost:8080/"
        },
        "id": "MZHJtsZHenLu",
        "outputId": "a115009a-f993-46c1-a23a-4b566a07d781"
      },
      "outputs": [
        {
          "name": "stdout",
          "output_type": "stream",
          "text": [
            "[{'Puesto 1': 'counter-strike: global offensive'}, {'Puesto 2': \"garry's mod\"}, {'Puesto 3': 'unturned'}]\n"
          ]
        }
      ],
      "source": [
        "top_3_juegos = UsersRecommend(2014)\n",
        "print(top_3_juegos)\n"
      ]
    },
    {
      "cell_type": "code",
      "execution_count": 9,
      "metadata": {
        "colab": {
          "base_uri": "https://localhost:8080/"
        },
        "id": "gF47EAU9fJlm",
        "outputId": "580debcc-e19d-4e9c-8f08-9d7baf3a3179"
      },
      "outputs": [
        {
          "name": "stdout",
          "output_type": "stream",
          "text": [
            "{'2005': ('No hay datos para ese año', 2005)}\n",
            "{'2006': ('No hay datos para ese año', 2006)}\n",
            "{'2007': ('No hay datos para ese año', 2007)}\n",
            "{'2008': ('No hay datos para ese año', 2008)}\n",
            "{'2009': ('No hay datos para ese año', 2009)}\n",
            "{'2010': [{'Puesto 1': \"garry's mod\"}, {'Puesto 2': 'killing floor'}, {'Puesto 3': 'counter-strike: source'}]}\n",
            "{'2011': [{'Puesto 1': \"garry's mod\"}, {'Puesto 2': 'terraria'}, {'Puesto 3': 'portal 2'}]}\n",
            "{'2012': [{'Puesto 1': \"garry's mod\"}, {'Puesto 2': 'terraria'}, {'Puesto 3': 'left 4 dead 2'}]}\n",
            "{'2013': [{'Puesto 1': \"garry's mod\"}, {'Puesto 2': 'left 4 dead 2'}, {'Puesto 3': 'counter-strike: global offensive'}]}\n",
            "{'2014': [{'Puesto 1': 'counter-strike: global offensive'}, {'Puesto 2': \"garry's mod\"}, {'Puesto 3': 'unturned'}]}\n",
            "{'2015': [{'Puesto 1': 'counter-strike: global offensive'}, {'Puesto 2': \"garry's mod\"}, {'Puesto 3': 'unturned'}]}\n",
            "{'2016': ('No hay datos para ese año', 2016)}\n",
            "{'2017': ('No hay datos para ese año', 2017)}\n",
            "{'2018': ('No hay datos para ese año', 2018)}\n",
            "{'2019': ('No hay datos para ese año', 2019)}\n",
            "{'2020': ('No hay datos para ese año', 2020)}\n",
            "{'2021': ('No hay datos para ese año', 2021)}\n",
            "{'2022': ('No hay datos para ese año', 2022)}\n"
          ]
        }
      ],
      "source": [
        "# Lista para almacenar los resultados por año\n",
        "resultados_por_año = []\n",
        "\n",
        "# Itera desde el año 2010 hasta el 2015\n",
        "for año in range(2005, 2023):\n",
        "    # Llama a la función UsersRecommend para el año actual\n",
        "    top_3_juegos_año = UsersRecommend(año)\n",
        "\n",
        "    # Agrega el resultado a la lista de resultados por año\n",
        "    resultados_por_año.append({str(año): top_3_juegos_año})\n",
        "\n",
        "# Imprime los resultados\n",
        "for resultado in resultados_por_año:\n",
        "    print(resultado)\n"
      ]
    }
  ],
  "metadata": {
    "colab": {
      "provenance": []
    },
    "kernelspec": {
      "display_name": "Python 3",
      "name": "python3"
    },
    "language_info": {
      "codemirror_mode": {
        "name": "ipython",
        "version": 3
      },
      "file_extension": ".py",
      "mimetype": "text/x-python",
      "name": "python",
      "nbconvert_exporter": "python",
      "pygments_lexer": "ipython3",
      "version": "3.11.3"
    }
  },
  "nbformat": 4,
  "nbformat_minor": 0
}
