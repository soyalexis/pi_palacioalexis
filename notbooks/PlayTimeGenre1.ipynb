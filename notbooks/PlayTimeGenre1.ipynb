{
  "cells": [
    {
      "cell_type": "code",
      "execution_count": 1,
      "metadata": {
        "id": "8GhRXSmQiv9H"
      },
      "outputs": [],
      "source": [
        "import pandas as pd"
      ]
    },
    {
      "cell_type": "code",
      "execution_count": 2,
      "metadata": {
        "id": "nxkwR23ne-1N"
      },
      "outputs": [],
      "source": [
        "import pandas as pd\n",
        "\n",
        "# Ruta a tus archivos CSV\n",
        "archivo_csv1 = 'C:\\\\Users\\\\W10\\Desktop\\\\henry data science\\\\proyecto individual 1\\\\PI MLOps - STEAM\\\\aniojugado.csv'\n",
        "archivo_csv2 = 'C:\\\\Users\\\\W10\\Desktop\\\\henry data science\\\\proyecto individual 1\\\\PI MLOps - STEAM\\\\games_genres2.csv'\n",
        "archivo_csv3 = 'C:\\\\Users\\\\W10\\Desktop\\\\henry data science\\\\proyecto individual 1\\\\PI MLOps - STEAM\\\\itemsplaytime.csv'\n",
        "\n",
        "# Carga de datos desde los archivos CSV en DataFrames\n",
        "df1_aniojugado = pd.read_csv(archivo_csv1)\n",
        "df2_genres2 = pd.read_csv(archivo_csv2)\n",
        "df3_playtime = pd.read_csv(archivo_csv3)\n"
      ]
    },
    {
      "cell_type": "code",
      "execution_count": 3,
      "metadata": {
        "colab": {
          "base_uri": "https://localhost:8080/",
          "height": 206
        },
        "id": "He9vbagQfVFk",
        "outputId": "f52e3a2d-29e2-4bb4-db6c-d694fa98234b"
      },
      "outputs": [
        {
          "data": {
            "text/html": [
              "<div>\n",
              "<style scoped>\n",
              "    .dataframe tbody tr th:only-of-type {\n",
              "        vertical-align: middle;\n",
              "    }\n",
              "\n",
              "    .dataframe tbody tr th {\n",
              "        vertical-align: top;\n",
              "    }\n",
              "\n",
              "    .dataframe thead th {\n",
              "        text-align: right;\n",
              "    }\n",
              "</style>\n",
              "<table border=\"1\" class=\"dataframe\">\n",
              "  <thead>\n",
              "    <tr style=\"text-align: right;\">\n",
              "      <th></th>\n",
              "      <th>Fecha_posteo</th>\n",
              "      <th>item_id</th>\n",
              "    </tr>\n",
              "  </thead>\n",
              "  <tbody>\n",
              "    <tr>\n",
              "      <th>0</th>\n",
              "      <td>November 5, 2011.</td>\n",
              "      <td>1250</td>\n",
              "    </tr>\n",
              "    <tr>\n",
              "      <th>1</th>\n",
              "      <td>July 15, 2011.</td>\n",
              "      <td>22200</td>\n",
              "    </tr>\n",
              "    <tr>\n",
              "      <th>2</th>\n",
              "      <td>April 21, 2011.</td>\n",
              "      <td>43110</td>\n",
              "    </tr>\n",
              "    <tr>\n",
              "      <th>3</th>\n",
              "      <td>June 24, 2014.</td>\n",
              "      <td>251610</td>\n",
              "    </tr>\n",
              "    <tr>\n",
              "      <th>4</th>\n",
              "      <td>September 8, 2013.</td>\n",
              "      <td>227300</td>\n",
              "    </tr>\n",
              "  </tbody>\n",
              "</table>\n",
              "</div>"
            ],
            "text/plain": [
              "         Fecha_posteo  item_id\n",
              "0   November 5, 2011.     1250\n",
              "1      July 15, 2011.    22200\n",
              "2     April 21, 2011.    43110\n",
              "3      June 24, 2014.   251610\n",
              "4  September 8, 2013.   227300"
            ]
          },
          "execution_count": 3,
          "metadata": {},
          "output_type": "execute_result"
        }
      ],
      "source": [
        "df1_aniojugado.head()"
      ]
    },
    {
      "cell_type": "code",
      "execution_count": 4,
      "metadata": {
        "colab": {
          "base_uri": "https://localhost:8080/"
        },
        "id": "K8znRggSfX3D",
        "outputId": "53afa7f0-7181-41cc-823a-28ff12bf1502"
      },
      "outputs": [
        {
          "name": "stdout",
          "output_type": "stream",
          "text": [
            "<class 'pandas.core.frame.DataFrame'>\n",
            "RangeIndex: 59305 entries, 0 to 59304\n",
            "Data columns (total 2 columns):\n",
            " #   Column        Non-Null Count  Dtype \n",
            "---  ------        --------------  ----- \n",
            " 0   Fecha_posteo  59305 non-null  object\n",
            " 1   item_id       59305 non-null  int64 \n",
            "dtypes: int64(1), object(1)\n",
            "memory usage: 926.8+ KB\n"
          ]
        }
      ],
      "source": [
        "df1_aniojugado.info()"
      ]
    },
    {
      "cell_type": "code",
      "execution_count": 5,
      "metadata": {
        "id": "miVHHBUFfYmc"
      },
      "outputs": [],
      "source": [
        "# Elimina las filas con valores nulos en el DataFrame df\n",
        "df1_aniojugado = df1_aniojugado.dropna()"
      ]
    },
    {
      "cell_type": "code",
      "execution_count": 6,
      "metadata": {
        "colab": {
          "base_uri": "https://localhost:8080/",
          "height": 206
        },
        "id": "gOwpxaXefeyE",
        "outputId": "43960e3d-94a2-4d52-a094-ca4a9e3975fd"
      },
      "outputs": [
        {
          "data": {
            "text/html": [
              "<div>\n",
              "<style scoped>\n",
              "    .dataframe tbody tr th:only-of-type {\n",
              "        vertical-align: middle;\n",
              "    }\n",
              "\n",
              "    .dataframe tbody tr th {\n",
              "        vertical-align: top;\n",
              "    }\n",
              "\n",
              "    .dataframe thead th {\n",
              "        text-align: right;\n",
              "    }\n",
              "</style>\n",
              "<table border=\"1\" class=\"dataframe\">\n",
              "  <thead>\n",
              "    <tr style=\"text-align: right;\">\n",
              "      <th></th>\n",
              "      <th>genres</th>\n",
              "      <th>item_name</th>\n",
              "      <th>release_date</th>\n",
              "    </tr>\n",
              "  </thead>\n",
              "  <tbody>\n",
              "    <tr>\n",
              "      <th>0</th>\n",
              "      <td>['Action', 'Casual', 'Indie', 'Simulation', 'S...</td>\n",
              "      <td>Lost Summoner Kitty</td>\n",
              "      <td>2018-01-04</td>\n",
              "    </tr>\n",
              "    <tr>\n",
              "      <th>1</th>\n",
              "      <td>['Free to Play', 'Indie', 'RPG', 'Strategy']</td>\n",
              "      <td>Ironbound</td>\n",
              "      <td>2018-01-04</td>\n",
              "    </tr>\n",
              "    <tr>\n",
              "      <th>2</th>\n",
              "      <td>['Casual', 'Free to Play', 'Indie', 'Simulatio...</td>\n",
              "      <td>Real Pool 3D - Poolians</td>\n",
              "      <td>2017-07-24</td>\n",
              "    </tr>\n",
              "    <tr>\n",
              "      <th>3</th>\n",
              "      <td>['Action', 'Adventure', 'Casual']</td>\n",
              "      <td>弹炸人2222</td>\n",
              "      <td>2017-12-07</td>\n",
              "    </tr>\n",
              "    <tr>\n",
              "      <th>4</th>\n",
              "      <td>['Action', 'Adventure', 'Simulation']</td>\n",
              "      <td>Battle Royale Trainer</td>\n",
              "      <td>2018-01-04</td>\n",
              "    </tr>\n",
              "  </tbody>\n",
              "</table>\n",
              "</div>"
            ],
            "text/plain": [
              "                                              genres                item_name  \\\n",
              "0  ['Action', 'Casual', 'Indie', 'Simulation', 'S...      Lost Summoner Kitty   \n",
              "1       ['Free to Play', 'Indie', 'RPG', 'Strategy']                Ironbound   \n",
              "2  ['Casual', 'Free to Play', 'Indie', 'Simulatio...  Real Pool 3D - Poolians   \n",
              "3                  ['Action', 'Adventure', 'Casual']                  弹炸人2222   \n",
              "4              ['Action', 'Adventure', 'Simulation']    Battle Royale Trainer   \n",
              "\n",
              "  release_date  \n",
              "0   2018-01-04  \n",
              "1   2018-01-04  \n",
              "2   2017-07-24  \n",
              "3   2017-12-07  \n",
              "4   2018-01-04  "
            ]
          },
          "execution_count": 6,
          "metadata": {},
          "output_type": "execute_result"
        }
      ],
      "source": [
        "df2_genres2.head()"
      ]
    },
    {
      "cell_type": "code",
      "execution_count": 7,
      "metadata": {
        "colab": {
          "base_uri": "https://localhost:8080/"
        },
        "id": "_KvWyoDQffHc",
        "outputId": "cba7c296-3c51-45f5-c856-c2fef48f5e1b"
      },
      "outputs": [
        {
          "name": "stdout",
          "output_type": "stream",
          "text": [
            "<class 'pandas.core.frame.DataFrame'>\n",
            "RangeIndex: 28834 entries, 0 to 28833\n",
            "Data columns (total 3 columns):\n",
            " #   Column        Non-Null Count  Dtype \n",
            "---  ------        --------------  ----- \n",
            " 0   genres        28834 non-null  object\n",
            " 1   item_name     28833 non-null  object\n",
            " 2   release_date  28834 non-null  object\n",
            "dtypes: object(3)\n",
            "memory usage: 675.9+ KB\n"
          ]
        }
      ],
      "source": [
        "df2_genres2.info()"
      ]
    },
    {
      "cell_type": "code",
      "execution_count": 8,
      "metadata": {},
      "outputs": [
        {
          "data": {
            "text/html": [
              "<div>\n",
              "<style scoped>\n",
              "    .dataframe tbody tr th:only-of-type {\n",
              "        vertical-align: middle;\n",
              "    }\n",
              "\n",
              "    .dataframe tbody tr th {\n",
              "        vertical-align: top;\n",
              "    }\n",
              "\n",
              "    .dataframe thead th {\n",
              "        text-align: right;\n",
              "    }\n",
              "</style>\n",
              "<table border=\"1\" class=\"dataframe\">\n",
              "  <thead>\n",
              "    <tr style=\"text-align: right;\">\n",
              "      <th></th>\n",
              "      <th>genres</th>\n",
              "      <th>item_name</th>\n",
              "      <th>release_date</th>\n",
              "    </tr>\n",
              "  </thead>\n",
              "  <tbody>\n",
              "    <tr>\n",
              "      <th>0</th>\n",
              "      <td>['Action', 'Casual', 'Indie', 'Simulation', 'S...</td>\n",
              "      <td>Lost Summoner Kitty</td>\n",
              "      <td>2018-01-04</td>\n",
              "    </tr>\n",
              "    <tr>\n",
              "      <th>1</th>\n",
              "      <td>['Free to Play', 'Indie', 'RPG', 'Strategy']</td>\n",
              "      <td>Ironbound</td>\n",
              "      <td>2018-01-04</td>\n",
              "    </tr>\n",
              "    <tr>\n",
              "      <th>2</th>\n",
              "      <td>['Casual', 'Free to Play', 'Indie', 'Simulatio...</td>\n",
              "      <td>Real Pool 3D - Poolians</td>\n",
              "      <td>2017-07-24</td>\n",
              "    </tr>\n",
              "    <tr>\n",
              "      <th>3</th>\n",
              "      <td>['Action', 'Adventure', 'Casual']</td>\n",
              "      <td>弹炸人2222</td>\n",
              "      <td>2017-12-07</td>\n",
              "    </tr>\n",
              "    <tr>\n",
              "      <th>4</th>\n",
              "      <td>['Action', 'Adventure', 'Simulation']</td>\n",
              "      <td>Battle Royale Trainer</td>\n",
              "      <td>2018-01-04</td>\n",
              "    </tr>\n",
              "  </tbody>\n",
              "</table>\n",
              "</div>"
            ],
            "text/plain": [
              "                                              genres                item_name  \\\n",
              "0  ['Action', 'Casual', 'Indie', 'Simulation', 'S...      Lost Summoner Kitty   \n",
              "1       ['Free to Play', 'Indie', 'RPG', 'Strategy']                Ironbound   \n",
              "2  ['Casual', 'Free to Play', 'Indie', 'Simulatio...  Real Pool 3D - Poolians   \n",
              "3                  ['Action', 'Adventure', 'Casual']                  弹炸人2222   \n",
              "4              ['Action', 'Adventure', 'Simulation']    Battle Royale Trainer   \n",
              "\n",
              "  release_date  \n",
              "0   2018-01-04  \n",
              "1   2018-01-04  \n",
              "2   2017-07-24  \n",
              "3   2017-12-07  \n",
              "4   2018-01-04  "
            ]
          },
          "execution_count": 8,
          "metadata": {},
          "output_type": "execute_result"
        }
      ],
      "source": [
        "df2_genres2.head()"
      ]
    },
    {
      "cell_type": "code",
      "execution_count": 9,
      "metadata": {
        "colab": {
          "base_uri": "https://localhost:8080/",
          "height": 206
        },
        "id": "x7SoqE1PfhUZ",
        "outputId": "5e971566-7b28-4bea-ba44-00a97602fd45"
      },
      "outputs": [
        {
          "data": {
            "text/html": [
              "<div>\n",
              "<style scoped>\n",
              "    .dataframe tbody tr th:only-of-type {\n",
              "        vertical-align: middle;\n",
              "    }\n",
              "\n",
              "    .dataframe tbody tr th {\n",
              "        vertical-align: top;\n",
              "    }\n",
              "\n",
              "    .dataframe thead th {\n",
              "        text-align: right;\n",
              "    }\n",
              "</style>\n",
              "<table border=\"1\" class=\"dataframe\">\n",
              "  <thead>\n",
              "    <tr style=\"text-align: right;\">\n",
              "      <th></th>\n",
              "      <th>item_id</th>\n",
              "      <th>item_name</th>\n",
              "      <th>playtime_forever</th>\n",
              "    </tr>\n",
              "  </thead>\n",
              "  <tbody>\n",
              "    <tr>\n",
              "      <th>0</th>\n",
              "      <td>10</td>\n",
              "      <td>Counter-Strike</td>\n",
              "      <td>6</td>\n",
              "    </tr>\n",
              "    <tr>\n",
              "      <th>1</th>\n",
              "      <td>20</td>\n",
              "      <td>Team Fortress Classic</td>\n",
              "      <td>0</td>\n",
              "    </tr>\n",
              "    <tr>\n",
              "      <th>2</th>\n",
              "      <td>30</td>\n",
              "      <td>Day of Defeat</td>\n",
              "      <td>7</td>\n",
              "    </tr>\n",
              "    <tr>\n",
              "      <th>3</th>\n",
              "      <td>40</td>\n",
              "      <td>Deathmatch Classic</td>\n",
              "      <td>0</td>\n",
              "    </tr>\n",
              "    <tr>\n",
              "      <th>4</th>\n",
              "      <td>50</td>\n",
              "      <td>Half-Life: Opposing Force</td>\n",
              "      <td>0</td>\n",
              "    </tr>\n",
              "  </tbody>\n",
              "</table>\n",
              "</div>"
            ],
            "text/plain": [
              "   item_id                  item_name  playtime_forever\n",
              "0       10             Counter-Strike                 6\n",
              "1       20      Team Fortress Classic                 0\n",
              "2       30              Day of Defeat                 7\n",
              "3       40         Deathmatch Classic                 0\n",
              "4       50  Half-Life: Opposing Force                 0"
            ]
          },
          "execution_count": 9,
          "metadata": {},
          "output_type": "execute_result"
        }
      ],
      "source": [
        "df3_playtime.head()"
      ]
    },
    {
      "cell_type": "code",
      "execution_count": 10,
      "metadata": {
        "colab": {
          "base_uri": "https://localhost:8080/"
        },
        "id": "PVV7QB0KfkHm",
        "outputId": "69d3cf28-a469-4826-8e4c-5fb38f8d88f5"
      },
      "outputs": [
        {
          "name": "stdout",
          "output_type": "stream",
          "text": [
            "<class 'pandas.core.frame.DataFrame'>\n",
            "RangeIndex: 5153209 entries, 0 to 5153208\n",
            "Data columns (total 3 columns):\n",
            " #   Column            Dtype \n",
            "---  ------            ----- \n",
            " 0   item_id           int64 \n",
            " 1   item_name         object\n",
            " 2   playtime_forever  int64 \n",
            "dtypes: int64(2), object(1)\n",
            "memory usage: 117.9+ MB\n"
          ]
        }
      ],
      "source": [
        "df3_playtime.info()"
      ]
    },
    {
      "cell_type": "code",
      "execution_count": 11,
      "metadata": {
        "id": "6DgRtwtAfmeq"
      },
      "outputs": [
        {
          "ename": "MemoryError",
          "evalue": "Unable to allocate 5.00 GiB for an array with shape (670991953,) and data type int64",
          "output_type": "error",
          "traceback": [
            "\u001b[1;31m---------------------------------------------------------------------------\u001b[0m",
            "\u001b[1;31mMemoryError\u001b[0m                               Traceback (most recent call last)",
            "\u001b[1;32mc:\\Users\\W10\\Desktop\\henry data science\\proyecto individual 1\\PI MLOps - STEAM\\PlayTimeGenre1.ipynb Cell 11\u001b[0m line \u001b[0;36m2\n\u001b[0;32m      <a href='vscode-notebook-cell:/c%3A/Users/W10/Desktop/henry%20data%20science/proyecto%20individual%201/PI%20MLOps%20-%20STEAM/PlayTimeGenre1.ipynb#X13sZmlsZQ%3D%3D?line=0'>1</a>\u001b[0m \u001b[39m# Unir los DataFrames utilizando la columna 'item_id' como clave\u001b[39;00m\n\u001b[1;32m----> <a href='vscode-notebook-cell:/c%3A/Users/W10/Desktop/henry%20data%20science/proyecto%20individual%201/PI%20MLOps%20-%20STEAM/PlayTimeGenre1.ipynb#X13sZmlsZQ%3D%3D?line=1'>2</a>\u001b[0m df_merged1 \u001b[39m=\u001b[39m pd\u001b[39m.\u001b[39;49mmerge(df1_aniojugado, df3_playtime, on\u001b[39m=\u001b[39;49m\u001b[39m'\u001b[39;49m\u001b[39mitem_id\u001b[39;49m\u001b[39m'\u001b[39;49m)\n",
            "File \u001b[1;32m~\\AppData\\Local\\Packages\\PythonSoftwareFoundation.Python.3.11_qbz5n2kfra8p0\\LocalCache\\local-packages\\Python311\\site-packages\\pandas\\core\\reshape\\merge.py:162\u001b[0m, in \u001b[0;36mmerge\u001b[1;34m(left, right, how, on, left_on, right_on, left_index, right_index, sort, suffixes, copy, indicator, validate)\u001b[0m\n\u001b[0;32m    131\u001b[0m \u001b[39m@Substitution\u001b[39m(\u001b[39m\"\u001b[39m\u001b[39m\\n\u001b[39;00m\u001b[39mleft : DataFrame or named Series\u001b[39m\u001b[39m\"\u001b[39m)\n\u001b[0;32m    132\u001b[0m \u001b[39m@Appender\u001b[39m(_merge_doc, indents\u001b[39m=\u001b[39m\u001b[39m0\u001b[39m)\n\u001b[0;32m    133\u001b[0m \u001b[39mdef\u001b[39;00m \u001b[39mmerge\u001b[39m(\n\u001b[1;32m   (...)\u001b[0m\n\u001b[0;32m    146\u001b[0m     validate: \u001b[39mstr\u001b[39m \u001b[39m|\u001b[39m \u001b[39mNone\u001b[39;00m \u001b[39m=\u001b[39m \u001b[39mNone\u001b[39;00m,\n\u001b[0;32m    147\u001b[0m ) \u001b[39m-\u001b[39m\u001b[39m>\u001b[39m DataFrame:\n\u001b[0;32m    148\u001b[0m     op \u001b[39m=\u001b[39m _MergeOperation(\n\u001b[0;32m    149\u001b[0m         left,\n\u001b[0;32m    150\u001b[0m         right,\n\u001b[1;32m   (...)\u001b[0m\n\u001b[0;32m    160\u001b[0m         validate\u001b[39m=\u001b[39mvalidate,\n\u001b[0;32m    161\u001b[0m     )\n\u001b[1;32m--> 162\u001b[0m     \u001b[39mreturn\u001b[39;00m op\u001b[39m.\u001b[39;49mget_result(copy\u001b[39m=\u001b[39;49mcopy)\n",
            "File \u001b[1;32m~\\AppData\\Local\\Packages\\PythonSoftwareFoundation.Python.3.11_qbz5n2kfra8p0\\LocalCache\\local-packages\\Python311\\site-packages\\pandas\\core\\reshape\\merge.py:809\u001b[0m, in \u001b[0;36m_MergeOperation.get_result\u001b[1;34m(self, copy)\u001b[0m\n\u001b[0;32m    806\u001b[0m \u001b[39mif\u001b[39;00m \u001b[39mself\u001b[39m\u001b[39m.\u001b[39mindicator:\n\u001b[0;32m    807\u001b[0m     \u001b[39mself\u001b[39m\u001b[39m.\u001b[39mleft, \u001b[39mself\u001b[39m\u001b[39m.\u001b[39mright \u001b[39m=\u001b[39m \u001b[39mself\u001b[39m\u001b[39m.\u001b[39m_indicator_pre_merge(\u001b[39mself\u001b[39m\u001b[39m.\u001b[39mleft, \u001b[39mself\u001b[39m\u001b[39m.\u001b[39mright)\n\u001b[1;32m--> 809\u001b[0m join_index, left_indexer, right_indexer \u001b[39m=\u001b[39m \u001b[39mself\u001b[39;49m\u001b[39m.\u001b[39;49m_get_join_info()\n\u001b[0;32m    811\u001b[0m result \u001b[39m=\u001b[39m \u001b[39mself\u001b[39m\u001b[39m.\u001b[39m_reindex_and_concat(\n\u001b[0;32m    812\u001b[0m     join_index, left_indexer, right_indexer, copy\u001b[39m=\u001b[39mcopy\n\u001b[0;32m    813\u001b[0m )\n\u001b[0;32m    814\u001b[0m result \u001b[39m=\u001b[39m result\u001b[39m.\u001b[39m__finalize__(\u001b[39mself\u001b[39m, method\u001b[39m=\u001b[39m\u001b[39mself\u001b[39m\u001b[39m.\u001b[39m_merge_type)\n",
            "File \u001b[1;32m~\\AppData\\Local\\Packages\\PythonSoftwareFoundation.Python.3.11_qbz5n2kfra8p0\\LocalCache\\local-packages\\Python311\\site-packages\\pandas\\core\\reshape\\merge.py:1065\u001b[0m, in \u001b[0;36m_MergeOperation._get_join_info\u001b[1;34m(self)\u001b[0m\n\u001b[0;32m   1061\u001b[0m     join_index, right_indexer, left_indexer \u001b[39m=\u001b[39m _left_join_on_index(\n\u001b[0;32m   1062\u001b[0m         right_ax, left_ax, \u001b[39mself\u001b[39m\u001b[39m.\u001b[39mright_join_keys, sort\u001b[39m=\u001b[39m\u001b[39mself\u001b[39m\u001b[39m.\u001b[39msort\n\u001b[0;32m   1063\u001b[0m     )\n\u001b[0;32m   1064\u001b[0m \u001b[39melse\u001b[39;00m:\n\u001b[1;32m-> 1065\u001b[0m     (left_indexer, right_indexer) \u001b[39m=\u001b[39m \u001b[39mself\u001b[39;49m\u001b[39m.\u001b[39;49m_get_join_indexers()\n\u001b[0;32m   1067\u001b[0m     \u001b[39mif\u001b[39;00m \u001b[39mself\u001b[39m\u001b[39m.\u001b[39mright_index:\n\u001b[0;32m   1068\u001b[0m         \u001b[39mif\u001b[39;00m \u001b[39mlen\u001b[39m(\u001b[39mself\u001b[39m\u001b[39m.\u001b[39mleft) \u001b[39m>\u001b[39m \u001b[39m0\u001b[39m:\n",
            "File \u001b[1;32m~\\AppData\\Local\\Packages\\PythonSoftwareFoundation.Python.3.11_qbz5n2kfra8p0\\LocalCache\\local-packages\\Python311\\site-packages\\pandas\\core\\reshape\\merge.py:1038\u001b[0m, in \u001b[0;36m_MergeOperation._get_join_indexers\u001b[1;34m(self)\u001b[0m\n\u001b[0;32m   1036\u001b[0m \u001b[39mdef\u001b[39;00m \u001b[39m_get_join_indexers\u001b[39m(\u001b[39mself\u001b[39m) \u001b[39m-\u001b[39m\u001b[39m>\u001b[39m \u001b[39mtuple\u001b[39m[npt\u001b[39m.\u001b[39mNDArray[np\u001b[39m.\u001b[39mintp], npt\u001b[39m.\u001b[39mNDArray[np\u001b[39m.\u001b[39mintp]]:\n\u001b[0;32m   1037\u001b[0m \u001b[39m    \u001b[39m\u001b[39m\"\"\"return the join indexers\"\"\"\u001b[39;00m\n\u001b[1;32m-> 1038\u001b[0m     \u001b[39mreturn\u001b[39;00m get_join_indexers(\n\u001b[0;32m   1039\u001b[0m         \u001b[39mself\u001b[39;49m\u001b[39m.\u001b[39;49mleft_join_keys, \u001b[39mself\u001b[39;49m\u001b[39m.\u001b[39;49mright_join_keys, sort\u001b[39m=\u001b[39;49m\u001b[39mself\u001b[39;49m\u001b[39m.\u001b[39;49msort, how\u001b[39m=\u001b[39;49m\u001b[39mself\u001b[39;49m\u001b[39m.\u001b[39;49mhow\n\u001b[0;32m   1040\u001b[0m     )\n",
            "File \u001b[1;32m~\\AppData\\Local\\Packages\\PythonSoftwareFoundation.Python.3.11_qbz5n2kfra8p0\\LocalCache\\local-packages\\Python311\\site-packages\\pandas\\core\\reshape\\merge.py:1690\u001b[0m, in \u001b[0;36mget_join_indexers\u001b[1;34m(left_keys, right_keys, sort, how, **kwargs)\u001b[0m\n\u001b[0;32m   1680\u001b[0m join_func \u001b[39m=\u001b[39m {\n\u001b[0;32m   1681\u001b[0m     \u001b[39m\"\u001b[39m\u001b[39minner\u001b[39m\u001b[39m\"\u001b[39m: libjoin\u001b[39m.\u001b[39minner_join,\n\u001b[0;32m   1682\u001b[0m     \u001b[39m\"\u001b[39m\u001b[39mleft\u001b[39m\u001b[39m\"\u001b[39m: libjoin\u001b[39m.\u001b[39mleft_outer_join,\n\u001b[1;32m   (...)\u001b[0m\n\u001b[0;32m   1686\u001b[0m     \u001b[39m\"\u001b[39m\u001b[39mouter\u001b[39m\u001b[39m\"\u001b[39m: libjoin\u001b[39m.\u001b[39mfull_outer_join,\n\u001b[0;32m   1687\u001b[0m }[how]\n\u001b[0;32m   1689\u001b[0m \u001b[39m# error: Cannot call function of unknown type\u001b[39;00m\n\u001b[1;32m-> 1690\u001b[0m \u001b[39mreturn\u001b[39;00m join_func(lkey, rkey, count, \u001b[39m*\u001b[39;49m\u001b[39m*\u001b[39;49mkwargs)\n",
            "File \u001b[1;32m~\\AppData\\Local\\Packages\\PythonSoftwareFoundation.Python.3.11_qbz5n2kfra8p0\\LocalCache\\local-packages\\Python311\\site-packages\\pandas\\_libs\\join.pyx:49\u001b[0m, in \u001b[0;36mpandas._libs.join.inner_join\u001b[1;34m()\u001b[0m\n",
            "\u001b[1;31mMemoryError\u001b[0m: Unable to allocate 5.00 GiB for an array with shape (670991953,) and data type int64"
          ]
        }
      ],
      "source": [
        "# Unir los DataFrames utilizando la columna 'item_id' como clave\n",
        "df_merged1 = pd.merge(df1_aniojugado, df3_playtime, on='item_id')\n"
      ]
    },
    {
      "cell_type": "code",
      "execution_count": null,
      "metadata": {
        "id": "yGkA-0tLfqID"
      },
      "outputs": [],
      "source": [
        "df_merged1.head()"
      ]
    },
    {
      "cell_type": "code",
      "execution_count": null,
      "metadata": {
        "id": "EsoB_2S4frlU"
      },
      "outputs": [],
      "source": [
        "# Unir los DataFrames utilizando la columna 'item_id' como clave\n",
        "df_merged2 = pd.merge(df_merged1, df2_genres2, on='item_name')"
      ]
    },
    {
      "cell_type": "code",
      "execution_count": null,
      "metadata": {
        "id": "aoluWY0pf4bl"
      },
      "outputs": [],
      "source": [
        "df_merged2.head()"
      ]
    },
    {
      "cell_type": "code",
      "execution_count": null,
      "metadata": {
        "id": "l-7lZJsalxPy"
      },
      "outputs": [],
      "source": [
        "# Utiliza el método str.replace para eliminar los corchetes y comillas\n",
        "df_merged2['genres'] = df_merged2['genres'].str.replace(r\"[\\[\\]']\", '', regex=True)\n",
        "\n"
      ]
    },
    {
      "cell_type": "code",
      "execution_count": null,
      "metadata": {
        "id": "yJGNX2-JmMVN"
      },
      "outputs": [],
      "source": [
        "df_merged2.head()"
      ]
    },
    {
      "cell_type": "code",
      "execution_count": null,
      "metadata": {
        "id": "v_9nKwTay3tO"
      },
      "outputs": [],
      "source": [
        "df_merged2['genres'].unique()"
      ]
    },
    {
      "cell_type": "code",
      "execution_count": null,
      "metadata": {
        "id": "2--AfvLKf5im"
      },
      "outputs": [],
      "source": [
        "df_merged2.info()"
      ]
    },
    {
      "cell_type": "code",
      "execution_count": null,
      "metadata": {
        "id": "zgnrfo7y4aMY"
      },
      "outputs": [],
      "source": [
        "df_merged2.to_csv('dfPlayTimeGenre1_.csv', index=False)\n"
      ]
    },
    {
      "cell_type": "code",
      "execution_count": null,
      "metadata": {
        "colab": {
          "base_uri": "https://localhost:8080/",
          "height": 34
        },
        "id": "gVAltrNw47B2",
        "outputId": "013f7819-d32e-4394-9ef3-b8b70a50b103"
      },
      "outputs": [
        {
          "data": {
            "application/javascript": "\n    async function download(id, filename, size) {\n      if (!google.colab.kernel.accessAllowed) {\n        return;\n      }\n      const div = document.createElement('div');\n      const label = document.createElement('label');\n      label.textContent = `Downloading \"${filename}\": `;\n      div.appendChild(label);\n      const progress = document.createElement('progress');\n      progress.max = size;\n      div.appendChild(progress);\n      document.body.appendChild(div);\n\n      const buffers = [];\n      let downloaded = 0;\n\n      const channel = await google.colab.kernel.comms.open(id);\n      // Send a message to notify the kernel that we're ready.\n      channel.send({})\n\n      for await (const message of channel.messages) {\n        // Send a message to notify the kernel that we're ready.\n        channel.send({})\n        if (message.buffers) {\n          for (const buffer of message.buffers) {\n            buffers.push(buffer);\n            downloaded += buffer.byteLength;\n            progress.value = downloaded;\n          }\n        }\n      }\n      const blob = new Blob(buffers, {type: 'application/binary'});\n      const a = document.createElement('a');\n      a.href = window.URL.createObjectURL(blob);\n      a.download = filename;\n      div.appendChild(a);\n      a.click();\n      div.remove();\n    }\n  ",
            "text/plain": [
              "<IPython.core.display.Javascript object>"
            ]
          },
          "metadata": {},
          "output_type": "display_data"
        },
        {
          "data": {
            "application/javascript": "download(\"download_d0c275ac-562c-41ab-8200-01eb534d3ab8\", \"dfPlayTimeGenre1_.csv\", 1389673038)",
            "text/plain": [
              "<IPython.core.display.Javascript object>"
            ]
          },
          "metadata": {},
          "output_type": "display_data"
        }
      ],
      "source": [
        "from google.colab import files\n",
        "\n",
        "files.download('dfPlayTimeGenre1_.csv')\n"
      ]
    },
    {
      "cell_type": "code",
      "execution_count": 12,
      "metadata": {
        "id": "yuwbYwhZjLTj"
      },
      "outputs": [],
      "source": [
        "df = pd.read_parquet('df_primerafuncionv3parquet.parquet')"
      ]
    },
    {
      "cell_type": "code",
      "execution_count": 13,
      "metadata": {
        "colab": {
          "base_uri": "https://localhost:8080/",
          "height": 424
        },
        "id": "MOE7vgKEmukF",
        "outputId": "b5ce7d1a-d584-4e48-a3ff-09bb10b0fe5e"
      },
      "outputs": [
        {
          "data": {
            "text/html": [
              "<div>\n",
              "<style scoped>\n",
              "    .dataframe tbody tr th:only-of-type {\n",
              "        vertical-align: middle;\n",
              "    }\n",
              "\n",
              "    .dataframe tbody tr th {\n",
              "        vertical-align: top;\n",
              "    }\n",
              "\n",
              "    .dataframe thead th {\n",
              "        text-align: right;\n",
              "    }\n",
              "</style>\n",
              "<table border=\"1\" class=\"dataframe\">\n",
              "  <thead>\n",
              "    <tr style=\"text-align: right;\">\n",
              "      <th></th>\n",
              "      <th>playtime_forever</th>\n",
              "      <th>genres</th>\n",
              "      <th>Año</th>\n",
              "    </tr>\n",
              "  </thead>\n",
              "  <tbody>\n",
              "    <tr>\n",
              "      <th>0</th>\n",
              "      <td>10006</td>\n",
              "      <td>Action</td>\n",
              "      <td>2009</td>\n",
              "    </tr>\n",
              "    <tr>\n",
              "      <th>1</th>\n",
              "      <td>428</td>\n",
              "      <td>Action</td>\n",
              "      <td>2009</td>\n",
              "    </tr>\n",
              "    <tr>\n",
              "      <th>2</th>\n",
              "      <td>1646</td>\n",
              "      <td>Action</td>\n",
              "      <td>2009</td>\n",
              "    </tr>\n",
              "    <tr>\n",
              "      <th>3</th>\n",
              "      <td>0</td>\n",
              "      <td>Action</td>\n",
              "      <td>2009</td>\n",
              "    </tr>\n",
              "    <tr>\n",
              "      <th>4</th>\n",
              "      <td>3546</td>\n",
              "      <td>Action</td>\n",
              "      <td>2009</td>\n",
              "    </tr>\n",
              "    <tr>\n",
              "      <th>...</th>\n",
              "      <td>...</td>\n",
              "      <td>...</td>\n",
              "      <td>...</td>\n",
              "    </tr>\n",
              "    <tr>\n",
              "      <th>16806922</th>\n",
              "      <td>143</td>\n",
              "      <td>Adventure, Indie</td>\n",
              "      <td>2013</td>\n",
              "    </tr>\n",
              "    <tr>\n",
              "      <th>16806923</th>\n",
              "      <td>141</td>\n",
              "      <td>Adventure, Indie</td>\n",
              "      <td>2014</td>\n",
              "    </tr>\n",
              "    <tr>\n",
              "      <th>16806924</th>\n",
              "      <td>136</td>\n",
              "      <td>Adventure, Indie</td>\n",
              "      <td>2014</td>\n",
              "    </tr>\n",
              "    <tr>\n",
              "      <th>16806925</th>\n",
              "      <td>0</td>\n",
              "      <td>Adventure, Casual, Indie, Simulation</td>\n",
              "      <td>2016</td>\n",
              "    </tr>\n",
              "    <tr>\n",
              "      <th>16806926</th>\n",
              "      <td>0</td>\n",
              "      <td>Adventure, Casual, Indie, Simulation</td>\n",
              "      <td>2016</td>\n",
              "    </tr>\n",
              "  </tbody>\n",
              "</table>\n",
              "<p>16806927 rows × 3 columns</p>\n",
              "</div>"
            ],
            "text/plain": [
              "          playtime_forever                                genres   Año\n",
              "0                    10006                                Action  2009\n",
              "1                      428                                Action  2009\n",
              "2                     1646                                Action  2009\n",
              "3                        0                                Action  2009\n",
              "4                     3546                                Action  2009\n",
              "...                    ...                                   ...   ...\n",
              "16806922               143                      Adventure, Indie  2013\n",
              "16806923               141                      Adventure, Indie  2014\n",
              "16806924               136                      Adventure, Indie  2014\n",
              "16806925                 0  Adventure, Casual, Indie, Simulation  2016\n",
              "16806926                 0  Adventure, Casual, Indie, Simulation  2016\n",
              "\n",
              "[16806927 rows x 3 columns]"
            ]
          },
          "execution_count": 13,
          "metadata": {},
          "output_type": "execute_result"
        }
      ],
      "source": [
        "df"
      ]
    },
    {
      "cell_type": "code",
      "execution_count": 14,
      "metadata": {
        "id": "GYuNteTHo5So"
      },
      "outputs": [],
      "source": [
        "df['genres'] = df['genres'].astype(str) #pasamos a string\n",
        "df['genres'] = df['genres'].str.lower() # dejamos todo en minuscula "
      ]
    },
    {
      "cell_type": "code",
      "execution_count": 15,
      "metadata": {
        "colab": {
          "base_uri": "https://localhost:8080/"
        },
        "id": "-C-2ehaImyWN",
        "outputId": "2ea0b4fb-c946-46e3-d3bf-bb3b1e1aac73"
      },
      "outputs": [
        {
          "name": "stdout",
          "output_type": "stream",
          "text": [
            "<class 'pandas.core.frame.DataFrame'>\n",
            "RangeIndex: 16806927 entries, 0 to 16806926\n",
            "Data columns (total 3 columns):\n",
            " #   Column            Dtype \n",
            "---  ------            ----- \n",
            " 0   playtime_forever  int64 \n",
            " 1   genres            object\n",
            " 2   Año               int64 \n",
            "dtypes: int64(2), object(1)\n",
            "memory usage: 384.7+ MB\n"
          ]
        }
      ],
      "source": [
        "df.info()"
      ]
    },
    {
      "cell_type": "code",
      "execution_count": 16,
      "metadata": {},
      "outputs": [
        {
          "data": {
            "image/png": "[encoded data removed]",
            "text/plain": [
              "<Figure size 1000x600 with 1 Axes>"
            ]
          },
          "metadata": {},
          "output_type": "display_data"
        }
      ],
      "source": [
        "import matplotlib.pyplot as plt\n",
        "\n",
        "años = df['Año']\n",
        "\n",
        "plt.figure(figsize=(10, 6))\n",
        "plt.hist(años, bins=10, edgecolor='k')\n",
        "plt.title('Histograma de Año')\n",
        "plt.xlabel('Año')\n",
        "plt.ylabel('Frecuencia')\n",
        "plt.grid(True)\n",
        "plt.show()\n",
        "\n"
      ]
    },
    {
      "cell_type": "code",
      "execution_count": 17,
      "metadata": {},
      "outputs": [],
      "source": [
        "# Vamos a reducirlo a la mitad por una cuestion de espacio en render \n",
        "df_reducido = df.sample(frac=0.5, random_state=1)"
      ]
    },
    {
      "cell_type": "code",
      "execution_count": 18,
      "metadata": {},
      "outputs": [
        {
          "name": "stdout",
          "output_type": "stream",
          "text": [
            "<class 'pandas.core.frame.DataFrame'>\n",
            "Index: 8403464 entries, 12520897 to 16276368\n",
            "Data columns (total 3 columns):\n",
            " #   Column            Dtype \n",
            "---  ------            ----- \n",
            " 0   playtime_forever  int64 \n",
            " 1   genres            object\n",
            " 2   Año               int64 \n",
            "dtypes: int64(2), object(1)\n",
            "memory usage: 256.5+ MB\n"
          ]
        }
      ],
      "source": [
        "df_reducido.info()\n"
      ]
    },
    {
      "cell_type": "code",
      "execution_count": 19,
      "metadata": {},
      "outputs": [],
      "source": [
        "# Vamos a tener que reducirlo un poco mas aun\n",
        "tamano_muestra = 0.3  #30% tomamos\n",
        "\n",
        "# Tomar una muestra aleatoria del DataFrame\n",
        "df_reducido = df_reducido.sample(frac=tamano_muestra, random_state=42)"
      ]
    },
    {
      "cell_type": "code",
      "execution_count": 20,
      "metadata": {},
      "outputs": [
        {
          "name": "stdout",
          "output_type": "stream",
          "text": [
            "<class 'pandas.core.frame.DataFrame'>\n",
            "Index: 2521039 entries, 10486571 to 8924735\n",
            "Data columns (total 3 columns):\n",
            " #   Column            Dtype \n",
            "---  ------            ----- \n",
            " 0   playtime_forever  int64 \n",
            " 1   genres            object\n",
            " 2   Año               int64 \n",
            "dtypes: int64(2), object(1)\n",
            "memory usage: 76.9+ MB\n"
          ]
        }
      ],
      "source": [
        "df_reducido.info()"
      ]
    },
    {
      "cell_type": "code",
      "execution_count": 21,
      "metadata": {},
      "outputs": [],
      "source": [
        "df_reducido['playtime_forever'] = df_reducido['playtime_forever'] / 60\n",
        "#dividimos en 60 porque queremos horas y esta en minutos"
      ]
    },
    {
      "cell_type": "code",
      "execution_count": 22,
      "metadata": {},
      "outputs": [
        {
          "data": {
            "image/png": "[encoded data removed]",
            "text/plain": [
              "<Figure size 1000x600 with 1 Axes>"
            ]
          },
          "metadata": {},
          "output_type": "display_data"
        }
      ],
      "source": [
        "import matplotlib.pyplot as plt\n",
        "playtime = df_reducido['playtime_forever']\n",
        "años = df_reducido['Año']\n",
        "\n",
        "# grafico de dispersión\n",
        "plt.figure(figsize=(10, 6))\n",
        "plt.scatter(años, playtime, alpha=0.5)  # alpha =transparencia de los puntos\n",
        "plt.title('Gráfico de Dispersión: Minutos de Juego por Años')\n",
        "plt.xlabel('Años')\n",
        "plt.ylabel('Minutos de Juego')\n",
        "plt.grid(True) \n",
        "plt.show()"
      ]
    },
    {
      "cell_type": "code",
      "execution_count": 23,
      "metadata": {
        "id": "lT8eM0wYo4wh"
      },
      "outputs": [],
      "source": [
        "parquet_file = \"df_1redu.parquet\"\n",
        "# Exportamos el parquet\n",
        "df_reducido.to_parquet(parquet_file, index=False)"
      ]
    },
    {
      "cell_type": "code",
      "execution_count": 24,
      "metadata": {
        "id": "sWw95Oiif71y"
      },
      "outputs": [],
      "source": [
        "def PlayTimeGenre(genero: str):\n",
        "    # Filtra las filas donde el género coincide\n",
        "    df_filtered = df[df['genres'] == genero]\n",
        "\n",
        "    if df_filtered.empty:\n",
        "        return f\"No se encontraron datos para el género '{genero}'\"\n",
        "\n",
        "    # Encuentra el año con más horas jugadas para ese género\n",
        "    year_with_most_playtime = df_filtered.groupby('Año')['playtime_forever'].sum().idxmax()\n",
        "\n",
        "    return {f\"Año de lanzamiento con más horas jugadas para el género '{genero}'\": year_with_most_playtime}"
      ]
    },
    {
      "cell_type": "code",
      "execution_count": 25,
      "metadata": {
        "colab": {
          "base_uri": "https://localhost:8080/"
        },
        "id": "IHj_T1pA1Oiw",
        "outputId": "5d487766-4cf4-4dc3-9d95-4ba6dfeab09d"
      },
      "outputs": [
        {
          "name": "stdout",
          "output_type": "stream",
          "text": [
            "No se encontraron datos para el género 'Action'\n",
            "No se encontraron datos para el género 'Strategy'\n"
          ]
        }
      ],
      "source": [
        "# Ejemplo de uso:\n",
        "result = PlayTimeGenre('Action')\n",
        "print(result)\n",
        "\n",
        "result = PlayTimeGenre('Strategy')\n",
        "print(result)"
      ]
    },
    {
      "cell_type": "code",
      "execution_count": 26,
      "metadata": {
        "colab": {
          "base_uri": "https://localhost:8080/"
        },
        "id": "qwnies2A1gKQ",
        "outputId": "0d6acb7d-6664-4e7d-c9a1-f3dd91df6eac"
      },
      "outputs": [
        {
          "name": "stdout",
          "output_type": "stream",
          "text": [
            "No se encontraron datos para el género 'Strategy'\n"
          ]
        }
      ],
      "source": [
        "print(result)\n"
      ]
    },
    {
      "cell_type": "code",
      "execution_count": null,
      "metadata": {
        "id": "aGJpJ3A1_yeR"
      },
      "outputs": [],
      "source": []
    }
  ],
  "metadata": {
    "accelerator": "TPU",
    "colab": {
      "provenance": []
    },
    "kernelspec": {
      "display_name": "Python 3",
      "name": "python3"
    },
    "language_info": {
      "codemirror_mode": {
        "name": "ipython",
        "version": 3
      },
      "file_extension": ".py",
      "mimetype": "text/x-python",
      "name": "python",
      "nbconvert_exporter": "python",
      "pygments_lexer": "ipython3",
      "version": "3.11.3"
    }
  },
  "nbformat": 4,
  "nbformat_minor": 0
}
