{
  "cells": [
    {
      "cell_type": "code",
      "execution_count": 5,
      "metadata": {
        "id": "nGWMQDLDEfd7"
      },
      "outputs": [],
      "source": [
        "import pandas as pd\n",
        "\n",
        "# Ruta a tus archivos CSV\n",
        "archivo_csv1 = 'gamescompleto.csv'\n",
        "archivo_csv2 = 'itemscompleto.csv'\n",
        "archivo_csv3 = 'df_reviews_completo3sin23.csv'\n",
        "\n",
        "# Carga de datos desde los archivos CSV en DataFrames\n",
        "dfgames = pd.read_csv(archivo_csv1)\n",
        "dfitems = pd.read_csv(archivo_csv2)\n",
        "dfreviews = pd.read_csv(archivo_csv3)"
      ]
    },
    {
      "cell_type": "code",
      "execution_count": 6,
      "metadata": {
        "colab": {
          "base_uri": "https://localhost:8080/",
          "height": 521
        },
        "id": "Yy9VkiD-wPfU",
        "outputId": "0b0cee12-4115-4bb3-fe99-03c340a9b5ee"
      },
      "outputs": [
        {
          "data": {
            "text/html": [
              "<div>\n",
              "<style scoped>\n",
              "    .dataframe tbody tr th:only-of-type {\n",
              "        vertical-align: middle;\n",
              "    }\n",
              "\n",
              "    .dataframe tbody tr th {\n",
              "        vertical-align: top;\n",
              "    }\n",
              "\n",
              "    .dataframe thead th {\n",
              "        text-align: right;\n",
              "    }\n",
              "</style>\n",
              "<table border=\"1\" class=\"dataframe\">\n",
              "  <thead>\n",
              "    <tr style=\"text-align: right;\">\n",
              "      <th></th>\n",
              "      <th>publisher</th>\n",
              "      <th>genres</th>\n",
              "      <th>item_name</th>\n",
              "      <th>title</th>\n",
              "      <th>url</th>\n",
              "      <th>release_date</th>\n",
              "      <th>tags</th>\n",
              "      <th>reviews_url</th>\n",
              "      <th>specs</th>\n",
              "      <th>price</th>\n",
              "      <th>early_access</th>\n",
              "      <th>item_id</th>\n",
              "      <th>developer</th>\n",
              "    </tr>\n",
              "  </thead>\n",
              "  <tbody>\n",
              "    <tr>\n",
              "      <th>0</th>\n",
              "      <td>Kotoshiro</td>\n",
              "      <td>['Action', 'Casual', 'Indie', 'Simulation', 'S...</td>\n",
              "      <td>Lost Summoner Kitty</td>\n",
              "      <td>Lost Summoner Kitty</td>\n",
              "      <td>http://store.steampowered.com/app/761140/Lost_...</td>\n",
              "      <td>2018-01-04</td>\n",
              "      <td>['Strategy', 'Action', 'Indie', 'Casual', 'Sim...</td>\n",
              "      <td>http://steamcommunity.com/app/761140/reviews/?...</td>\n",
              "      <td>['Single-player']</td>\n",
              "      <td>4.99</td>\n",
              "      <td>False</td>\n",
              "      <td>761140.0</td>\n",
              "      <td>Kotoshiro</td>\n",
              "    </tr>\n",
              "    <tr>\n",
              "      <th>1</th>\n",
              "      <td>Making Fun, Inc.</td>\n",
              "      <td>['Free to Play', 'Indie', 'RPG', 'Strategy']</td>\n",
              "      <td>Ironbound</td>\n",
              "      <td>Ironbound</td>\n",
              "      <td>http://store.steampowered.com/app/643980/Ironb...</td>\n",
              "      <td>2018-01-04</td>\n",
              "      <td>['Free to Play', 'Strategy', 'Indie', 'RPG', '...</td>\n",
              "      <td>http://steamcommunity.com/app/643980/reviews/?...</td>\n",
              "      <td>['Single-player', 'Multi-player', 'Online Mult...</td>\n",
              "      <td>Free To Play</td>\n",
              "      <td>False</td>\n",
              "      <td>643980.0</td>\n",
              "      <td>Secret Level SRL</td>\n",
              "    </tr>\n",
              "    <tr>\n",
              "      <th>2</th>\n",
              "      <td>Poolians.com</td>\n",
              "      <td>['Casual', 'Free to Play', 'Indie', 'Simulatio...</td>\n",
              "      <td>Real Pool 3D - Poolians</td>\n",
              "      <td>Real Pool 3D - Poolians</td>\n",
              "      <td>http://store.steampowered.com/app/670290/Real_...</td>\n",
              "      <td>2017-07-24</td>\n",
              "      <td>['Free to Play', 'Simulation', 'Sports', 'Casu...</td>\n",
              "      <td>http://steamcommunity.com/app/670290/reviews/?...</td>\n",
              "      <td>['Single-player', 'Multi-player', 'Online Mult...</td>\n",
              "      <td>Free to Play</td>\n",
              "      <td>False</td>\n",
              "      <td>670290.0</td>\n",
              "      <td>Poolians.com</td>\n",
              "    </tr>\n",
              "    <tr>\n",
              "      <th>3</th>\n",
              "      <td>彼岸领域</td>\n",
              "      <td>['Action', 'Adventure', 'Casual']</td>\n",
              "      <td>弹炸人2222</td>\n",
              "      <td>弹炸人2222</td>\n",
              "      <td>http://store.steampowered.com/app/767400/2222/</td>\n",
              "      <td>2017-12-07</td>\n",
              "      <td>['Action', 'Adventure', 'Casual']</td>\n",
              "      <td>http://steamcommunity.com/app/767400/reviews/?...</td>\n",
              "      <td>['Single-player']</td>\n",
              "      <td>0.99</td>\n",
              "      <td>False</td>\n",
              "      <td>767400.0</td>\n",
              "      <td>彼岸领域</td>\n",
              "    </tr>\n",
              "    <tr>\n",
              "      <th>4</th>\n",
              "      <td>Trickjump Games Ltd</td>\n",
              "      <td>['Action', 'Adventure', 'Simulation']</td>\n",
              "      <td>Battle Royale Trainer</td>\n",
              "      <td>Battle Royale Trainer</td>\n",
              "      <td>http://store.steampowered.com/app/772540/Battl...</td>\n",
              "      <td>2018-01-04</td>\n",
              "      <td>['Action', 'Adventure', 'Simulation', 'FPS', '...</td>\n",
              "      <td>http://steamcommunity.com/app/772540/reviews/?...</td>\n",
              "      <td>['Single-player', 'Steam Achievements']</td>\n",
              "      <td>3.99</td>\n",
              "      <td>False</td>\n",
              "      <td>772540.0</td>\n",
              "      <td>Trickjump Games Ltd</td>\n",
              "    </tr>\n",
              "  </tbody>\n",
              "</table>\n",
              "</div>"
            ],
            "text/plain": [
              "             publisher                                             genres  \\\n",
              "0            Kotoshiro  ['Action', 'Casual', 'Indie', 'Simulation', 'S...   \n",
              "1     Making Fun, Inc.       ['Free to Play', 'Indie', 'RPG', 'Strategy']   \n",
              "2         Poolians.com  ['Casual', 'Free to Play', 'Indie', 'Simulatio...   \n",
              "3                 彼岸领域                  ['Action', 'Adventure', 'Casual']   \n",
              "4  Trickjump Games Ltd              ['Action', 'Adventure', 'Simulation']   \n",
              "\n",
              "                 item_name                    title  \\\n",
              "0      Lost Summoner Kitty      Lost Summoner Kitty   \n",
              "1                Ironbound                Ironbound   \n",
              "2  Real Pool 3D - Poolians  Real Pool 3D - Poolians   \n",
              "3                  弹炸人2222                  弹炸人2222   \n",
              "4    Battle Royale Trainer    Battle Royale Trainer   \n",
              "\n",
              "                                                 url release_date  \\\n",
              "0  http://store.steampowered.com/app/761140/Lost_...   2018-01-04   \n",
              "1  http://store.steampowered.com/app/643980/Ironb...   2018-01-04   \n",
              "2  http://store.steampowered.com/app/670290/Real_...   2017-07-24   \n",
              "3     http://store.steampowered.com/app/767400/2222/   2017-12-07   \n",
              "4  http://store.steampowered.com/app/772540/Battl...   2018-01-04   \n",
              "\n",
              "                                                tags  \\\n",
              "0  ['Strategy', 'Action', 'Indie', 'Casual', 'Sim...   \n",
              "1  ['Free to Play', 'Strategy', 'Indie', 'RPG', '...   \n",
              "2  ['Free to Play', 'Simulation', 'Sports', 'Casu...   \n",
              "3                  ['Action', 'Adventure', 'Casual']   \n",
              "4  ['Action', 'Adventure', 'Simulation', 'FPS', '...   \n",
              "\n",
              "                                         reviews_url  \\\n",
              "0  http://steamcommunity.com/app/761140/reviews/?...   \n",
              "1  http://steamcommunity.com/app/643980/reviews/?...   \n",
              "2  http://steamcommunity.com/app/670290/reviews/?...   \n",
              "3  http://steamcommunity.com/app/767400/reviews/?...   \n",
              "4  http://steamcommunity.com/app/772540/reviews/?...   \n",
              "\n",
              "                                               specs         price  \\\n",
              "0                                  ['Single-player']          4.99   \n",
              "1  ['Single-player', 'Multi-player', 'Online Mult...  Free To Play   \n",
              "2  ['Single-player', 'Multi-player', 'Online Mult...  Free to Play   \n",
              "3                                  ['Single-player']          0.99   \n",
              "4            ['Single-player', 'Steam Achievements']          3.99   \n",
              "\n",
              "   early_access   item_id            developer  \n",
              "0         False  761140.0            Kotoshiro  \n",
              "1         False  643980.0     Secret Level SRL  \n",
              "2         False  670290.0         Poolians.com  \n",
              "3         False  767400.0                 彼岸领域  \n",
              "4         False  772540.0  Trickjump Games Ltd  "
            ]
          },
          "execution_count": 6,
          "metadata": {},
          "output_type": "execute_result"
        }
      ],
      "source": [
        "dfgames.head()"
      ]
    },
    {
      "cell_type": "code",
      "execution_count": 7,
      "metadata": {
        "id": "QjiDr2D_xuVY"
      },
      "outputs": [],
      "source": [
        "dfgames2 = dfgames[['item_id','item_name']]"
      ]
    },
    {
      "cell_type": "code",
      "execution_count": 8,
      "metadata": {
        "colab": {
          "base_uri": "https://localhost:8080/"
        },
        "id": "cQfXjE-Ix6Q_",
        "outputId": "8407049a-a80f-49c5-f2a4-24c7f11ce2ae"
      },
      "outputs": [
        {
          "name": "stdout",
          "output_type": "stream",
          "text": [
            "<class 'pandas.core.frame.DataFrame'>\n",
            "RangeIndex: 28852 entries, 0 to 28851\n",
            "Data columns (total 2 columns):\n",
            " #   Column     Non-Null Count  Dtype  \n",
            "---  ------     --------------  -----  \n",
            " 0   item_id    28851 non-null  float64\n",
            " 1   item_name  28851 non-null  object \n",
            "dtypes: float64(1), object(1)\n",
            "memory usage: 450.9+ KB\n"
          ]
        }
      ],
      "source": [
        "dfgames2.info()"
      ]
    },
    {
      "cell_type": "code",
      "execution_count": 9,
      "metadata": {
        "colab": {
          "base_uri": "https://localhost:8080/"
        },
        "id": "hCcTmkkQyBqe",
        "outputId": "98a52804-72bf-4efa-ee07-8cadac529a34"
      },
      "outputs": [
        {
          "name": "stderr",
          "output_type": "stream",
          "text": [
            "C:\\Users\\W10\\AppData\\Local\\Temp\\ipykernel_6244\\3459923879.py:1: SettingWithCopyWarning: \n",
            "A value is trying to be set on a copy of a slice from a DataFrame\n",
            "\n",
            "See the caveats in the documentation: https://pandas.pydata.org/pandas-docs/stable/user_guide/indexing.html#returning-a-view-versus-a-copy\n",
            "  dfgames2.dropna(inplace=True)\n"
          ]
        }
      ],
      "source": [
        "dfgames2.dropna(inplace=True)\n"
      ]
    },
    {
      "cell_type": "code",
      "execution_count": 10,
      "metadata": {
        "colab": {
          "base_uri": "https://localhost:8080/"
        },
        "id": "p1u4YcruyDiX",
        "outputId": "c21ecfc6-1973-444a-9cc9-032433be7b40"
      },
      "outputs": [
        {
          "data": {
            "text/plain": [
              "item_id      0\n",
              "item_name    0\n",
              "dtype: int64"
            ]
          },
          "execution_count": 10,
          "metadata": {},
          "output_type": "execute_result"
        }
      ],
      "source": [
        "dfgames2.isnull().sum()"
      ]
    },
    {
      "cell_type": "code",
      "execution_count": 11,
      "metadata": {
        "colab": {
          "base_uri": "https://localhost:8080/"
        },
        "id": "gfElIKBJyvQp",
        "outputId": "a6cce7f8-3650-44c1-9132-997f3e21219e"
      },
      "outputs": [
        {
          "name": "stdout",
          "output_type": "stream",
          "text": [
            "Número de filas duplicadas: 1\n"
          ]
        }
      ],
      "source": [
        "num_filas_dupli = dfgames2.duplicated().sum()\n",
        "print(f\"Número de filas duplicadas: {num_filas_dupli}\")\n"
      ]
    },
    {
      "cell_type": "code",
      "execution_count": 12,
      "metadata": {
        "colab": {
          "base_uri": "https://localhost:8080/"
        },
        "id": "OFWNXd6ey3bM",
        "outputId": "15355730-391d-4275-f7fa-f335efbc6618"
      },
      "outputs": [
        {
          "name": "stderr",
          "output_type": "stream",
          "text": [
            "C:\\Users\\W10\\AppData\\Local\\Temp\\ipykernel_6244\\1943008950.py:1: SettingWithCopyWarning: \n",
            "A value is trying to be set on a copy of a slice from a DataFrame\n",
            "\n",
            "See the caveats in the documentation: https://pandas.pydata.org/pandas-docs/stable/user_guide/indexing.html#returning-a-view-versus-a-copy\n",
            "  dfgames2.drop_duplicates(subset=['item_name', 'item_id'], keep='first', inplace=True)\n"
          ]
        }
      ],
      "source": [
        "dfgames2.drop_duplicates(subset=['item_name', 'item_id'], keep='first', inplace=True)\n",
        "# borramos duplicados solo si la fila completa esta duplicada"
      ]
    },
    {
      "cell_type": "code",
      "execution_count": 13,
      "metadata": {
        "colab": {
          "base_uri": "https://localhost:8080/"
        },
        "id": "oOnZemU5y6CM",
        "outputId": "970ae6e2-c1ea-4ae5-e011-0ce4bc088cbb"
      },
      "outputs": [
        {
          "name": "stderr",
          "output_type": "stream",
          "text": [
            "C:\\Users\\W10\\AppData\\Local\\Temp\\ipykernel_6244\\658995972.py:1: SettingWithCopyWarning: \n",
            "A value is trying to be set on a copy of a slice from a DataFrame.\n",
            "Try using .loc[row_indexer,col_indexer] = value instead\n",
            "\n",
            "See the caveats in the documentation: https://pandas.pydata.org/pandas-docs/stable/user_guide/indexing.html#returning-a-view-versus-a-copy\n",
            "  dfgames2['item_id'] = pd.to_numeric(dfgames2['item_id'], errors='coerce').fillna(0).astype(int)\n"
          ]
        }
      ],
      "source": [
        "dfgames2['item_id'] = pd.to_numeric(dfgames2['item_id'], errors='coerce').fillna(0).astype(int)\n",
        "# convertimos la columna en formato int"
      ]
    },
    {
      "cell_type": "code",
      "execution_count": 14,
      "metadata": {
        "colab": {
          "base_uri": "https://localhost:8080/"
        },
        "id": "bTvk2QdyzCNk",
        "outputId": "9cbc44dc-413c-4bb0-8b94-3084fa4ad1ce"
      },
      "outputs": [
        {
          "name": "stdout",
          "output_type": "stream",
          "text": [
            "<class 'pandas.core.frame.DataFrame'>\n",
            "Index: 28849 entries, 0 to 28851\n",
            "Data columns (total 2 columns):\n",
            " #   Column     Non-Null Count  Dtype \n",
            "---  ------     --------------  ----- \n",
            " 0   item_id    28849 non-null  int32 \n",
            " 1   item_name  28849 non-null  object\n",
            "dtypes: int32(1), object(1)\n",
            "memory usage: 563.5+ KB\n"
          ]
        }
      ],
      "source": [
        "dfgames2.info()\n",
        "#verificamos que no hay nulos y los formatos"
      ]
    },
    {
      "cell_type": "code",
      "execution_count": 15,
      "metadata": {
        "colab": {
          "base_uri": "https://localhost:8080/",
          "height": 206
        },
        "id": "PrCm5bKLxAkv",
        "outputId": "b1a65916-c1d7-4b4e-8612-46794026bc95"
      },
      "outputs": [
        {
          "data": {
            "text/html": [
              "<div>\n",
              "<style scoped>\n",
              "    .dataframe tbody tr th:only-of-type {\n",
              "        vertical-align: middle;\n",
              "    }\n",
              "\n",
              "    .dataframe tbody tr th {\n",
              "        vertical-align: top;\n",
              "    }\n",
              "\n",
              "    .dataframe thead th {\n",
              "        text-align: right;\n",
              "    }\n",
              "</style>\n",
              "<table border=\"1\" class=\"dataframe\">\n",
              "  <thead>\n",
              "    <tr style=\"text-align: right;\">\n",
              "      <th></th>\n",
              "      <th>user_id</th>\n",
              "      <th>user_url</th>\n",
              "      <th>funny</th>\n",
              "      <th>Fecha_posteo</th>\n",
              "      <th>last_edited</th>\n",
              "      <th>item_id</th>\n",
              "      <th>helpful</th>\n",
              "      <th>recommend</th>\n",
              "      <th>sentiment_analysis</th>\n",
              "    </tr>\n",
              "  </thead>\n",
              "  <tbody>\n",
              "    <tr>\n",
              "      <th>0</th>\n",
              "      <td>76561197970982479</td>\n",
              "      <td>http://steamcommunity.com/profiles/76561197970...</td>\n",
              "      <td>NaN</td>\n",
              "      <td>2011.0</td>\n",
              "      <td>NaN</td>\n",
              "      <td>1250</td>\n",
              "      <td>No ratings yet</td>\n",
              "      <td>True</td>\n",
              "      <td>2</td>\n",
              "    </tr>\n",
              "    <tr>\n",
              "      <th>1</th>\n",
              "      <td>js41637</td>\n",
              "      <td>http://steamcommunity.com/id/js41637</td>\n",
              "      <td>NaN</td>\n",
              "      <td>2011.0</td>\n",
              "      <td>NaN</td>\n",
              "      <td>22200</td>\n",
              "      <td>No ratings yet</td>\n",
              "      <td>True</td>\n",
              "      <td>2</td>\n",
              "    </tr>\n",
              "    <tr>\n",
              "      <th>2</th>\n",
              "      <td>evcentric</td>\n",
              "      <td>http://steamcommunity.com/id/evcentric</td>\n",
              "      <td>NaN</td>\n",
              "      <td>2011.0</td>\n",
              "      <td>NaN</td>\n",
              "      <td>43110</td>\n",
              "      <td>No ratings yet</td>\n",
              "      <td>True</td>\n",
              "      <td>1</td>\n",
              "    </tr>\n",
              "    <tr>\n",
              "      <th>3</th>\n",
              "      <td>doctr</td>\n",
              "      <td>http://steamcommunity.com/id/doctr</td>\n",
              "      <td>NaN</td>\n",
              "      <td>2014.0</td>\n",
              "      <td>NaN</td>\n",
              "      <td>251610</td>\n",
              "      <td>15 of 20 people (75%) found this review helpful</td>\n",
              "      <td>True</td>\n",
              "      <td>2</td>\n",
              "    </tr>\n",
              "    <tr>\n",
              "      <th>4</th>\n",
              "      <td>maplemage</td>\n",
              "      <td>http://steamcommunity.com/id/maplemage</td>\n",
              "      <td>NaN</td>\n",
              "      <td>2013.0</td>\n",
              "      <td>NaN</td>\n",
              "      <td>227300</td>\n",
              "      <td>0 of 1 people (0%) found this review helpful</td>\n",
              "      <td>True</td>\n",
              "      <td>1</td>\n",
              "    </tr>\n",
              "  </tbody>\n",
              "</table>\n",
              "</div>"
            ],
            "text/plain": [
              "             user_id                                           user_url funny  \\\n",
              "0  76561197970982479  http://steamcommunity.com/profiles/76561197970...   NaN   \n",
              "1            js41637               http://steamcommunity.com/id/js41637   NaN   \n",
              "2          evcentric             http://steamcommunity.com/id/evcentric   NaN   \n",
              "3              doctr                 http://steamcommunity.com/id/doctr   NaN   \n",
              "4          maplemage             http://steamcommunity.com/id/maplemage   NaN   \n",
              "\n",
              "   Fecha_posteo last_edited  item_id  \\\n",
              "0        2011.0         NaN     1250   \n",
              "1        2011.0         NaN    22200   \n",
              "2        2011.0         NaN    43110   \n",
              "3        2014.0         NaN   251610   \n",
              "4        2013.0         NaN   227300   \n",
              "\n",
              "                                           helpful  recommend  \\\n",
              "0                                   No ratings yet       True   \n",
              "1                                   No ratings yet       True   \n",
              "2                                   No ratings yet       True   \n",
              "3  15 of 20 people (75%) found this review helpful       True   \n",
              "4     0 of 1 people (0%) found this review helpful       True   \n",
              "\n",
              "   sentiment_analysis  \n",
              "0                   2  \n",
              "1                   2  \n",
              "2                   1  \n",
              "3                   2  \n",
              "4                   1  "
            ]
          },
          "execution_count": 15,
          "metadata": {},
          "output_type": "execute_result"
        }
      ],
      "source": [
        "dfreviews.head()"
      ]
    },
    {
      "cell_type": "code",
      "execution_count": 16,
      "metadata": {
        "id": "6WyBYmH0xE35"
      },
      "outputs": [],
      "source": [
        "dfreviews2=dfreviews[['user_id','item_id','recommend','sentiment_analysis']]"
      ]
    },
    {
      "cell_type": "code",
      "execution_count": 17,
      "metadata": {
        "colab": {
          "base_uri": "https://localhost:8080/",
          "height": 206
        },
        "id": "j_mxwCAu00fU",
        "outputId": "c9cc0e84-f13b-4c84-e4dc-a70a88ed120a"
      },
      "outputs": [
        {
          "data": {
            "text/html": [
              "<div>\n",
              "<style scoped>\n",
              "    .dataframe tbody tr th:only-of-type {\n",
              "        vertical-align: middle;\n",
              "    }\n",
              "\n",
              "    .dataframe tbody tr th {\n",
              "        vertical-align: top;\n",
              "    }\n",
              "\n",
              "    .dataframe thead th {\n",
              "        text-align: right;\n",
              "    }\n",
              "</style>\n",
              "<table border=\"1\" class=\"dataframe\">\n",
              "  <thead>\n",
              "    <tr style=\"text-align: right;\">\n",
              "      <th></th>\n",
              "      <th>user_id</th>\n",
              "      <th>item_id</th>\n",
              "      <th>recommend</th>\n",
              "      <th>sentiment_analysis</th>\n",
              "    </tr>\n",
              "  </thead>\n",
              "  <tbody>\n",
              "    <tr>\n",
              "      <th>0</th>\n",
              "      <td>76561197970982479</td>\n",
              "      <td>1250</td>\n",
              "      <td>True</td>\n",
              "      <td>2</td>\n",
              "    </tr>\n",
              "    <tr>\n",
              "      <th>1</th>\n",
              "      <td>js41637</td>\n",
              "      <td>22200</td>\n",
              "      <td>True</td>\n",
              "      <td>2</td>\n",
              "    </tr>\n",
              "    <tr>\n",
              "      <th>2</th>\n",
              "      <td>evcentric</td>\n",
              "      <td>43110</td>\n",
              "      <td>True</td>\n",
              "      <td>1</td>\n",
              "    </tr>\n",
              "    <tr>\n",
              "      <th>3</th>\n",
              "      <td>doctr</td>\n",
              "      <td>251610</td>\n",
              "      <td>True</td>\n",
              "      <td>2</td>\n",
              "    </tr>\n",
              "    <tr>\n",
              "      <th>4</th>\n",
              "      <td>maplemage</td>\n",
              "      <td>227300</td>\n",
              "      <td>True</td>\n",
              "      <td>1</td>\n",
              "    </tr>\n",
              "  </tbody>\n",
              "</table>\n",
              "</div>"
            ],
            "text/plain": [
              "             user_id  item_id  recommend  sentiment_analysis\n",
              "0  76561197970982479     1250       True                   2\n",
              "1            js41637    22200       True                   2\n",
              "2          evcentric    43110       True                   1\n",
              "3              doctr   251610       True                   2\n",
              "4          maplemage   227300       True                   1"
            ]
          },
          "execution_count": 17,
          "metadata": {},
          "output_type": "execute_result"
        }
      ],
      "source": [
        "dfreviews2.head()"
      ]
    },
    {
      "cell_type": "code",
      "execution_count": 18,
      "metadata": {
        "id": "bMzML50201dW"
      },
      "outputs": [],
      "source": [
        "#juntamos los df\n",
        "merged_df = pd.merge(dfgames2, dfreviews2, on='item_id', how='inner')"
      ]
    },
    {
      "cell_type": "code",
      "execution_count": 19,
      "metadata": {
        "colab": {
          "base_uri": "https://localhost:8080/",
          "height": 424
        },
        "id": "VJyx8VAK2K2P",
        "outputId": "35876b00-f11b-4bd4-de4a-d941bf0c7959"
      },
      "outputs": [
        {
          "data": {
            "text/html": [
              "<div>\n",
              "<style scoped>\n",
              "    .dataframe tbody tr th:only-of-type {\n",
              "        vertical-align: middle;\n",
              "    }\n",
              "\n",
              "    .dataframe tbody tr th {\n",
              "        vertical-align: top;\n",
              "    }\n",
              "\n",
              "    .dataframe thead th {\n",
              "        text-align: right;\n",
              "    }\n",
              "</style>\n",
              "<table border=\"1\" class=\"dataframe\">\n",
              "  <thead>\n",
              "    <tr style=\"text-align: right;\">\n",
              "      <th></th>\n",
              "      <th>item_id</th>\n",
              "      <th>item_name</th>\n",
              "      <th>user_id</th>\n",
              "      <th>recommend</th>\n",
              "      <th>sentiment_analysis</th>\n",
              "    </tr>\n",
              "  </thead>\n",
              "  <tbody>\n",
              "    <tr>\n",
              "      <th>0</th>\n",
              "      <td>282010</td>\n",
              "      <td>Carmageddon Max Pack</td>\n",
              "      <td>76561198076055973</td>\n",
              "      <td>True</td>\n",
              "      <td>1</td>\n",
              "    </tr>\n",
              "    <tr>\n",
              "      <th>1</th>\n",
              "      <td>70</td>\n",
              "      <td>Half-Life</td>\n",
              "      <td>AppoGetsSuperAdmin</td>\n",
              "      <td>True</td>\n",
              "      <td>1</td>\n",
              "    </tr>\n",
              "    <tr>\n",
              "      <th>2</th>\n",
              "      <td>70</td>\n",
              "      <td>Half-Life</td>\n",
              "      <td>76561198051084367</td>\n",
              "      <td>True</td>\n",
              "      <td>0</td>\n",
              "    </tr>\n",
              "    <tr>\n",
              "      <th>3</th>\n",
              "      <td>70</td>\n",
              "      <td>Half-Life</td>\n",
              "      <td>DropBear99</td>\n",
              "      <td>True</td>\n",
              "      <td>0</td>\n",
              "    </tr>\n",
              "    <tr>\n",
              "      <th>4</th>\n",
              "      <td>70</td>\n",
              "      <td>Half-Life</td>\n",
              "      <td>hecaton_john</td>\n",
              "      <td>True</td>\n",
              "      <td>2</td>\n",
              "    </tr>\n",
              "    <tr>\n",
              "      <th>...</th>\n",
              "      <td>...</td>\n",
              "      <td>...</td>\n",
              "      <td>...</td>\n",
              "      <td>...</td>\n",
              "      <td>...</td>\n",
              "    </tr>\n",
              "    <tr>\n",
              "      <th>50422</th>\n",
              "      <td>80</td>\n",
              "      <td>Counter-Strike: Condition Zero</td>\n",
              "      <td>NaN</td>\n",
              "      <td>False</td>\n",
              "      <td>1</td>\n",
              "    </tr>\n",
              "    <tr>\n",
              "      <th>50423</th>\n",
              "      <td>80</td>\n",
              "      <td>Counter-Strike: Condition Zero</td>\n",
              "      <td>NaN</td>\n",
              "      <td>True</td>\n",
              "      <td>2</td>\n",
              "    </tr>\n",
              "    <tr>\n",
              "      <th>50424</th>\n",
              "      <td>80</td>\n",
              "      <td>Counter-Strike: Condition Zero</td>\n",
              "      <td>NaN</td>\n",
              "      <td>True</td>\n",
              "      <td>2</td>\n",
              "    </tr>\n",
              "    <tr>\n",
              "      <th>50425</th>\n",
              "      <td>80</td>\n",
              "      <td>Counter-Strike: Condition Zero</td>\n",
              "      <td>NaN</td>\n",
              "      <td>True</td>\n",
              "      <td>1</td>\n",
              "    </tr>\n",
              "    <tr>\n",
              "      <th>50426</th>\n",
              "      <td>80</td>\n",
              "      <td>Counter-Strike: Condition Zero</td>\n",
              "      <td>NaN</td>\n",
              "      <td>True</td>\n",
              "      <td>0</td>\n",
              "    </tr>\n",
              "  </tbody>\n",
              "</table>\n",
              "<p>50427 rows × 5 columns</p>\n",
              "</div>"
            ],
            "text/plain": [
              "       item_id                       item_name             user_id  recommend  \\\n",
              "0       282010            Carmageddon Max Pack   76561198076055973       True   \n",
              "1           70                       Half-Life  AppoGetsSuperAdmin       True   \n",
              "2           70                       Half-Life   76561198051084367       True   \n",
              "3           70                       Half-Life          DropBear99       True   \n",
              "4           70                       Half-Life        hecaton_john       True   \n",
              "...        ...                             ...                 ...        ...   \n",
              "50422       80  Counter-Strike: Condition Zero                 NaN      False   \n",
              "50423       80  Counter-Strike: Condition Zero                 NaN       True   \n",
              "50424       80  Counter-Strike: Condition Zero                 NaN       True   \n",
              "50425       80  Counter-Strike: Condition Zero                 NaN       True   \n",
              "50426       80  Counter-Strike: Condition Zero                 NaN       True   \n",
              "\n",
              "       sentiment_analysis  \n",
              "0                       1  \n",
              "1                       1  \n",
              "2                       0  \n",
              "3                       0  \n",
              "4                       2  \n",
              "...                   ...  \n",
              "50422                   1  \n",
              "50423                   2  \n",
              "50424                   2  \n",
              "50425                   1  \n",
              "50426                   0  \n",
              "\n",
              "[50427 rows x 5 columns]"
            ]
          },
          "execution_count": 19,
          "metadata": {},
          "output_type": "execute_result"
        }
      ],
      "source": [
        "merged_df"
      ]
    },
    {
      "cell_type": "code",
      "execution_count": 20,
      "metadata": {
        "colab": {
          "base_uri": "https://localhost:8080/"
        },
        "id": "3NPyGvVz63Ai",
        "outputId": "3f8b65af-25d5-43e8-dac3-750f581c04fd"
      },
      "outputs": [
        {
          "name": "stdout",
          "output_type": "stream",
          "text": [
            "<class 'pandas.core.frame.DataFrame'>\n",
            "RangeIndex: 50427 entries, 0 to 50426\n",
            "Data columns (total 5 columns):\n",
            " #   Column              Non-Null Count  Dtype \n",
            "---  ------              --------------  ----- \n",
            " 0   item_id             50427 non-null  int32 \n",
            " 1   item_name           50427 non-null  object\n",
            " 2   user_id             21955 non-null  object\n",
            " 3   recommend           50427 non-null  bool  \n",
            " 4   sentiment_analysis  50427 non-null  int64 \n",
            "dtypes: bool(1), int32(1), int64(1), object(2)\n",
            "memory usage: 1.4+ MB\n"
          ]
        }
      ],
      "source": [
        "merged_df.info()"
      ]
    },
    {
      "cell_type": "code",
      "execution_count": 21,
      "metadata": {
        "id": "b1LGn_O47qqx"
      },
      "outputs": [],
      "source": [
        "# Elimina las filas con valores nulos solo en la columna 'user_id'\n",
        "merged_df = merged_df.dropna(subset=['user_id'])"
      ]
    },
    {
      "cell_type": "code",
      "execution_count": 22,
      "metadata": {
        "colab": {
          "base_uri": "https://localhost:8080/"
        },
        "id": "6GDSLQWX8Fq3",
        "outputId": "60799480-0f80-4036-b38d-bbf2202d24e0"
      },
      "outputs": [
        {
          "name": "stdout",
          "output_type": "stream",
          "text": [
            "<class 'pandas.core.frame.DataFrame'>\n",
            "Index: 21955 entries, 0 to 50419\n",
            "Data columns (total 5 columns):\n",
            " #   Column              Non-Null Count  Dtype \n",
            "---  ------              --------------  ----- \n",
            " 0   item_id             21955 non-null  int32 \n",
            " 1   item_name           21955 non-null  object\n",
            " 2   user_id             21955 non-null  object\n",
            " 3   recommend           21955 non-null  bool  \n",
            " 4   sentiment_analysis  21955 non-null  int64 \n",
            "dtypes: bool(1), int32(1), int64(1), object(2)\n",
            "memory usage: 793.3+ KB\n"
          ]
        }
      ],
      "source": [
        "merged_df.info()"
      ]
    },
    {
      "cell_type": "code",
      "execution_count": 23,
      "metadata": {
        "colab": {
          "base_uri": "https://localhost:8080/",
          "height": 576
        },
        "id": "rBVYX08pqClc",
        "outputId": "89a1ffaf-78b6-4f0c-8aae-708fe786530f"
      },
      "outputs": [
        {
          "name": "stderr",
          "output_type": "stream",
          "text": [
            "C:\\Users\\W10\\AppData\\Local\\Temp\\ipykernel_6244\\4221729050.py:2: SettingWithCopyWarning: \n",
            "A value is trying to be set on a copy of a slice from a DataFrame.\n",
            "Try using .loc[row_indexer,col_indexer] = value instead\n",
            "\n",
            "See the caveats in the documentation: https://pandas.pydata.org/pandas-docs/stable/user_guide/indexing.html#returning-a-view-versus-a-copy\n",
            "  merged_df['recommend'] = merged_df['recommend'].astype(int)\n"
          ]
        },
        {
          "data": {
            "image/png": "[encoded data removed]",
            "text/plain": [
              "<Figure size 640x480 with 1 Axes>"
            ]
          },
          "metadata": {},
          "output_type": "display_data"
        }
      ],
      "source": [
        "import matplotlib.pyplot as plt\n",
        "merged_df['recommend'] = merged_df['recommend'].astype(int)\n",
        "plt.hist(merged_df['recommend'], bins=2, edgecolor='k')  # bins=2 para dos barras (True y False)\n",
        "\n",
        "plt.title('Histograma de Recomendaciones')\n",
        "plt.xlabel('Recomendado (True/False)')\n",
        "plt.ylabel('Cantidad de Usuarios')\n",
        "\n",
        "plt.show()\n",
        "# vemos un sesgo de recomendacions = False"
      ]
    },
    {
      "cell_type": "code",
      "execution_count": 24,
      "metadata": {
        "id": "HmE4eKG29Hj-"
      },
      "outputs": [],
      "source": [
        "# reducimos el data por una cuestion de espacio en render, pero sin que afecte la calidad de los datos\n",
        "df_reducido = merged_df.sample(frac=0.5, random_state=1)"
      ]
    },
    {
      "cell_type": "code",
      "execution_count": 25,
      "metadata": {
        "colab": {
          "base_uri": "https://localhost:8080/"
        },
        "id": "-6jd19nj_Gl8",
        "outputId": "7c7bd644-bf93-4777-92da-546b1f950976"
      },
      "outputs": [
        {
          "name": "stdout",
          "output_type": "stream",
          "text": [
            "<class 'pandas.core.frame.DataFrame'>\n",
            "Index: 10978 entries, 14002 to 47240\n",
            "Data columns (total 5 columns):\n",
            " #   Column              Non-Null Count  Dtype \n",
            "---  ------              --------------  ----- \n",
            " 0   item_id             10978 non-null  int32 \n",
            " 1   item_name           10978 non-null  object\n",
            " 2   user_id             10978 non-null  object\n",
            " 3   recommend           10978 non-null  int32 \n",
            " 4   sentiment_analysis  10978 non-null  int64 \n",
            "dtypes: int32(2), int64(1), object(2)\n",
            "memory usage: 428.8+ KB\n"
          ]
        }
      ],
      "source": [
        "df_reducido.info()"
      ]
    },
    {
      "cell_type": "code",
      "execution_count": 26,
      "metadata": {
        "id": "yQYq-1msKsYp"
      },
      "outputs": [],
      "source": [
        "df_reducido['recommend'] = df_reducido['recommend'].astype(int)"
      ]
    },
    {
      "cell_type": "code",
      "execution_count": 27,
      "metadata": {
        "id": "rDu-2ZTNMzqa"
      },
      "outputs": [],
      "source": [
        "#df_reducido['genres'] = df_reducido['genres'].str.replace(r\"[\\[\\]']\", '', regex=True)"
      ]
    },
    {
      "cell_type": "code",
      "execution_count": 28,
      "metadata": {
        "colab": {
          "base_uri": "https://localhost:8080/",
          "height": 424
        },
        "id": "DUF5fJDlM3QX",
        "outputId": "6912d2c9-edc9-4658-9dba-17ccf366c0bc"
      },
      "outputs": [
        {
          "data": {
            "text/html": [
              "<div>\n",
              "<style scoped>\n",
              "    .dataframe tbody tr th:only-of-type {\n",
              "        vertical-align: middle;\n",
              "    }\n",
              "\n",
              "    .dataframe tbody tr th {\n",
              "        vertical-align: top;\n",
              "    }\n",
              "\n",
              "    .dataframe thead th {\n",
              "        text-align: right;\n",
              "    }\n",
              "</style>\n",
              "<table border=\"1\" class=\"dataframe\">\n",
              "  <thead>\n",
              "    <tr style=\"text-align: right;\">\n",
              "      <th></th>\n",
              "      <th>item_id</th>\n",
              "      <th>item_name</th>\n",
              "      <th>user_id</th>\n",
              "      <th>recommend</th>\n",
              "      <th>sentiment_analysis</th>\n",
              "    </tr>\n",
              "  </thead>\n",
              "  <tbody>\n",
              "    <tr>\n",
              "      <th>14002</th>\n",
              "      <td>268750</td>\n",
              "      <td>Magicite</td>\n",
              "      <td>76561198047354266</td>\n",
              "      <td>1</td>\n",
              "      <td>2</td>\n",
              "    </tr>\n",
              "    <tr>\n",
              "      <th>18208</th>\n",
              "      <td>310950</td>\n",
              "      <td>Street Fighter V</td>\n",
              "      <td>76561198051433352</td>\n",
              "      <td>0</td>\n",
              "      <td>1</td>\n",
              "    </tr>\n",
              "    <tr>\n",
              "      <th>38616</th>\n",
              "      <td>219640</td>\n",
              "      <td>Chivalry: Medieval Warfare</td>\n",
              "      <td>PrimeDarkEther</td>\n",
              "      <td>1</td>\n",
              "      <td>0</td>\n",
              "    </tr>\n",
              "    <tr>\n",
              "      <th>44743</th>\n",
              "      <td>34900</td>\n",
              "      <td>Bad Rats: the Rats' Revenge</td>\n",
              "      <td>TonytheTurkey</td>\n",
              "      <td>1</td>\n",
              "      <td>2</td>\n",
              "    </tr>\n",
              "    <tr>\n",
              "      <th>10045</th>\n",
              "      <td>202170</td>\n",
              "      <td>Sleeping Dogs</td>\n",
              "      <td>samsamandhecancan</td>\n",
              "      <td>1</td>\n",
              "      <td>2</td>\n",
              "    </tr>\n",
              "    <tr>\n",
              "      <th>...</th>\n",
              "      <td>...</td>\n",
              "      <td>...</td>\n",
              "      <td>...</td>\n",
              "      <td>...</td>\n",
              "      <td>...</td>\n",
              "    </tr>\n",
              "    <tr>\n",
              "      <th>35531</th>\n",
              "      <td>104900</td>\n",
              "      <td>ORION: Prelude</td>\n",
              "      <td>Rotomaniac</td>\n",
              "      <td>1</td>\n",
              "      <td>0</td>\n",
              "    </tr>\n",
              "    <tr>\n",
              "      <th>46470</th>\n",
              "      <td>440</td>\n",
              "      <td>Team Fortress 2</td>\n",
              "      <td>76561198004624665</td>\n",
              "      <td>1</td>\n",
              "      <td>2</td>\n",
              "    </tr>\n",
              "    <tr>\n",
              "      <th>31125</th>\n",
              "      <td>232790</td>\n",
              "      <td>Broken Age</td>\n",
              "      <td>hitlersokiguess</td>\n",
              "      <td>1</td>\n",
              "      <td>1</td>\n",
              "    </tr>\n",
              "    <tr>\n",
              "      <th>38429</th>\n",
              "      <td>4920</td>\n",
              "      <td>Natural Selection 2</td>\n",
              "      <td>RebelKirby</td>\n",
              "      <td>1</td>\n",
              "      <td>0</td>\n",
              "    </tr>\n",
              "    <tr>\n",
              "      <th>47240</th>\n",
              "      <td>440</td>\n",
              "      <td>Team Fortress 2</td>\n",
              "      <td>76561198229845636</td>\n",
              "      <td>1</td>\n",
              "      <td>1</td>\n",
              "    </tr>\n",
              "  </tbody>\n",
              "</table>\n",
              "<p>10978 rows × 5 columns</p>\n",
              "</div>"
            ],
            "text/plain": [
              "       item_id                    item_name            user_id  recommend  \\\n",
              "14002   268750                     Magicite  76561198047354266          1   \n",
              "18208   310950             Street Fighter V  76561198051433352          0   \n",
              "38616   219640   Chivalry: Medieval Warfare     PrimeDarkEther          1   \n",
              "44743    34900  Bad Rats: the Rats' Revenge      TonytheTurkey          1   \n",
              "10045   202170                Sleeping Dogs  samsamandhecancan          1   \n",
              "...        ...                          ...                ...        ...   \n",
              "35531   104900               ORION: Prelude         Rotomaniac          1   \n",
              "46470      440              Team Fortress 2  76561198004624665          1   \n",
              "31125   232790                   Broken Age    hitlersokiguess          1   \n",
              "38429     4920          Natural Selection 2         RebelKirby          1   \n",
              "47240      440              Team Fortress 2  76561198229845636          1   \n",
              "\n",
              "       sentiment_analysis  \n",
              "14002                   2  \n",
              "18208                   1  \n",
              "38616                   0  \n",
              "44743                   2  \n",
              "10045                   2  \n",
              "...                   ...  \n",
              "35531                   0  \n",
              "46470                   2  \n",
              "31125                   1  \n",
              "38429                   0  \n",
              "47240                   1  \n",
              "\n",
              "[10978 rows x 5 columns]"
            ]
          },
          "execution_count": 28,
          "metadata": {},
          "output_type": "execute_result"
        }
      ],
      "source": [
        "df_reducido"
      ]
    },
    {
      "cell_type": "code",
      "execution_count": 29,
      "metadata": {
        "colab": {
          "base_uri": "https://localhost:8080/",
          "height": 472
        },
        "id": "b7QWVRyii0Ok",
        "outputId": "537c824c-f5f3-4364-f12b-f7c1265722c1"
      },
      "outputs": [
        {
          "data": {
            "image/png": "[encoded data removed]",
            "text/plain": [
              "<Figure size 640x480 with 1 Axes>"
            ]
          },
          "metadata": {},
          "output_type": "display_data"
        }
      ],
      "source": [
        "import matplotlib.pyplot as plt\n",
        "\n",
        "plt.hist(df_reducido['recommend'], bins=2, edgecolor='k')  # bins=2 para dos barras (True y False)\n",
        "\n",
        "plt.title('Histograma de Recomendaciones')\n",
        "plt.xlabel('Recomendado (True/False)')\n",
        "plt.ylabel('Cantidad de Usuarios')\n",
        "\n",
        "plt.show()\n",
        "# vemos un sesgo de recomendacions = False, pero mantiene la forma del df completo"
      ]
    },
    {
      "cell_type": "code",
      "execution_count": 30,
      "metadata": {
        "colab": {
          "base_uri": "https://localhost:8080/",
          "height": 428
        },
        "id": "tiW-iFfkj40h",
        "outputId": "589f0494-67ff-4c98-f1a5-4f21dee23f3a"
      },
      "outputs": [
        {
          "data": {
            "image/png": "[encoded data removed]",
            "text/plain": [
              "<Figure size 640x480 with 1 Axes>"
            ]
          },
          "metadata": {},
          "output_type": "display_data"
        }
      ],
      "source": [
        "\n",
        "# Contamos la cantidad de usuarios en cada categoría de sentimiento\n",
        "sentiment_counts = df_reducido['sentiment_analysis'].value_counts()\n",
        "\n",
        "labels = ['Negativo', 'Neutro', 'Positivo']\n",
        "# le damos un color\n",
        "colors = ['red', 'yellow', 'green']\n",
        "\n",
        "# Separa la categoría \"Neutro\" para destacarla\n",
        "explode = (0, 0.1, 0)\n",
        "\n",
        "#graficamos\n",
        "plt.pie(sentiment_counts, labels=labels, colors=colors, explode=explode, autopct='%1.1f%%', startangle=140)\n",
        "\n",
        "plt.title('Distribución de Análisis de Sentimiento')\n",
        "\n",
        "plt.axis('equal')  # Hace que el grafico de torta sea un círculo\n",
        "plt.show()\n",
        "# vemos que la mitad de los sentimientos son negativos"
      ]
    },
    {
      "cell_type": "code",
      "execution_count": 31,
      "metadata": {
        "colab": {
          "base_uri": "https://localhost:8080/",
          "height": 565
        },
        "id": "sTRRNtzPksRg",
        "outputId": "6f94baec-8986-45a4-c98d-1e9cdc3e5c3a"
      },
      "outputs": [
        {
          "data": {
            "image/png": "[encoded data removed]",
            "text/plain": [
              "<Figure size 1000x600 with 1 Axes>"
            ]
          },
          "metadata": {},
          "output_type": "display_data"
        }
      ],
      "source": [
        "top_10_items = df_reducido['item_name'].value_counts().head(10)\n",
        "\n",
        "# Ordena de mayor a menor\n",
        "top_10_items = top_10_items.iloc[::-1]\n",
        "\n",
        "# Grafica el top 10 de juegos\n",
        "top_10_items.plot(kind='barh', figsize=(10, 6))\n",
        "\n",
        "plt.title('Top 10 Juegos')\n",
        "plt.xlabel('Popularidad')\n",
        "plt.ylabel('Juego')\n",
        "\n",
        "plt.show()"
      ]
    },
    {
      "cell_type": "code",
      "execution_count": 32,
      "metadata": {
        "id": "eFD3xBhMNeL2"
      },
      "outputs": [],
      "source": [
        "#import ast\n",
        "\n",
        "# Convierte la columna 'genres' de cadenas a listas\n",
        "#df_reducido['genres'] = df_reducido['genres'].apply(ast.literal_eval)\n"
      ]
    },
    {
      "cell_type": "code",
      "execution_count": 33,
      "metadata": {
        "colab": {
          "base_uri": "https://localhost:8080/"
        },
        "id": "-BfGt2GQOBd0",
        "outputId": "d6f2f2c6-f48f-48fe-de7f-53fdca422391"
      },
      "outputs": [],
      "source": [
        "# Aplicar One-Hot Encoding a la columna 'genres'\n",
        "#genres_encoded = pd.get_dummies(df_reducido['genres'].apply(pd.Series).stack()).sum(level=0)\n",
        "\n",
        "# Concatenar los datos codificados con el DataFrame original\n",
        "#df_encoded = pd.concat([df_reducido, genres_encoded], axis=1)"
      ]
    },
    {
      "cell_type": "code",
      "execution_count": 34,
      "metadata": {
        "id": "LqD0Fc9OLORb"
      },
      "outputs": [],
      "source": [
        "columnas_a_borrar = ['item_id', 'item_name', 'user_id']\n",
        "numeric_df = df_reducido.drop(columnas_a_borrar, axis=1)"
      ]
    },
    {
      "cell_type": "code",
      "execution_count": 35,
      "metadata": {
        "colab": {
          "base_uri": "https://localhost:8080/",
          "height": 424
        },
        "id": "EC_UR-gYPeFS",
        "outputId": "0a5caa85-4c10-483a-afda-4a8aebd5f319"
      },
      "outputs": [
        {
          "data": {
            "text/html": [
              "<div>\n",
              "<style scoped>\n",
              "    .dataframe tbody tr th:only-of-type {\n",
              "        vertical-align: middle;\n",
              "    }\n",
              "\n",
              "    .dataframe tbody tr th {\n",
              "        vertical-align: top;\n",
              "    }\n",
              "\n",
              "    .dataframe thead th {\n",
              "        text-align: right;\n",
              "    }\n",
              "</style>\n",
              "<table border=\"1\" class=\"dataframe\">\n",
              "  <thead>\n",
              "    <tr style=\"text-align: right;\">\n",
              "      <th></th>\n",
              "      <th>recommend</th>\n",
              "      <th>sentiment_analysis</th>\n",
              "    </tr>\n",
              "  </thead>\n",
              "  <tbody>\n",
              "    <tr>\n",
              "      <th>14002</th>\n",
              "      <td>1</td>\n",
              "      <td>2</td>\n",
              "    </tr>\n",
              "    <tr>\n",
              "      <th>18208</th>\n",
              "      <td>0</td>\n",
              "      <td>1</td>\n",
              "    </tr>\n",
              "    <tr>\n",
              "      <th>38616</th>\n",
              "      <td>1</td>\n",
              "      <td>0</td>\n",
              "    </tr>\n",
              "    <tr>\n",
              "      <th>44743</th>\n",
              "      <td>1</td>\n",
              "      <td>2</td>\n",
              "    </tr>\n",
              "    <tr>\n",
              "      <th>10045</th>\n",
              "      <td>1</td>\n",
              "      <td>2</td>\n",
              "    </tr>\n",
              "    <tr>\n",
              "      <th>...</th>\n",
              "      <td>...</td>\n",
              "      <td>...</td>\n",
              "    </tr>\n",
              "    <tr>\n",
              "      <th>35531</th>\n",
              "      <td>1</td>\n",
              "      <td>0</td>\n",
              "    </tr>\n",
              "    <tr>\n",
              "      <th>46470</th>\n",
              "      <td>1</td>\n",
              "      <td>2</td>\n",
              "    </tr>\n",
              "    <tr>\n",
              "      <th>31125</th>\n",
              "      <td>1</td>\n",
              "      <td>1</td>\n",
              "    </tr>\n",
              "    <tr>\n",
              "      <th>38429</th>\n",
              "      <td>1</td>\n",
              "      <td>0</td>\n",
              "    </tr>\n",
              "    <tr>\n",
              "      <th>47240</th>\n",
              "      <td>1</td>\n",
              "      <td>1</td>\n",
              "    </tr>\n",
              "  </tbody>\n",
              "</table>\n",
              "<p>10978 rows × 2 columns</p>\n",
              "</div>"
            ],
            "text/plain": [
              "       recommend  sentiment_analysis\n",
              "14002          1                   2\n",
              "18208          0                   1\n",
              "38616          1                   0\n",
              "44743          1                   2\n",
              "10045          1                   2\n",
              "...          ...                 ...\n",
              "35531          1                   0\n",
              "46470          1                   2\n",
              "31125          1                   1\n",
              "38429          1                   0\n",
              "47240          1                   1\n",
              "\n",
              "[10978 rows x 2 columns]"
            ]
          },
          "execution_count": 35,
          "metadata": {},
          "output_type": "execute_result"
        }
      ],
      "source": [
        "numeric_df"
      ]
    },
    {
      "cell_type": "code",
      "execution_count": 36,
      "metadata": {
        "colab": {
          "base_uri": "https://localhost:8080/"
        },
        "id": "dWNZVP5ZPkdC",
        "outputId": "4f6852ad-d856-4e29-c4a6-d3082c322fb6"
      },
      "outputs": [
        {
          "name": "stdout",
          "output_type": "stream",
          "text": [
            "<class 'pandas.core.frame.DataFrame'>\n",
            "Index: 10978 entries, 14002 to 47240\n",
            "Data columns (total 2 columns):\n",
            " #   Column              Non-Null Count  Dtype\n",
            "---  ------              --------------  -----\n",
            " 0   recommend           10978 non-null  int32\n",
            " 1   sentiment_analysis  10978 non-null  int64\n",
            "dtypes: int32(1), int64(1)\n",
            "memory usage: 214.4 KB\n"
          ]
        }
      ],
      "source": [
        "numeric_df.info()"
      ]
    },
    {
      "cell_type": "code",
      "execution_count": 37,
      "metadata": {
        "id": "5wP5Bjzb65_8"
      },
      "outputs": [],
      "source": [
        "numeric_df.to_parquet('df_numerico_recomendacion.parquet')\n",
        "df_reducido.to_parquet('df_user_recomendacion.parquet')"
      ]
    },
    {
      "cell_type": "code",
      "execution_count": 38,
      "metadata": {
        "colab": {
          "base_uri": "https://localhost:8080/",
          "height": 17
        },
        "id": "mUoT2TB57OCb",
        "outputId": "31b61bb5-4184-45c4-be9c-593782e7e05d"
      },
      "outputs": [
        {
          "ename": "ModuleNotFoundError",
          "evalue": "No module named 'google.colab'",
          "output_type": "error",
          "traceback": [
            "\u001b[1;31m---------------------------------------------------------------------------\u001b[0m",
            "\u001b[1;31mModuleNotFoundError\u001b[0m                       Traceback (most recent call last)",
            "\u001b[1;32mc:\\Users\\W10\\Desktop\\henry data science\\proyecto individual 1\\PI MLOps - STEAM\\ml_sin_genres.ipynb Cell 34\u001b[0m line \u001b[0;36m1\n\u001b[1;32m----> <a href='vscode-notebook-cell:/c%3A/Users/W10/Desktop/henry%20data%20science/proyecto%20individual%201/PI%20MLOps%20-%20STEAM/ml_sin_genres.ipynb#X45sZmlsZQ%3D%3D?line=0'>1</a>\u001b[0m \u001b[39mfrom\u001b[39;00m \u001b[39mgoogle\u001b[39;00m\u001b[39m.\u001b[39;00m\u001b[39mcolab\u001b[39;00m \u001b[39mimport\u001b[39;00m files\n\u001b[0;32m      <a href='vscode-notebook-cell:/c%3A/Users/W10/Desktop/henry%20data%20science/proyecto%20individual%201/PI%20MLOps%20-%20STEAM/ml_sin_genres.ipynb#X45sZmlsZQ%3D%3D?line=1'>2</a>\u001b[0m parquet1 \u001b[39m=\u001b[39m \u001b[39m'\u001b[39m\u001b[39mdf_numerico_recomendacion.parquet\u001b[39m\u001b[39m'\u001b[39m\n\u001b[0;32m      <a href='vscode-notebook-cell:/c%3A/Users/W10/Desktop/henry%20data%20science/proyecto%20individual%201/PI%20MLOps%20-%20STEAM/ml_sin_genres.ipynb#X45sZmlsZQ%3D%3D?line=2'>3</a>\u001b[0m \u001b[39m# Descargar el archivo de colab\u001b[39;00m\n",
            "\u001b[1;31mModuleNotFoundError\u001b[0m: No module named 'google.colab'"
          ]
        }
      ],
      "source": [
        "from google.colab import files\n",
        "parquet1 = 'df_numerico_recomendacion.parquet'\n",
        "# Descargar el archivo de colab\n",
        "files.download(parquet1)\n"
      ]
    },
    {
      "cell_type": "code",
      "execution_count": null,
      "metadata": {
        "colab": {
          "base_uri": "https://localhost:8080/",
          "height": 17
        },
        "id": "B8D7hSLYB_Y9",
        "outputId": "6e25fc0c-aa8b-467b-ec3c-d952e5bba174"
      },
      "outputs": [
        {
          "data": {
            "application/javascript": "\n    async function download(id, filename, size) {\n      if (!google.colab.kernel.accessAllowed) {\n        return;\n      }\n      const div = document.createElement('div');\n      const label = document.createElement('label');\n      label.textContent = `Downloading \"${filename}\": `;\n      div.appendChild(label);\n      const progress = document.createElement('progress');\n      progress.max = size;\n      div.appendChild(progress);\n      document.body.appendChild(div);\n\n      const buffers = [];\n      let downloaded = 0;\n\n      const channel = await google.colab.kernel.comms.open(id);\n      // Send a message to notify the kernel that we're ready.\n      channel.send({})\n\n      for await (const message of channel.messages) {\n        // Send a message to notify the kernel that we're ready.\n        channel.send({})\n        if (message.buffers) {\n          for (const buffer of message.buffers) {\n            buffers.push(buffer);\n            downloaded += buffer.byteLength;\n            progress.value = downloaded;\n          }\n        }\n      }\n      const blob = new Blob(buffers, {type: 'application/binary'});\n      const a = document.createElement('a');\n      a.href = window.URL.createObjectURL(blob);\n      a.download = filename;\n      div.appendChild(a);\n      a.click();\n      div.remove();\n    }\n  ",
            "text/plain": [
              "<IPython.core.display.Javascript object>"
            ]
          },
          "metadata": {},
          "output_type": "display_data"
        },
        {
          "data": {
            "application/javascript": "download(\"download_dd9b2c36-f2d9-491f-b5f3-a306c980f7e8\", \"df_user_recomendacion.parquet\", 124289)",
            "text/plain": [
              "<IPython.core.display.Javascript object>"
            ]
          },
          "metadata": {},
          "output_type": "display_data"
        }
      ],
      "source": [
        "parquet2 = 'df_user_recomendacion.parquet'\n",
        "# Descargar el archivo de colab\n",
        "files.download(parquet2)"
      ]
    },
    {
      "cell_type": "code",
      "execution_count": null,
      "metadata": {},
      "outputs": [],
      "source": [
        "import pandas as pd\n",
        "dfnum = pd.read_parquet('df_numerico_recomendacion.parquet')\n",
        "dfuser = pd.read_parquet('df_user_recomendacion.parquet')\n"
      ]
    },
    {
      "cell_type": "code",
      "execution_count": null,
      "metadata": {
        "colab": {
          "base_uri": "https://localhost:8080/"
        },
        "id": "oHUIoo6s7VCY",
        "outputId": "b5491301-ea2a-4581-8d46-9f01a9e222b0"
      },
      "outputs": [
        {
          "name": "stdout",
          "output_type": "stream",
          "text": [
            "user_id               76561198109015633  76561198069032355  76561198077794867  \\\n",
            "user_id                                                                         \n",
            "76561198109015633              1.000000           0.707107           1.000000   \n",
            "76561198069032355              0.707107           1.000000           0.707107   \n",
            "76561198077794867              1.000000           0.707107           1.000000   \n",
            "JookzTheGookz                  1.000000           0.707107           1.000000   \n",
            "YouWannaFuckingGoM99           1.000000           0.707107           1.000000   \n",
            "...                                 ...                ...                ...   \n",
            "arbiter928                     0.707107           1.000000           0.707107   \n",
            "76561198078649960              1.000000           0.707107           1.000000   \n",
            "James_2711                     1.000000           0.707107           1.000000   \n",
            "ihasMUFFINSWAG                 0.948683           0.447214           0.948683   \n",
            "FokkoChan                      0.948683           0.447214           0.948683   \n",
            "\n",
            "user_id               JookzTheGookz  YouWannaFuckingGoM99  76561198076180625  \\\n",
            "user_id                                                                        \n",
            "76561198109015633          1.000000              1.000000           1.000000   \n",
            "76561198069032355          0.707107              0.707107           0.707107   \n",
            "76561198077794867          1.000000              1.000000           1.000000   \n",
            "JookzTheGookz              1.000000              1.000000           1.000000   \n",
            "YouWannaFuckingGoM99       1.000000              1.000000           1.000000   \n",
            "...                             ...                   ...                ...   \n",
            "arbiter928                 0.707107              0.707107           0.707107   \n",
            "76561198078649960          1.000000              1.000000           1.000000   \n",
            "James_2711                 1.000000              1.000000           1.000000   \n",
            "ihasMUFFINSWAG             0.948683              0.948683           0.948683   \n",
            "FokkoChan                  0.948683              0.948683           0.948683   \n",
            "\n",
            "user_id               76561198090302241  nuclearpig22  76561198054914056  \\\n",
            "user_id                                                                    \n",
            "76561198109015633              1.000000      1.000000           1.000000   \n",
            "76561198069032355              0.707107      0.707107           0.707107   \n",
            "76561198077794867              1.000000      1.000000           1.000000   \n",
            "JookzTheGookz                  1.000000      1.000000           1.000000   \n",
            "YouWannaFuckingGoM99           1.000000      1.000000           1.000000   \n",
            "...                                 ...           ...                ...   \n",
            "arbiter928                     0.707107      0.707107           0.707107   \n",
            "76561198078649960              1.000000      1.000000           1.000000   \n",
            "James_2711                     1.000000      1.000000           1.000000   \n",
            "ihasMUFFINSWAG                 0.948683      0.948683           0.948683   \n",
            "FokkoChan                      0.948683      0.948683           0.948683   \n",
            "\n",
            "user_id               The_Aviating_Butler  ...  pedrosomar  76561198068572619  \\\n",
            "user_id                                    ...                                  \n",
            "76561198109015633                0.707107  ...    0.948683           0.948683   \n",
            "76561198069032355                1.000000  ...    0.447214           0.447214   \n",
            "76561198077794867                0.707107  ...    0.948683           0.948683   \n",
            "JookzTheGookz                    0.707107  ...    0.948683           0.948683   \n",
            "YouWannaFuckingGoM99             0.707107  ...    0.948683           0.948683   \n",
            "...                                   ...  ...         ...                ...   \n",
            "arbiter928                       1.000000  ...    0.447214           0.447214   \n",
            "76561198078649960                0.707107  ...    0.948683           0.948683   \n",
            "James_2711                       0.707107  ...    0.948683           0.948683   \n",
            "ihasMUFFINSWAG                   0.447214  ...    1.000000           1.000000   \n",
            "FokkoChan                        0.447214  ...    1.000000           1.000000   \n",
            "\n",
            "user_id               76561198043737314  76561198078194423  uncleden  \\\n",
            "user_id                                                                \n",
            "76561198109015633              0.948683                0.0  0.948683   \n",
            "76561198069032355              0.447214                0.0  0.447214   \n",
            "76561198077794867              0.948683                0.0  0.948683   \n",
            "JookzTheGookz                  0.948683                0.0  0.948683   \n",
            "YouWannaFuckingGoM99           0.948683                0.0  0.948683   \n",
            "...                                 ...                ...       ...   \n",
            "arbiter928                     0.447214                0.0  0.447214   \n",
            "76561198078649960              0.948683                0.0  0.948683   \n",
            "James_2711                     0.948683                0.0  0.948683   \n",
            "ihasMUFFINSWAG                 1.000000                0.0  1.000000   \n",
            "FokkoChan                      1.000000                0.0  1.000000   \n",
            "\n",
            "user_id               arbiter928  76561198078649960  James_2711  \\\n",
            "user_id                                                           \n",
            "76561198109015633       0.707107           1.000000    1.000000   \n",
            "76561198069032355       1.000000           0.707107    0.707107   \n",
            "76561198077794867       0.707107           1.000000    1.000000   \n",
            "JookzTheGookz           0.707107           1.000000    1.000000   \n",
            "YouWannaFuckingGoM99    0.707107           1.000000    1.000000   \n",
            "...                          ...                ...         ...   \n",
            "arbiter928              1.000000           0.707107    0.707107   \n",
            "76561198078649960       0.707107           1.000000    1.000000   \n",
            "James_2711              0.707107           1.000000    1.000000   \n",
            "ihasMUFFINSWAG          0.447214           0.948683    0.948683   \n",
            "FokkoChan               0.447214           0.948683    0.948683   \n",
            "\n",
            "user_id               ihasMUFFINSWAG  FokkoChan  \n",
            "user_id                                          \n",
            "76561198109015633           0.948683   0.948683  \n",
            "76561198069032355           0.447214   0.447214  \n",
            "76561198077794867           0.948683   0.948683  \n",
            "JookzTheGookz               0.948683   0.948683  \n",
            "YouWannaFuckingGoM99        0.948683   0.948683  \n",
            "...                              ...        ...  \n",
            "arbiter928                  0.447214   0.447214  \n",
            "76561198078649960           0.948683   0.948683  \n",
            "James_2711                  0.948683   0.948683  \n",
            "ihasMUFFINSWAG              1.000000   1.000000  \n",
            "FokkoChan                   1.000000   1.000000  \n",
            "\n",
            "[4756 rows x 4756 columns]\n"
          ]
        }
      ],
      "source": [
        "from sklearn.metrics.pairwise import cosine_similarity\n",
        "user_similarity = cosine_similarity(dfnum)\n",
        "user_similarity_df = pd.DataFrame(user_similarity, index=dfuser['user_id'], columns=dfuser['user_id'])\n",
        "\n",
        "print(user_similarity_df)"
      ]
    },
    {
      "cell_type": "code",
      "execution_count": null,
      "metadata": {},
      "outputs": [
        {
          "name": "stdout",
          "output_type": "stream",
          "text": [
            "<class 'pandas.core.frame.DataFrame'>\n",
            "Index: 4756 entries, 76561198109015633 to FokkoChan\n",
            "Columns: 4756 entries, 76561198109015633 to FokkoChan\n",
            "dtypes: float64(4756)\n",
            "memory usage: 172.6+ MB\n"
          ]
        }
      ],
      "source": [
        "user_similarity_df.info()"
      ]
    },
    {
      "cell_type": "code",
      "execution_count": null,
      "metadata": {
        "colab": {
          "base_uri": "https://localhost:8080/",
          "height": 287
        },
        "id": "R3E8UC7YRADO",
        "outputId": "4f7dd289-ff3e-4dfe-c029-399791f92f59"
      },
      "outputs": [
        {
          "data": {
            "text/html": [
              "\n",
              "  <div id=\"df-3409f3db-1942-4465-89fa-2e806b30167d\" class=\"colab-df-container\">\n",
              "    <div>\n",
              "<style scoped>\n",
              "    .dataframe tbody tr th:only-of-type {\n",
              "        vertical-align: middle;\n",
              "    }\n",
              "\n",
              "    .dataframe tbody tr th {\n",
              "        vertical-align: top;\n",
              "    }\n",
              "\n",
              "    .dataframe thead th {\n",
              "        text-align: right;\n",
              "    }\n",
              "</style>\n",
              "<table border=\"1\" class=\"dataframe\">\n",
              "  <thead>\n",
              "    <tr style=\"text-align: right;\">\n",
              "      <th>user_id</th>\n",
              "      <th>76561198109015633</th>\n",
              "      <th>76561198069032355</th>\n",
              "      <th>76561198077794867</th>\n",
              "      <th>JookzTheGookz</th>\n",
              "      <th>YouWannaFuckingGoM99</th>\n",
              "      <th>76561198076180625</th>\n",
              "      <th>76561198090302241</th>\n",
              "      <th>nuclearpig22</th>\n",
              "      <th>76561198054914056</th>\n",
              "      <th>The_Aviating_Butler</th>\n",
              "      <th>...</th>\n",
              "      <th>pedrosomar</th>\n",
              "      <th>76561198068572619</th>\n",
              "      <th>76561198043737314</th>\n",
              "      <th>76561198078194423</th>\n",
              "      <th>uncleden</th>\n",
              "      <th>arbiter928</th>\n",
              "      <th>76561198078649960</th>\n",
              "      <th>James_2711</th>\n",
              "      <th>ihasMUFFINSWAG</th>\n",
              "      <th>FokkoChan</th>\n",
              "    </tr>\n",
              "    <tr>\n",
              "      <th>user_id</th>\n",
              "      <th></th>\n",
              "      <th></th>\n",
              "      <th></th>\n",
              "      <th></th>\n",
              "      <th></th>\n",
              "      <th></th>\n",
              "      <th></th>\n",
              "      <th></th>\n",
              "      <th></th>\n",
              "      <th></th>\n",
              "      <th></th>\n",
              "      <th></th>\n",
              "      <th></th>\n",
              "      <th></th>\n",
              "      <th></th>\n",
              "      <th></th>\n",
              "      <th></th>\n",
              "      <th></th>\n",
              "      <th></th>\n",
              "      <th></th>\n",
              "      <th></th>\n",
              "    </tr>\n",
              "  </thead>\n",
              "  <tbody>\n",
              "    <tr>\n",
              "      <th>76561198109015633</th>\n",
              "      <td>1.000000</td>\n",
              "      <td>0.707107</td>\n",
              "      <td>1.000000</td>\n",
              "      <td>1.000000</td>\n",
              "      <td>1.000000</td>\n",
              "      <td>1.000000</td>\n",
              "      <td>1.000000</td>\n",
              "      <td>1.000000</td>\n",
              "      <td>1.000000</td>\n",
              "      <td>0.707107</td>\n",
              "      <td>...</td>\n",
              "      <td>0.948683</td>\n",
              "      <td>0.948683</td>\n",
              "      <td>0.948683</td>\n",
              "      <td>0.0</td>\n",
              "      <td>0.948683</td>\n",
              "      <td>0.707107</td>\n",
              "      <td>1.000000</td>\n",
              "      <td>1.000000</td>\n",
              "      <td>0.948683</td>\n",
              "      <td>0.948683</td>\n",
              "    </tr>\n",
              "    <tr>\n",
              "      <th>76561198069032355</th>\n",
              "      <td>0.707107</td>\n",
              "      <td>1.000000</td>\n",
              "      <td>0.707107</td>\n",
              "      <td>0.707107</td>\n",
              "      <td>0.707107</td>\n",
              "      <td>0.707107</td>\n",
              "      <td>0.707107</td>\n",
              "      <td>0.707107</td>\n",
              "      <td>0.707107</td>\n",
              "      <td>1.000000</td>\n",
              "      <td>...</td>\n",
              "      <td>0.447214</td>\n",
              "      <td>0.447214</td>\n",
              "      <td>0.447214</td>\n",
              "      <td>0.0</td>\n",
              "      <td>0.447214</td>\n",
              "      <td>1.000000</td>\n",
              "      <td>0.707107</td>\n",
              "      <td>0.707107</td>\n",
              "      <td>0.447214</td>\n",
              "      <td>0.447214</td>\n",
              "    </tr>\n",
              "    <tr>\n",
              "      <th>76561198077794867</th>\n",
              "      <td>1.000000</td>\n",
              "      <td>0.707107</td>\n",
              "      <td>1.000000</td>\n",
              "      <td>1.000000</td>\n",
              "      <td>1.000000</td>\n",
              "      <td>1.000000</td>\n",
              "      <td>1.000000</td>\n",
              "      <td>1.000000</td>\n",
              "      <td>1.000000</td>\n",
              "      <td>0.707107</td>\n",
              "      <td>...</td>\n",
              "      <td>0.948683</td>\n",
              "      <td>0.948683</td>\n",
              "      <td>0.948683</td>\n",
              "      <td>0.0</td>\n",
              "      <td>0.948683</td>\n",
              "      <td>0.707107</td>\n",
              "      <td>1.000000</td>\n",
              "      <td>1.000000</td>\n",
              "      <td>0.948683</td>\n",
              "      <td>0.948683</td>\n",
              "    </tr>\n",
              "    <tr>\n",
              "      <th>JookzTheGookz</th>\n",
              "      <td>1.000000</td>\n",
              "      <td>0.707107</td>\n",
              "      <td>1.000000</td>\n",
              "      <td>1.000000</td>\n",
              "      <td>1.000000</td>\n",
              "      <td>1.000000</td>\n",
              "      <td>1.000000</td>\n",
              "      <td>1.000000</td>\n",
              "      <td>1.000000</td>\n",
              "      <td>0.707107</td>\n",
              "      <td>...</td>\n",
              "      <td>0.948683</td>\n",
              "      <td>0.948683</td>\n",
              "      <td>0.948683</td>\n",
              "      <td>0.0</td>\n",
              "      <td>0.948683</td>\n",
              "      <td>0.707107</td>\n",
              "      <td>1.000000</td>\n",
              "      <td>1.000000</td>\n",
              "      <td>0.948683</td>\n",
              "      <td>0.948683</td>\n",
              "    </tr>\n",
              "    <tr>\n",
              "      <th>YouWannaFuckingGoM99</th>\n",
              "      <td>1.000000</td>\n",
              "      <td>0.707107</td>\n",
              "      <td>1.000000</td>\n",
              "      <td>1.000000</td>\n",
              "      <td>1.000000</td>\n",
              "      <td>1.000000</td>\n",
              "      <td>1.000000</td>\n",
              "      <td>1.000000</td>\n",
              "      <td>1.000000</td>\n",
              "      <td>0.707107</td>\n",
              "      <td>...</td>\n",
              "      <td>0.948683</td>\n",
              "      <td>0.948683</td>\n",
              "      <td>0.948683</td>\n",
              "      <td>0.0</td>\n",
              "      <td>0.948683</td>\n",
              "      <td>0.707107</td>\n",
              "      <td>1.000000</td>\n",
              "      <td>1.000000</td>\n",
              "      <td>0.948683</td>\n",
              "      <td>0.948683</td>\n",
              "    </tr>\n",
              "  </tbody>\n",
              "</table>\n",
              "<p>5 rows × 4756 columns</p>\n",
              "</div>\n",
              "    <div class=\"colab-df-buttons\">\n",
              "\n",
              "  <div class=\"colab-df-container\">\n",
              "    <button class=\"colab-df-convert\" onclick=\"convertToInteractive('df-3409f3db-1942-4465-89fa-2e806b30167d')\"\n",
              "            title=\"Convert this dataframe to an interactive table.\"\n",
              "            style=\"display:none;\">\n",
              "\n",
              "  <svg xmlns=\"http://www.w3.org/2000/svg\" height=\"24px\" viewBox=\"0 -960 960 960\">\n",
              "    <path d=\"M120-120v-720h720v720H120Zm60-500h600v-160H180v160Zm220 220h160v-160H400v160Zm0 220h160v-160H400v160ZM180-400h160v-160H180v160Zm440 0h160v-160H620v160ZM180-180h160v-160H180v160Zm440 0h160v-160H620v160Z\"/>\n",
              "  </svg>\n",
              "    </button>\n",
              "\n",
              "  <style>\n",
              "    .colab-df-container {\n",
              "      display:flex;\n",
              "      gap: 12px;\n",
              "    }\n",
              "\n",
              "    .colab-df-convert {\n",
              "      background-color: #E8F0FE;\n",
              "      border: none;\n",
              "      border-radius: 50%;\n",
              "      cursor: pointer;\n",
              "      display: none;\n",
              "      fill: #1967D2;\n",
              "      height: 32px;\n",
              "      padding: 0 0 0 0;\n",
              "      width: 32px;\n",
              "    }\n",
              "\n",
              "    .colab-df-convert:hover {\n",
              "      background-color: #E2EBFA;\n",
              "      box-shadow: 0px 1px 2px rgba(60, 64, 67, 0.3), 0px 1px 3px 1px rgba(60, 64, 67, 0.15);\n",
              "      fill: #174EA6;\n",
              "    }\n",
              "\n",
              "    .colab-df-buttons div {\n",
              "      margin-bottom: 4px;\n",
              "    }\n",
              "\n",
              "    [theme=dark] .colab-df-convert {\n",
              "      background-color: #3B4455;\n",
              "      fill: #D2E3FC;\n",
              "    }\n",
              "\n",
              "    [theme=dark] .colab-df-convert:hover {\n",
              "      background-color: #434B5C;\n",
              "      box-shadow: 0px 1px 3px 1px rgba(0, 0, 0, 0.15);\n",
              "      filter: drop-shadow(0px 1px 2px rgba(0, 0, 0, 0.3));\n",
              "      fill: #FFFFFF;\n",
              "    }\n",
              "  </style>\n",
              "\n",
              "    <script>\n",
              "      const buttonEl =\n",
              "        document.querySelector('#df-3409f3db-1942-4465-89fa-2e806b30167d button.colab-df-convert');\n",
              "      buttonEl.style.display =\n",
              "        google.colab.kernel.accessAllowed ? 'block' : 'none';\n",
              "\n",
              "      async function convertToInteractive(key) {\n",
              "        const element = document.querySelector('#df-3409f3db-1942-4465-89fa-2e806b30167d');\n",
              "        const dataTable =\n",
              "          await google.colab.kernel.invokeFunction('convertToInteractive',\n",
              "                                                    [key], {});\n",
              "        if (!dataTable) return;\n",
              "\n",
              "        const docLinkHtml = 'Like what you see? Visit the ' +\n",
              "          '<a target=\"_blank\" href=https://colab.research.google.com/notebooks/data_table.ipynb>data table notebook</a>'\n",
              "          + ' to learn more about interactive tables.';\n",
              "        element.innerHTML = '';\n",
              "        dataTable['output_type'] = 'display_data';\n",
              "        await google.colab.output.renderOutput(dataTable, element);\n",
              "        const docLink = document.createElement('div');\n",
              "        docLink.innerHTML = docLinkHtml;\n",
              "        element.appendChild(docLink);\n",
              "      }\n",
              "    </script>\n",
              "  </div>\n",
              "\n",
              "\n",
              "<div id=\"df-9e9511a8-f4ee-4999-a483-a143f89302d7\">\n",
              "  <button class=\"colab-df-quickchart\" onclick=\"quickchart('df-9e9511a8-f4ee-4999-a483-a143f89302d7')\"\n",
              "            title=\"Suggest charts.\"\n",
              "            style=\"display:none;\">\n",
              "\n",
              "<svg xmlns=\"http://www.w3.org/2000/svg\" height=\"24px\"viewBox=\"0 0 24 24\"\n",
              "     width=\"24px\">\n",
              "    <g>\n",
              "        <path d=\"M19 3H5c-1.1 0-2 .9-2 2v14c0 1.1.9 2 2 2h14c1.1 0 2-.9 2-2V5c0-1.1-.9-2-2-2zM9 17H7v-7h2v7zm4 0h-2V7h2v10zm4 0h-2v-4h2v4z\"/>\n",
              "    </g>\n",
              "</svg>\n",
              "  </button>\n",
              "\n",
              "<style>\n",
              "  .colab-df-quickchart {\n",
              "      --bg-color: #E8F0FE;\n",
              "      --fill-color: #1967D2;\n",
              "      --hover-bg-color: #E2EBFA;\n",
              "      --hover-fill-color: #174EA6;\n",
              "      --disabled-fill-color: #AAA;\n",
              "      --disabled-bg-color: #DDD;\n",
              "  }\n",
              "\n",
              "  [theme=dark] .colab-df-quickchart {\n",
              "      --bg-color: #3B4455;\n",
              "      --fill-color: #D2E3FC;\n",
              "      --hover-bg-color: #434B5C;\n",
              "      --hover-fill-color: #FFFFFF;\n",
              "      --disabled-bg-color: #3B4455;\n",
              "      --disabled-fill-color: #666;\n",
              "  }\n",
              "\n",
              "  .colab-df-quickchart {\n",
              "    background-color: var(--bg-color);\n",
              "    border: none;\n",
              "    border-radius: 50%;\n",
              "    cursor: pointer;\n",
              "    display: none;\n",
              "    fill: var(--fill-color);\n",
              "    height: 32px;\n",
              "    padding: 0;\n",
              "    width: 32px;\n",
              "  }\n",
              "\n",
              "  .colab-df-quickchart:hover {\n",
              "    background-color: var(--hover-bg-color);\n",
              "    box-shadow: 0 1px 2px rgba(60, 64, 67, 0.3), 0 1px 3px 1px rgba(60, 64, 67, 0.15);\n",
              "    fill: var(--button-hover-fill-color);\n",
              "  }\n",
              "\n",
              "  .colab-df-quickchart-complete:disabled,\n",
              "  .colab-df-quickchart-complete:disabled:hover {\n",
              "    background-color: var(--disabled-bg-color);\n",
              "    fill: var(--disabled-fill-color);\n",
              "    box-shadow: none;\n",
              "  }\n",
              "\n",
              "  .colab-df-spinner {\n",
              "    border: 2px solid var(--fill-color);\n",
              "    border-color: transparent;\n",
              "    border-bottom-color: var(--fill-color);\n",
              "    animation:\n",
              "      spin 1s steps(1) infinite;\n",
              "  }\n",
              "\n",
              "  @keyframes spin {\n",
              "    0% {\n",
              "      border-color: transparent;\n",
              "      border-bottom-color: var(--fill-color);\n",
              "      border-left-color: var(--fill-color);\n",
              "    }\n",
              "    20% {\n",
              "      border-color: transparent;\n",
              "      border-left-color: var(--fill-color);\n",
              "      border-top-color: var(--fill-color);\n",
              "    }\n",
              "    30% {\n",
              "      border-color: transparent;\n",
              "      border-left-color: var(--fill-color);\n",
              "      border-top-color: var(--fill-color);\n",
              "      border-right-color: var(--fill-color);\n",
              "    }\n",
              "    40% {\n",
              "      border-color: transparent;\n",
              "      border-right-color: var(--fill-color);\n",
              "      border-top-color: var(--fill-color);\n",
              "    }\n",
              "    60% {\n",
              "      border-color: transparent;\n",
              "      border-right-color: var(--fill-color);\n",
              "    }\n",
              "    80% {\n",
              "      border-color: transparent;\n",
              "      border-right-color: var(--fill-color);\n",
              "      border-bottom-color: var(--fill-color);\n",
              "    }\n",
              "    90% {\n",
              "      border-color: transparent;\n",
              "      border-bottom-color: var(--fill-color);\n",
              "    }\n",
              "  }\n",
              "</style>\n",
              "\n",
              "  <script>\n",
              "    async function quickchart(key) {\n",
              "      const quickchartButtonEl =\n",
              "        document.querySelector('#' + key + ' button');\n",
              "      quickchartButtonEl.disabled = true;  // To prevent multiple clicks.\n",
              "      quickchartButtonEl.classList.add('colab-df-spinner');\n",
              "      try {\n",
              "        const charts = await google.colab.kernel.invokeFunction(\n",
              "            'suggestCharts', [key], {});\n",
              "      } catch (error) {\n",
              "        console.error('Error during call to suggestCharts:', error);\n",
              "      }\n",
              "      quickchartButtonEl.classList.remove('colab-df-spinner');\n",
              "      quickchartButtonEl.classList.add('colab-df-quickchart-complete');\n",
              "    }\n",
              "    (() => {\n",
              "      let quickchartButtonEl =\n",
              "        document.querySelector('#df-9e9511a8-f4ee-4999-a483-a143f89302d7 button');\n",
              "      quickchartButtonEl.style.display =\n",
              "        google.colab.kernel.accessAllowed ? 'block' : 'none';\n",
              "    })();\n",
              "  </script>\n",
              "</div>\n",
              "    </div>\n",
              "  </div>\n"
            ],
            "text/plain": [
              "user_id               76561198109015633  76561198069032355  76561198077794867  \\\n",
              "user_id                                                                         \n",
              "76561198109015633              1.000000           0.707107           1.000000   \n",
              "76561198069032355              0.707107           1.000000           0.707107   \n",
              "76561198077794867              1.000000           0.707107           1.000000   \n",
              "JookzTheGookz                  1.000000           0.707107           1.000000   \n",
              "YouWannaFuckingGoM99           1.000000           0.707107           1.000000   \n",
              "\n",
              "user_id               JookzTheGookz  YouWannaFuckingGoM99  76561198076180625  \\\n",
              "user_id                                                                        \n",
              "76561198109015633          1.000000              1.000000           1.000000   \n",
              "76561198069032355          0.707107              0.707107           0.707107   \n",
              "76561198077794867          1.000000              1.000000           1.000000   \n",
              "JookzTheGookz              1.000000              1.000000           1.000000   \n",
              "YouWannaFuckingGoM99       1.000000              1.000000           1.000000   \n",
              "\n",
              "user_id               76561198090302241  nuclearpig22  76561198054914056  \\\n",
              "user_id                                                                    \n",
              "76561198109015633              1.000000      1.000000           1.000000   \n",
              "76561198069032355              0.707107      0.707107           0.707107   \n",
              "76561198077794867              1.000000      1.000000           1.000000   \n",
              "JookzTheGookz                  1.000000      1.000000           1.000000   \n",
              "YouWannaFuckingGoM99           1.000000      1.000000           1.000000   \n",
              "\n",
              "user_id               The_Aviating_Butler  ...  pedrosomar  76561198068572619  \\\n",
              "user_id                                    ...                                  \n",
              "76561198109015633                0.707107  ...    0.948683           0.948683   \n",
              "76561198069032355                1.000000  ...    0.447214           0.447214   \n",
              "76561198077794867                0.707107  ...    0.948683           0.948683   \n",
              "JookzTheGookz                    0.707107  ...    0.948683           0.948683   \n",
              "YouWannaFuckingGoM99             0.707107  ...    0.948683           0.948683   \n",
              "\n",
              "user_id               76561198043737314  76561198078194423  uncleden  \\\n",
              "user_id                                                                \n",
              "76561198109015633              0.948683                0.0  0.948683   \n",
              "76561198069032355              0.447214                0.0  0.447214   \n",
              "76561198077794867              0.948683                0.0  0.948683   \n",
              "JookzTheGookz                  0.948683                0.0  0.948683   \n",
              "YouWannaFuckingGoM99           0.948683                0.0  0.948683   \n",
              "\n",
              "user_id               arbiter928  76561198078649960  James_2711  \\\n",
              "user_id                                                           \n",
              "76561198109015633       0.707107           1.000000    1.000000   \n",
              "76561198069032355       1.000000           0.707107    0.707107   \n",
              "76561198077794867       0.707107           1.000000    1.000000   \n",
              "JookzTheGookz           0.707107           1.000000    1.000000   \n",
              "YouWannaFuckingGoM99    0.707107           1.000000    1.000000   \n",
              "\n",
              "user_id               ihasMUFFINSWAG  FokkoChan  \n",
              "user_id                                          \n",
              "76561198109015633           0.948683   0.948683  \n",
              "76561198069032355           0.447214   0.447214  \n",
              "76561198077794867           0.948683   0.948683  \n",
              "JookzTheGookz               0.948683   0.948683  \n",
              "YouWannaFuckingGoM99        0.948683   0.948683  \n",
              "\n",
              "[5 rows x 4756 columns]"
            ]
          },
          "execution_count": 28,
          "metadata": {},
          "output_type": "execute_result"
        }
      ],
      "source": [
        "user_similarity_df.head()"
      ]
    },
    {
      "cell_type": "code",
      "execution_count": null,
      "metadata": {
        "id": "HNZczWTTQn0a"
      },
      "outputs": [],
      "source": [
        "def recomendacion_usuario(user_id):\n",
        "    # Verifica si el usuario está en el DataFrame de similitud\n",
        "    if user_id not in user_similarity_df.index:\n",
        "        return \"Usuario no encontrado\"\n",
        "\n",
        "    # Obtiene la fila de similitud del usuario\n",
        "    user_similarity = user_similarity_df.loc[user_id]\n",
        "\n",
        "    # Ordena los usuarios por similitud en orden descendente\n",
        "    similar_users = user_similarity.sort_values(ascending=False)[1:]  # Excluye al propio usuario\n",
        "\n",
        "    # Filtra los juegos jugados por usuarios similares\n",
        "    user_data = df_reducido[df_reducido['user_id'] == user_id]\n",
        "    games_played = user_data['item_name'].unique()\n",
        "\n",
        "    # Genera una lista de juegos recomendados\n",
        "    recommendations = []\n",
        "    unique_recommendations = set()  # Conjunto para asegurar recomendaciones únicas\n",
        "\n",
        "    for similar_user_id, similarity_score in similar_users.items():\n",
        "        similar_user_data = df_reducido[df_reducido['user_id'] == similar_user_id]\n",
        "        for game in similar_user_data['item_name']:\n",
        "            if game not in games_played and game not in unique_recommendations:\n",
        "                recommendations.append(game)\n",
        "                unique_recommendations.add(game)\n",
        "            if len(recommendations) >= 10:  # Recolecta 10 recomendaciones, ajusta según sea necesario\n",
        "                break\n",
        "\n",
        "    return recommendations[:5]  # Devuelve las primeras 5 recomendaciones únicas\n",
        "\n"
      ]
    },
    {
      "cell_type": "code",
      "execution_count": null,
      "metadata": {
        "colab": {
          "base_uri": "https://localhost:8080/"
        },
        "id": "WQ_KW-AxRMC9",
        "outputId": "510cca93-df48-4452-8ff2-23642ffa02cc"
      },
      "outputs": [
        {
          "data": {
            "text/plain": [
              "['Fistful of Frags',\n",
              " 'Counter-Strike: Global Offensive',\n",
              " 'The Long Dark',\n",
              " 'Half-Life',\n",
              " 'Fallout: New Vegas']"
            ]
          },
          "execution_count": 32,
          "metadata": {},
          "output_type": "execute_result"
        }
      ],
      "source": [
        "recomendacion_usuario('JookzTheGookz')"
      ]
    }
  ],
  "metadata": {
    "colab": {
      "provenance": []
    },
    "kernelspec": {
      "display_name": "Python 3",
      "name": "python3"
    },
    "language_info": {
      "codemirror_mode": {
        "name": "ipython",
        "version": 3
      },
      "file_extension": ".py",
      "mimetype": "text/x-python",
      "name": "python",
      "nbconvert_exporter": "python",
      "pygments_lexer": "ipython3",
      "version": "3.11.3"
    }
  },
  "nbformat": 4,
  "nbformat_minor": 0
}
