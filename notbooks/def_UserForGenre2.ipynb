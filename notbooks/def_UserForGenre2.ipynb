{
  "cells": [
    {
      "cell_type": "markdown",
      "metadata": {
        "id": "cq1waMLk1rjA"
      },
      "source": [
        "def UserForGenre( genero : str ): Debe devolver el usuario que acumula más horas jugadas para el género dado y una lista de la acumulación de horas jugadas por año.\n",
        "Ejemplo de retorno: {\"Usuario con más horas jugadas para Género X\" : us213ndjss09sdf, \"Horas jugadas\":[{Año: 2013, Horas: 203}, {Año: 2012, Horas: 100}, {Año: 2011, Horas: 23}]}\n",
        "\n"
      ]
    },
    {
      "cell_type": "code",
      "execution_count": 1,
      "metadata": {
        "id": "ZzLy5OB7yoz1"
      },
      "outputs": [],
      "source": [
        "import pandas as pd\n",
        "\n",
        "# Ruta a tus archivos CSV\n",
        "archivo_csv1 = 'gamescompleto.csv'\n",
        "archivo_csv2 = 'itemscompleto.csv'\n",
        "archivo_csv3 = 'reviewscompleto.csv'\n",
        "\n",
        "# Carga de datos desde los archivos CSV en DataFrames\n",
        "dfgames = pd.read_csv(archivo_csv1)\n",
        "dfitems = pd.read_csv(archivo_csv2)\n",
        "dfreviews = pd.read_csv(archivo_csv3)\n"
      ]
    },
    {
      "cell_type": "code",
      "execution_count": 2,
      "metadata": {
        "colab": {
          "base_uri": "https://localhost:8080/",
          "height": 467
        },
        "id": "U-6EPDSn3F5l",
        "outputId": "90c9d1b9-5ad1-42ef-cb0f-0dea955e92cb"
      },
      "outputs": [
        {
          "data": {
            "text/html": [
              "<div>\n",
              "<style scoped>\n",
              "    .dataframe tbody tr th:only-of-type {\n",
              "        vertical-align: middle;\n",
              "    }\n",
              "\n",
              "    .dataframe tbody tr th {\n",
              "        vertical-align: top;\n",
              "    }\n",
              "\n",
              "    .dataframe thead th {\n",
              "        text-align: right;\n",
              "    }\n",
              "</style>\n",
              "<table border=\"1\" class=\"dataframe\">\n",
              "  <thead>\n",
              "    <tr style=\"text-align: right;\">\n",
              "      <th></th>\n",
              "      <th>publisher</th>\n",
              "      <th>genres</th>\n",
              "      <th>item_name</th>\n",
              "      <th>title</th>\n",
              "      <th>url</th>\n",
              "      <th>release_date</th>\n",
              "      <th>tags</th>\n",
              "      <th>reviews_url</th>\n",
              "      <th>specs</th>\n",
              "      <th>price</th>\n",
              "      <th>early_access</th>\n",
              "      <th>item_id</th>\n",
              "      <th>developer</th>\n",
              "    </tr>\n",
              "  </thead>\n",
              "  <tbody>\n",
              "    <tr>\n",
              "      <th>0</th>\n",
              "      <td>Kotoshiro</td>\n",
              "      <td>['Action', 'Casual', 'Indie', 'Simulation', 'S...</td>\n",
              "      <td>Lost Summoner Kitty</td>\n",
              "      <td>Lost Summoner Kitty</td>\n",
              "      <td>http://store.steampowered.com/app/761140/Lost_...</td>\n",
              "      <td>2018-01-04</td>\n",
              "      <td>['Strategy', 'Action', 'Indie', 'Casual', 'Sim...</td>\n",
              "      <td>http://steamcommunity.com/app/761140/reviews/?...</td>\n",
              "      <td>['Single-player']</td>\n",
              "      <td>4.99</td>\n",
              "      <td>False</td>\n",
              "      <td>761140.0</td>\n",
              "      <td>Kotoshiro</td>\n",
              "    </tr>\n",
              "    <tr>\n",
              "      <th>1</th>\n",
              "      <td>Making Fun, Inc.</td>\n",
              "      <td>['Free to Play', 'Indie', 'RPG', 'Strategy']</td>\n",
              "      <td>Ironbound</td>\n",
              "      <td>Ironbound</td>\n",
              "      <td>http://store.steampowered.com/app/643980/Ironb...</td>\n",
              "      <td>2018-01-04</td>\n",
              "      <td>['Free to Play', 'Strategy', 'Indie', 'RPG', '...</td>\n",
              "      <td>http://steamcommunity.com/app/643980/reviews/?...</td>\n",
              "      <td>['Single-player', 'Multi-player', 'Online Mult...</td>\n",
              "      <td>Free To Play</td>\n",
              "      <td>False</td>\n",
              "      <td>643980.0</td>\n",
              "      <td>Secret Level SRL</td>\n",
              "    </tr>\n",
              "    <tr>\n",
              "      <th>2</th>\n",
              "      <td>Poolians.com</td>\n",
              "      <td>['Casual', 'Free to Play', 'Indie', 'Simulatio...</td>\n",
              "      <td>Real Pool 3D - Poolians</td>\n",
              "      <td>Real Pool 3D - Poolians</td>\n",
              "      <td>http://store.steampowered.com/app/670290/Real_...</td>\n",
              "      <td>2017-07-24</td>\n",
              "      <td>['Free to Play', 'Simulation', 'Sports', 'Casu...</td>\n",
              "      <td>http://steamcommunity.com/app/670290/reviews/?...</td>\n",
              "      <td>['Single-player', 'Multi-player', 'Online Mult...</td>\n",
              "      <td>Free to Play</td>\n",
              "      <td>False</td>\n",
              "      <td>670290.0</td>\n",
              "      <td>Poolians.com</td>\n",
              "    </tr>\n",
              "    <tr>\n",
              "      <th>3</th>\n",
              "      <td>彼岸领域</td>\n",
              "      <td>['Action', 'Adventure', 'Casual']</td>\n",
              "      <td>弹炸人2222</td>\n",
              "      <td>弹炸人2222</td>\n",
              "      <td>http://store.steampowered.com/app/767400/2222/</td>\n",
              "      <td>2017-12-07</td>\n",
              "      <td>['Action', 'Adventure', 'Casual']</td>\n",
              "      <td>http://steamcommunity.com/app/767400/reviews/?...</td>\n",
              "      <td>['Single-player']</td>\n",
              "      <td>0.99</td>\n",
              "      <td>False</td>\n",
              "      <td>767400.0</td>\n",
              "      <td>彼岸领域</td>\n",
              "    </tr>\n",
              "    <tr>\n",
              "      <th>4</th>\n",
              "      <td>Trickjump Games Ltd</td>\n",
              "      <td>['Action', 'Adventure', 'Simulation']</td>\n",
              "      <td>Battle Royale Trainer</td>\n",
              "      <td>Battle Royale Trainer</td>\n",
              "      <td>http://store.steampowered.com/app/772540/Battl...</td>\n",
              "      <td>2018-01-04</td>\n",
              "      <td>['Action', 'Adventure', 'Simulation', 'FPS', '...</td>\n",
              "      <td>http://steamcommunity.com/app/772540/reviews/?...</td>\n",
              "      <td>['Single-player', 'Steam Achievements']</td>\n",
              "      <td>3.99</td>\n",
              "      <td>False</td>\n",
              "      <td>772540.0</td>\n",
              "      <td>Trickjump Games Ltd</td>\n",
              "    </tr>\n",
              "  </tbody>\n",
              "</table>\n",
              "</div>"
            ],
            "text/plain": [
              "             publisher                                             genres  \\\n",
              "0            Kotoshiro  ['Action', 'Casual', 'Indie', 'Simulation', 'S...   \n",
              "1     Making Fun, Inc.       ['Free to Play', 'Indie', 'RPG', 'Strategy']   \n",
              "2         Poolians.com  ['Casual', 'Free to Play', 'Indie', 'Simulatio...   \n",
              "3                 彼岸领域                  ['Action', 'Adventure', 'Casual']   \n",
              "4  Trickjump Games Ltd              ['Action', 'Adventure', 'Simulation']   \n",
              "\n",
              "                 item_name                    title  \\\n",
              "0      Lost Summoner Kitty      Lost Summoner Kitty   \n",
              "1                Ironbound                Ironbound   \n",
              "2  Real Pool 3D - Poolians  Real Pool 3D - Poolians   \n",
              "3                  弹炸人2222                  弹炸人2222   \n",
              "4    Battle Royale Trainer    Battle Royale Trainer   \n",
              "\n",
              "                                                 url release_date  \\\n",
              "0  http://store.steampowered.com/app/761140/Lost_...   2018-01-04   \n",
              "1  http://store.steampowered.com/app/643980/Ironb...   2018-01-04   \n",
              "2  http://store.steampowered.com/app/670290/Real_...   2017-07-24   \n",
              "3     http://store.steampowered.com/app/767400/2222/   2017-12-07   \n",
              "4  http://store.steampowered.com/app/772540/Battl...   2018-01-04   \n",
              "\n",
              "                                                tags  \\\n",
              "0  ['Strategy', 'Action', 'Indie', 'Casual', 'Sim...   \n",
              "1  ['Free to Play', 'Strategy', 'Indie', 'RPG', '...   \n",
              "2  ['Free to Play', 'Simulation', 'Sports', 'Casu...   \n",
              "3                  ['Action', 'Adventure', 'Casual']   \n",
              "4  ['Action', 'Adventure', 'Simulation', 'FPS', '...   \n",
              "\n",
              "                                         reviews_url  \\\n",
              "0  http://steamcommunity.com/app/761140/reviews/?...   \n",
              "1  http://steamcommunity.com/app/643980/reviews/?...   \n",
              "2  http://steamcommunity.com/app/670290/reviews/?...   \n",
              "3  http://steamcommunity.com/app/767400/reviews/?...   \n",
              "4  http://steamcommunity.com/app/772540/reviews/?...   \n",
              "\n",
              "                                               specs         price  \\\n",
              "0                                  ['Single-player']          4.99   \n",
              "1  ['Single-player', 'Multi-player', 'Online Mult...  Free To Play   \n",
              "2  ['Single-player', 'Multi-player', 'Online Mult...  Free to Play   \n",
              "3                                  ['Single-player']          0.99   \n",
              "4            ['Single-player', 'Steam Achievements']          3.99   \n",
              "\n",
              "   early_access   item_id            developer  \n",
              "0         False  761140.0            Kotoshiro  \n",
              "1         False  643980.0     Secret Level SRL  \n",
              "2         False  670290.0         Poolians.com  \n",
              "3         False  767400.0                 彼岸领域  \n",
              "4         False  772540.0  Trickjump Games Ltd  "
            ]
          },
          "execution_count": 2,
          "metadata": {},
          "output_type": "execute_result"
        }
      ],
      "source": [
        "dfgames.head()\n",
        "#de aca necesito genero e item id"
      ]
    },
    {
      "cell_type": "code",
      "execution_count": 3,
      "metadata": {
        "id": "4BNtNJZ1I32F"
      },
      "outputs": [],
      "source": [
        "dfgames2 = dfgames[['genres', 'item_id']]\n"
      ]
    },
    {
      "cell_type": "code",
      "execution_count": 4,
      "metadata": {
        "colab": {
          "base_uri": "https://localhost:8080/",
          "height": 206
        },
        "id": "49nZeEF5JGYa",
        "outputId": "8f762be0-3d7a-4f16-f4b1-1d3620820668"
      },
      "outputs": [
        {
          "data": {
            "text/html": [
              "<div>\n",
              "<style scoped>\n",
              "    .dataframe tbody tr th:only-of-type {\n",
              "        vertical-align: middle;\n",
              "    }\n",
              "\n",
              "    .dataframe tbody tr th {\n",
              "        vertical-align: top;\n",
              "    }\n",
              "\n",
              "    .dataframe thead th {\n",
              "        text-align: right;\n",
              "    }\n",
              "</style>\n",
              "<table border=\"1\" class=\"dataframe\">\n",
              "  <thead>\n",
              "    <tr style=\"text-align: right;\">\n",
              "      <th></th>\n",
              "      <th>genres</th>\n",
              "      <th>item_id</th>\n",
              "    </tr>\n",
              "  </thead>\n",
              "  <tbody>\n",
              "    <tr>\n",
              "      <th>0</th>\n",
              "      <td>['Action', 'Casual', 'Indie', 'Simulation', 'S...</td>\n",
              "      <td>761140.0</td>\n",
              "    </tr>\n",
              "    <tr>\n",
              "      <th>1</th>\n",
              "      <td>['Free to Play', 'Indie', 'RPG', 'Strategy']</td>\n",
              "      <td>643980.0</td>\n",
              "    </tr>\n",
              "    <tr>\n",
              "      <th>2</th>\n",
              "      <td>['Casual', 'Free to Play', 'Indie', 'Simulatio...</td>\n",
              "      <td>670290.0</td>\n",
              "    </tr>\n",
              "    <tr>\n",
              "      <th>3</th>\n",
              "      <td>['Action', 'Adventure', 'Casual']</td>\n",
              "      <td>767400.0</td>\n",
              "    </tr>\n",
              "    <tr>\n",
              "      <th>4</th>\n",
              "      <td>['Action', 'Adventure', 'Simulation']</td>\n",
              "      <td>772540.0</td>\n",
              "    </tr>\n",
              "  </tbody>\n",
              "</table>\n",
              "</div>"
            ],
            "text/plain": [
              "                                              genres   item_id\n",
              "0  ['Action', 'Casual', 'Indie', 'Simulation', 'S...  761140.0\n",
              "1       ['Free to Play', 'Indie', 'RPG', 'Strategy']  643980.0\n",
              "2  ['Casual', 'Free to Play', 'Indie', 'Simulatio...  670290.0\n",
              "3                  ['Action', 'Adventure', 'Casual']  767400.0\n",
              "4              ['Action', 'Adventure', 'Simulation']  772540.0"
            ]
          },
          "execution_count": 4,
          "metadata": {},
          "output_type": "execute_result"
        }
      ],
      "source": [
        "dfgames2.head()"
      ]
    },
    {
      "cell_type": "code",
      "execution_count": 5,
      "metadata": {
        "colab": {
          "base_uri": "https://localhost:8080/"
        },
        "id": "omhM1xLXJgfk",
        "outputId": "02edab07-db8b-4492-8db1-8c39190b0480"
      },
      "outputs": [
        {
          "name": "stderr",
          "output_type": "stream",
          "text": [
            "C:\\Users\\W10\\AppData\\Local\\Temp\\ipykernel_11240\\1224657353.py:2: SettingWithCopyWarning: \n",
            "A value is trying to be set on a copy of a slice from a DataFrame.\n",
            "Try using .loc[row_indexer,col_indexer] = value instead\n",
            "\n",
            "See the caveats in the documentation: https://pandas.pydata.org/pandas-docs/stable/user_guide/indexing.html#returning-a-view-versus-a-copy\n",
            "  dfgames2['genres'] = dfgames2['genres'].str.replace(r\"[\\[\\]']\", '', regex=True)\n"
          ]
        }
      ],
      "source": [
        "# eliminamos los corchetes y comillas\n",
        "dfgames2['genres'] = dfgames2['genres'].str.replace(r\"[\\[\\]']\", '', regex=True)"
      ]
    },
    {
      "cell_type": "code",
      "execution_count": 6,
      "metadata": {
        "colab": {
          "base_uri": "https://localhost:8080/"
        },
        "id": "qVuetsyrJsSt",
        "outputId": "17c66585-9775-4b75-b2a5-1a52c193741c"
      },
      "outputs": [
        {
          "data": {
            "text/html": [
              "<div>\n",
              "<style scoped>\n",
              "    .dataframe tbody tr th:only-of-type {\n",
              "        vertical-align: middle;\n",
              "    }\n",
              "\n",
              "    .dataframe tbody tr th {\n",
              "        vertical-align: top;\n",
              "    }\n",
              "\n",
              "    .dataframe thead th {\n",
              "        text-align: right;\n",
              "    }\n",
              "</style>\n",
              "<table border=\"1\" class=\"dataframe\">\n",
              "  <thead>\n",
              "    <tr style=\"text-align: right;\">\n",
              "      <th></th>\n",
              "      <th>genres</th>\n",
              "      <th>item_id</th>\n",
              "    </tr>\n",
              "  </thead>\n",
              "  <tbody>\n",
              "    <tr>\n",
              "      <th>0</th>\n",
              "      <td>Action, Casual, Indie, Simulation, Strategy</td>\n",
              "      <td>761140.0</td>\n",
              "    </tr>\n",
              "    <tr>\n",
              "      <th>1</th>\n",
              "      <td>Free to Play, Indie, RPG, Strategy</td>\n",
              "      <td>643980.0</td>\n",
              "    </tr>\n",
              "    <tr>\n",
              "      <th>2</th>\n",
              "      <td>Casual, Free to Play, Indie, Simulation, Sports</td>\n",
              "      <td>670290.0</td>\n",
              "    </tr>\n",
              "    <tr>\n",
              "      <th>3</th>\n",
              "      <td>Action, Adventure, Casual</td>\n",
              "      <td>767400.0</td>\n",
              "    </tr>\n",
              "    <tr>\n",
              "      <th>4</th>\n",
              "      <td>Action, Adventure, Simulation</td>\n",
              "      <td>772540.0</td>\n",
              "    </tr>\n",
              "  </tbody>\n",
              "</table>\n",
              "</div>"
            ],
            "text/plain": [
              "                                            genres   item_id\n",
              "0      Action, Casual, Indie, Simulation, Strategy  761140.0\n",
              "1               Free to Play, Indie, RPG, Strategy  643980.0\n",
              "2  Casual, Free to Play, Indie, Simulation, Sports  670290.0\n",
              "3                        Action, Adventure, Casual  767400.0\n",
              "4                    Action, Adventure, Simulation  772540.0"
            ]
          },
          "execution_count": 6,
          "metadata": {},
          "output_type": "execute_result"
        }
      ],
      "source": [
        "dfgames2.head()"
      ]
    },
    {
      "cell_type": "code",
      "execution_count": 7,
      "metadata": {},
      "outputs": [
        {
          "name": "stdout",
          "output_type": "stream",
          "text": [
            "<class 'pandas.core.frame.DataFrame'>\n",
            "RangeIndex: 28852 entries, 0 to 28851\n",
            "Data columns (total 2 columns):\n",
            " #   Column   Non-Null Count  Dtype  \n",
            "---  ------   --------------  -----  \n",
            " 0   genres   28852 non-null  object \n",
            " 1   item_id  28851 non-null  float64\n",
            "dtypes: float64(1), object(1)\n",
            "memory usage: 450.9+ KB\n"
          ]
        }
      ],
      "source": [
        "dfgames2.info()\n",
        "\n",
        "# 1 solo nulo lo sacamos"
      ]
    },
    {
      "cell_type": "code",
      "execution_count": 8,
      "metadata": {
        "colab": {
          "base_uri": "https://localhost:8080/"
        },
        "id": "9pPoZ6ueJvCC",
        "outputId": "564f1ac1-48f9-4e3b-856f-b97b5e01f148"
      },
      "outputs": [],
      "source": [
        "# eliminamos ese nulo y nos pasamos item_id a entero ya que es una columan id y asi tendra mas congruencia  \n",
        "dfgames2 = dfgames2.dropna(subset=['item_id'])\n",
        "dfgames2['item_id'] = dfgames2['item_id'].astype(int)\n"
      ]
    },
    {
      "cell_type": "code",
      "execution_count": 9,
      "metadata": {
        "colab": {
          "base_uri": "https://localhost:8080/"
        },
        "id": "prQMmV6nKN2y",
        "outputId": "5c2afa10-b8f8-492d-c243-2d2aea0d0d30"
      },
      "outputs": [
        {
          "name": "stdout",
          "output_type": "stream",
          "text": [
            "<class 'pandas.core.frame.DataFrame'>\n",
            "Index: 28851 entries, 0 to 28851\n",
            "Data columns (total 2 columns):\n",
            " #   Column   Non-Null Count  Dtype \n",
            "---  ------   --------------  ----- \n",
            " 0   genres   28851 non-null  object\n",
            " 1   item_id  28851 non-null  int32 \n",
            "dtypes: int32(1), object(1)\n",
            "memory usage: 563.5+ KB\n"
          ]
        }
      ],
      "source": [
        "dfgames2.info()\n",
        "#verificamos"
      ]
    },
    {
      "cell_type": "code",
      "execution_count": 10,
      "metadata": {
        "colab": {
          "base_uri": "https://localhost:8080/",
          "height": 206
        },
        "id": "BFlSZFHRKO-b",
        "outputId": "35fb0ccb-2de9-485a-f083-287d5a02425e"
      },
      "outputs": [
        {
          "data": {
            "text/html": [
              "<div>\n",
              "<style scoped>\n",
              "    .dataframe tbody tr th:only-of-type {\n",
              "        vertical-align: middle;\n",
              "    }\n",
              "\n",
              "    .dataframe tbody tr th {\n",
              "        vertical-align: top;\n",
              "    }\n",
              "\n",
              "    .dataframe thead th {\n",
              "        text-align: right;\n",
              "    }\n",
              "</style>\n",
              "<table border=\"1\" class=\"dataframe\">\n",
              "  <thead>\n",
              "    <tr style=\"text-align: right;\">\n",
              "      <th></th>\n",
              "      <th>genres</th>\n",
              "      <th>item_id</th>\n",
              "    </tr>\n",
              "  </thead>\n",
              "  <tbody>\n",
              "    <tr>\n",
              "      <th>0</th>\n",
              "      <td>Action, Casual, Indie, Simulation, Strategy</td>\n",
              "      <td>761140</td>\n",
              "    </tr>\n",
              "    <tr>\n",
              "      <th>1</th>\n",
              "      <td>Free to Play, Indie, RPG, Strategy</td>\n",
              "      <td>643980</td>\n",
              "    </tr>\n",
              "    <tr>\n",
              "      <th>2</th>\n",
              "      <td>Casual, Free to Play, Indie, Simulation, Sports</td>\n",
              "      <td>670290</td>\n",
              "    </tr>\n",
              "    <tr>\n",
              "      <th>3</th>\n",
              "      <td>Action, Adventure, Casual</td>\n",
              "      <td>767400</td>\n",
              "    </tr>\n",
              "    <tr>\n",
              "      <th>4</th>\n",
              "      <td>Action, Adventure, Simulation</td>\n",
              "      <td>772540</td>\n",
              "    </tr>\n",
              "  </tbody>\n",
              "</table>\n",
              "</div>"
            ],
            "text/plain": [
              "                                            genres  item_id\n",
              "0      Action, Casual, Indie, Simulation, Strategy   761140\n",
              "1               Free to Play, Indie, RPG, Strategy   643980\n",
              "2  Casual, Free to Play, Indie, Simulation, Sports   670290\n",
              "3                        Action, Adventure, Casual   767400\n",
              "4                    Action, Adventure, Simulation   772540"
            ]
          },
          "execution_count": 10,
          "metadata": {},
          "output_type": "execute_result"
        }
      ],
      "source": [
        "dfgames2.head()\n",
        "# Lista esta parte"
      ]
    },
    {
      "cell_type": "code",
      "execution_count": 11,
      "metadata": {
        "colab": {
          "base_uri": "https://localhost:8080/",
          "height": 206
        },
        "id": "u_KBGeqAKVfl",
        "outputId": "e9b9a25e-f3cc-43e4-b86e-e50a16297946"
      },
      "outputs": [
        {
          "data": {
            "text/html": [
              "<div>\n",
              "<style scoped>\n",
              "    .dataframe tbody tr th:only-of-type {\n",
              "        vertical-align: middle;\n",
              "    }\n",
              "\n",
              "    .dataframe tbody tr th {\n",
              "        vertical-align: top;\n",
              "    }\n",
              "\n",
              "    .dataframe thead th {\n",
              "        text-align: right;\n",
              "    }\n",
              "</style>\n",
              "<table border=\"1\" class=\"dataframe\">\n",
              "  <thead>\n",
              "    <tr style=\"text-align: right;\">\n",
              "      <th></th>\n",
              "      <th>user_id</th>\n",
              "      <th>items_count</th>\n",
              "      <th>steam_id</th>\n",
              "      <th>user_url</th>\n",
              "      <th>item_id</th>\n",
              "      <th>item_name</th>\n",
              "      <th>playtime_forever</th>\n",
              "      <th>playtime_2weeks</th>\n",
              "    </tr>\n",
              "  </thead>\n",
              "  <tbody>\n",
              "    <tr>\n",
              "      <th>0</th>\n",
              "      <td>76561197970982479</td>\n",
              "      <td>277.0</td>\n",
              "      <td>76561197970982479</td>\n",
              "      <td>http://steamcommunity.com/profiles/76561197970...</td>\n",
              "      <td>10</td>\n",
              "      <td>Counter-Strike</td>\n",
              "      <td>6</td>\n",
              "      <td>0</td>\n",
              "    </tr>\n",
              "    <tr>\n",
              "      <th>1</th>\n",
              "      <td>js41637</td>\n",
              "      <td>888.0</td>\n",
              "      <td>76561198035864385</td>\n",
              "      <td>http://steamcommunity.com/id/js41637</td>\n",
              "      <td>20</td>\n",
              "      <td>Team Fortress Classic</td>\n",
              "      <td>0</td>\n",
              "      <td>0</td>\n",
              "    </tr>\n",
              "    <tr>\n",
              "      <th>2</th>\n",
              "      <td>evcentric</td>\n",
              "      <td>137.0</td>\n",
              "      <td>76561198007712555</td>\n",
              "      <td>http://steamcommunity.com/id/evcentric</td>\n",
              "      <td>30</td>\n",
              "      <td>Day of Defeat</td>\n",
              "      <td>7</td>\n",
              "      <td>0</td>\n",
              "    </tr>\n",
              "    <tr>\n",
              "      <th>3</th>\n",
              "      <td>Riot-Punch</td>\n",
              "      <td>328.0</td>\n",
              "      <td>76561197963445855</td>\n",
              "      <td>http://steamcommunity.com/id/Riot-Punch</td>\n",
              "      <td>40</td>\n",
              "      <td>Deathmatch Classic</td>\n",
              "      <td>0</td>\n",
              "      <td>0</td>\n",
              "    </tr>\n",
              "    <tr>\n",
              "      <th>4</th>\n",
              "      <td>doctr</td>\n",
              "      <td>541.0</td>\n",
              "      <td>76561198002099482</td>\n",
              "      <td>http://steamcommunity.com/id/doctr</td>\n",
              "      <td>50</td>\n",
              "      <td>Half-Life: Opposing Force</td>\n",
              "      <td>0</td>\n",
              "      <td>0</td>\n",
              "    </tr>\n",
              "  </tbody>\n",
              "</table>\n",
              "</div>"
            ],
            "text/plain": [
              "             user_id  items_count           steam_id  \\\n",
              "0  76561197970982479        277.0  76561197970982479   \n",
              "1            js41637        888.0  76561198035864385   \n",
              "2          evcentric        137.0  76561198007712555   \n",
              "3         Riot-Punch        328.0  76561197963445855   \n",
              "4              doctr        541.0  76561198002099482   \n",
              "\n",
              "                                            user_url  item_id  \\\n",
              "0  http://steamcommunity.com/profiles/76561197970...       10   \n",
              "1               http://steamcommunity.com/id/js41637       20   \n",
              "2             http://steamcommunity.com/id/evcentric       30   \n",
              "3            http://steamcommunity.com/id/Riot-Punch       40   \n",
              "4                 http://steamcommunity.com/id/doctr       50   \n",
              "\n",
              "                   item_name  playtime_forever  playtime_2weeks  \n",
              "0             Counter-Strike                 6                0  \n",
              "1      Team Fortress Classic                 0                0  \n",
              "2              Day of Defeat                 7                0  \n",
              "3         Deathmatch Classic                 0                0  \n",
              "4  Half-Life: Opposing Force                 0                0  "
            ]
          },
          "execution_count": 11,
          "metadata": {},
          "output_type": "execute_result"
        }
      ],
      "source": [
        "dfitems.head()\n",
        "#necesito  user_id item_id item_name y playtime"
      ]
    },
    {
      "cell_type": "code",
      "execution_count": 12,
      "metadata": {
        "id": "yOqZ4OH9KqCf"
      },
      "outputs": [],
      "source": [
        "dfitems2 = dfitems[['user_id', 'item_id','item_name','playtime_forever']]"
      ]
    },
    {
      "cell_type": "code",
      "execution_count": 13,
      "metadata": {
        "colab": {
          "base_uri": "https://localhost:8080/",
          "height": 206
        },
        "id": "O_5tmJn9LIAJ",
        "outputId": "515b401b-98c3-4f28-8570-df8d76860090"
      },
      "outputs": [
        {
          "data": {
            "text/html": [
              "<div>\n",
              "<style scoped>\n",
              "    .dataframe tbody tr th:only-of-type {\n",
              "        vertical-align: middle;\n",
              "    }\n",
              "\n",
              "    .dataframe tbody tr th {\n",
              "        vertical-align: top;\n",
              "    }\n",
              "\n",
              "    .dataframe thead th {\n",
              "        text-align: right;\n",
              "    }\n",
              "</style>\n",
              "<table border=\"1\" class=\"dataframe\">\n",
              "  <thead>\n",
              "    <tr style=\"text-align: right;\">\n",
              "      <th></th>\n",
              "      <th>user_id</th>\n",
              "      <th>item_id</th>\n",
              "      <th>item_name</th>\n",
              "      <th>playtime_forever</th>\n",
              "    </tr>\n",
              "  </thead>\n",
              "  <tbody>\n",
              "    <tr>\n",
              "      <th>0</th>\n",
              "      <td>76561197970982479</td>\n",
              "      <td>10</td>\n",
              "      <td>Counter-Strike</td>\n",
              "      <td>6</td>\n",
              "    </tr>\n",
              "    <tr>\n",
              "      <th>1</th>\n",
              "      <td>js41637</td>\n",
              "      <td>20</td>\n",
              "      <td>Team Fortress Classic</td>\n",
              "      <td>0</td>\n",
              "    </tr>\n",
              "    <tr>\n",
              "      <th>2</th>\n",
              "      <td>evcentric</td>\n",
              "      <td>30</td>\n",
              "      <td>Day of Defeat</td>\n",
              "      <td>7</td>\n",
              "    </tr>\n",
              "    <tr>\n",
              "      <th>3</th>\n",
              "      <td>Riot-Punch</td>\n",
              "      <td>40</td>\n",
              "      <td>Deathmatch Classic</td>\n",
              "      <td>0</td>\n",
              "    </tr>\n",
              "    <tr>\n",
              "      <th>4</th>\n",
              "      <td>doctr</td>\n",
              "      <td>50</td>\n",
              "      <td>Half-Life: Opposing Force</td>\n",
              "      <td>0</td>\n",
              "    </tr>\n",
              "  </tbody>\n",
              "</table>\n",
              "</div>"
            ],
            "text/plain": [
              "             user_id  item_id                  item_name  playtime_forever\n",
              "0  76561197970982479       10             Counter-Strike                 6\n",
              "1            js41637       20      Team Fortress Classic                 0\n",
              "2          evcentric       30              Day of Defeat                 7\n",
              "3         Riot-Punch       40         Deathmatch Classic                 0\n",
              "4              doctr       50  Half-Life: Opposing Force                 0"
            ]
          },
          "execution_count": 13,
          "metadata": {},
          "output_type": "execute_result"
        }
      ],
      "source": [
        "dfitems2.head()"
      ]
    },
    {
      "cell_type": "code",
      "execution_count": 14,
      "metadata": {
        "colab": {
          "base_uri": "https://localhost:8080/"
        },
        "id": "6VuVTD1zLI9n",
        "outputId": "3074e263-52d8-44f8-e05b-12e13c30b5d3"
      },
      "outputs": [
        {
          "name": "stdout",
          "output_type": "stream",
          "text": [
            "<class 'pandas.core.frame.DataFrame'>\n",
            "RangeIndex: 88310 entries, 0 to 88309\n",
            "Data columns (total 4 columns):\n",
            " #   Column            Non-Null Count  Dtype \n",
            "---  ------            --------------  ----- \n",
            " 0   user_id           88310 non-null  object\n",
            " 1   item_id           88310 non-null  int64 \n",
            " 2   item_name         88310 non-null  object\n",
            " 3   playtime_forever  88310 non-null  int64 \n",
            "dtypes: int64(2), object(2)\n",
            "memory usage: 2.7+ MB\n"
          ]
        }
      ],
      "source": [
        "dfitems2.info()"
      ]
    },
    {
      "cell_type": "code",
      "execution_count": 15,
      "metadata": {},
      "outputs": [
        {
          "name": "stdout",
          "output_type": "stream",
          "text": [
            "400827\n",
            "0\n"
          ]
        }
      ],
      "source": [
        "#Exploremos un poco mas la variable numerica playtime la cual sabemos ademas que esta expresada en minutos\n",
        "maximovalor= dfitems2['playtime_forever'].max()\n",
        "minimovalor= dfitems2['playtime_forever'].min()\n",
        "print(maximovalor)\n",
        "print(minimovalor)"
      ]
    },
    {
      "cell_type": "code",
      "execution_count": 16,
      "metadata": {},
      "outputs": [
        {
          "name": "stderr",
          "output_type": "stream",
          "text": [
            "C:\\Users\\W10\\AppData\\Local\\Temp\\ipykernel_11240\\3988845975.py:4: SettingWithCopyWarning: \n",
            "A value is trying to be set on a copy of a slice from a DataFrame.\n",
            "Try using .loc[row_indexer,col_indexer] = value instead\n",
            "\n",
            "See the caveats in the documentation: https://pandas.pydata.org/pandas-docs/stable/user_guide/indexing.html#returning-a-view-versus-a-copy\n",
            "  dfitems2['playtime_hours'] = dfitems2['playtime_forever'] / 60  # Dividimos por 60 para obtener horas\n"
          ]
        },
        {
          "data": {
            "image/png": "[encoded data removed]",
            "text/plain": [
              "<Figure size 1200x1000 with 1 Axes>"
            ]
          },
          "metadata": {},
          "output_type": "display_data"
        }
      ],
      "source": [
        "# Veamos un boxplot pero expresado en horas en vez de minutos\n",
        "import matplotlib.pyplot as plt\n",
        "\n",
        "dfitems2['playtime_hours'] = dfitems2['playtime_forever'] / 60  # Dividimos por 60 para obtener horas\n",
        "\n",
        "plt.figure(figsize=(12, 10)) \n",
        "\n",
        "plt.boxplot(dfitems2['playtime_hours'], vert=False)\n",
        "\n",
        "\n",
        "plt.title('Box Plot de playtime_forever en Horas')\n",
        "plt.xlabel('Horas Jugadas')\n",
        "\n",
        "plt.show()\n",
        "# se ve raro vamos a considerar esto para la creacion y correcion de la funcion\n"
      ]
    },
    {
      "cell_type": "code",
      "execution_count": 17,
      "metadata": {
        "colab": {
          "base_uri": "https://localhost:8080/",
          "height": 206
        },
        "id": "stwE9dGBLKpS",
        "outputId": "8dc6bccb-f40e-46c6-af51-2424d20b7cfe"
      },
      "outputs": [
        {
          "data": {
            "text/html": [
              "<div>\n",
              "<style scoped>\n",
              "    .dataframe tbody tr th:only-of-type {\n",
              "        vertical-align: middle;\n",
              "    }\n",
              "\n",
              "    .dataframe tbody tr th {\n",
              "        vertical-align: top;\n",
              "    }\n",
              "\n",
              "    .dataframe thead th {\n",
              "        text-align: right;\n",
              "    }\n",
              "</style>\n",
              "<table border=\"1\" class=\"dataframe\">\n",
              "  <thead>\n",
              "    <tr style=\"text-align: right;\">\n",
              "      <th></th>\n",
              "      <th>funny</th>\n",
              "      <th>Fecha_posteo</th>\n",
              "      <th>last_edited</th>\n",
              "      <th>item_id</th>\n",
              "      <th>helpful</th>\n",
              "      <th>recommend</th>\n",
              "      <th>review</th>\n",
              "    </tr>\n",
              "  </thead>\n",
              "  <tbody>\n",
              "    <tr>\n",
              "      <th>0</th>\n",
              "      <td>NaN</td>\n",
              "      <td>2011-11-05</td>\n",
              "      <td>NaN</td>\n",
              "      <td>1250</td>\n",
              "      <td>No ratings yet</td>\n",
              "      <td>True</td>\n",
              "      <td>Simple yet with great replayability. In my opi...</td>\n",
              "    </tr>\n",
              "    <tr>\n",
              "      <th>1</th>\n",
              "      <td>NaN</td>\n",
              "      <td>2011-07-15</td>\n",
              "      <td>NaN</td>\n",
              "      <td>22200</td>\n",
              "      <td>No ratings yet</td>\n",
              "      <td>True</td>\n",
              "      <td>It's unique and worth a playthrough.</td>\n",
              "    </tr>\n",
              "    <tr>\n",
              "      <th>2</th>\n",
              "      <td>NaN</td>\n",
              "      <td>2011-04-21</td>\n",
              "      <td>NaN</td>\n",
              "      <td>43110</td>\n",
              "      <td>No ratings yet</td>\n",
              "      <td>True</td>\n",
              "      <td>Great atmosphere. The gunplay can be a bit chu...</td>\n",
              "    </tr>\n",
              "    <tr>\n",
              "      <th>3</th>\n",
              "      <td>NaN</td>\n",
              "      <td>2014-06-24</td>\n",
              "      <td>NaN</td>\n",
              "      <td>251610</td>\n",
              "      <td>15 of 20 people (75%) found this review helpful</td>\n",
              "      <td>True</td>\n",
              "      <td>I know what you think when you see this title ...</td>\n",
              "    </tr>\n",
              "    <tr>\n",
              "      <th>4</th>\n",
              "      <td>NaN</td>\n",
              "      <td>2013-09-08</td>\n",
              "      <td>NaN</td>\n",
              "      <td>227300</td>\n",
              "      <td>0 of 1 people (0%) found this review helpful</td>\n",
              "      <td>True</td>\n",
              "      <td>For a simple (it's actually not all that simpl...</td>\n",
              "    </tr>\n",
              "  </tbody>\n",
              "</table>\n",
              "</div>"
            ],
            "text/plain": [
              "  funny Fecha_posteo last_edited  item_id  \\\n",
              "0   NaN   2011-11-05         NaN     1250   \n",
              "1   NaN   2011-07-15         NaN    22200   \n",
              "2   NaN   2011-04-21         NaN    43110   \n",
              "3   NaN   2014-06-24         NaN   251610   \n",
              "4   NaN   2013-09-08         NaN   227300   \n",
              "\n",
              "                                           helpful  recommend  \\\n",
              "0                                   No ratings yet       True   \n",
              "1                                   No ratings yet       True   \n",
              "2                                   No ratings yet       True   \n",
              "3  15 of 20 people (75%) found this review helpful       True   \n",
              "4     0 of 1 people (0%) found this review helpful       True   \n",
              "\n",
              "                                              review  \n",
              "0  Simple yet with great replayability. In my opi...  \n",
              "1               It's unique and worth a playthrough.  \n",
              "2  Great atmosphere. The gunplay can be a bit chu...  \n",
              "3  I know what you think when you see this title ...  \n",
              "4  For a simple (it's actually not all that simpl...  "
            ]
          },
          "execution_count": 17,
          "metadata": {},
          "output_type": "execute_result"
        }
      ],
      "source": [
        "dfreviews.head()\n",
        "# aca usariamos fecha posteo e item id"
      ]
    },
    {
      "cell_type": "code",
      "execution_count": 18,
      "metadata": {
        "id": "PEKu9LByLQR3"
      },
      "outputs": [],
      "source": [
        "dfreviews2 = dfreviews[['Fecha_posteo', 'item_id']]"
      ]
    },
    {
      "cell_type": "code",
      "execution_count": 19,
      "metadata": {
        "colab": {
          "base_uri": "https://localhost:8080/",
          "height": 206
        },
        "id": "HcG3EPVDLjnY",
        "outputId": "66985e8b-f92a-4802-fc67-21a16ce953b9"
      },
      "outputs": [
        {
          "data": {
            "text/html": [
              "<div>\n",
              "<style scoped>\n",
              "    .dataframe tbody tr th:only-of-type {\n",
              "        vertical-align: middle;\n",
              "    }\n",
              "\n",
              "    .dataframe tbody tr th {\n",
              "        vertical-align: top;\n",
              "    }\n",
              "\n",
              "    .dataframe thead th {\n",
              "        text-align: right;\n",
              "    }\n",
              "</style>\n",
              "<table border=\"1\" class=\"dataframe\">\n",
              "  <thead>\n",
              "    <tr style=\"text-align: right;\">\n",
              "      <th></th>\n",
              "      <th>Fecha_posteo</th>\n",
              "      <th>item_id</th>\n",
              "    </tr>\n",
              "  </thead>\n",
              "  <tbody>\n",
              "    <tr>\n",
              "      <th>0</th>\n",
              "      <td>2011-11-05</td>\n",
              "      <td>1250</td>\n",
              "    </tr>\n",
              "    <tr>\n",
              "      <th>1</th>\n",
              "      <td>2011-07-15</td>\n",
              "      <td>22200</td>\n",
              "    </tr>\n",
              "    <tr>\n",
              "      <th>2</th>\n",
              "      <td>2011-04-21</td>\n",
              "      <td>43110</td>\n",
              "    </tr>\n",
              "    <tr>\n",
              "      <th>3</th>\n",
              "      <td>2014-06-24</td>\n",
              "      <td>251610</td>\n",
              "    </tr>\n",
              "    <tr>\n",
              "      <th>4</th>\n",
              "      <td>2013-09-08</td>\n",
              "      <td>227300</td>\n",
              "    </tr>\n",
              "  </tbody>\n",
              "</table>\n",
              "</div>"
            ],
            "text/plain": [
              "  Fecha_posteo  item_id\n",
              "0   2011-11-05     1250\n",
              "1   2011-07-15    22200\n",
              "2   2011-04-21    43110\n",
              "3   2014-06-24   251610\n",
              "4   2013-09-08   227300"
            ]
          },
          "execution_count": 19,
          "metadata": {},
          "output_type": "execute_result"
        }
      ],
      "source": [
        "dfreviews2.head()"
      ]
    },
    {
      "cell_type": "code",
      "execution_count": 20,
      "metadata": {},
      "outputs": [
        {
          "name": "stdout",
          "output_type": "stream",
          "text": [
            "<class 'pandas.core.frame.DataFrame'>\n",
            "RangeIndex: 49186 entries, 0 to 49185\n",
            "Data columns (total 2 columns):\n",
            " #   Column        Non-Null Count  Dtype \n",
            "---  ------        --------------  ----- \n",
            " 0   Fecha_posteo  49186 non-null  object\n",
            " 1   item_id       49186 non-null  int64 \n",
            "dtypes: int64(1), object(1)\n",
            "memory usage: 768.7+ KB\n"
          ]
        }
      ],
      "source": [
        "dfreviews2.info()\n",
        "# sin nulos "
      ]
    },
    {
      "cell_type": "code",
      "execution_count": 21,
      "metadata": {
        "colab": {
          "base_uri": "https://localhost:8080/",
          "height": 193
        },
        "id": "JGLnv1U5Ll0f",
        "outputId": "fc4eb1e7-6219-46a4-edd6-7e8e2e668e69"
      },
      "outputs": [],
      "source": [
        "# Realiza la unión por la columna 'item_id'\n",
        "dfgamesitems = pd.merge(dfgames2, dfitems2, on='item_id', how='inner')\n"
      ]
    },
    {
      "cell_type": "code",
      "execution_count": 22,
      "metadata": {
        "colab": {
          "base_uri": "https://localhost:8080/",
          "height": 206
        },
        "id": "jNcN8DzsMC_v",
        "outputId": "fa0b7a5a-e8e8-45a0-d635-ebc843e049ad"
      },
      "outputs": [
        {
          "data": {
            "text/html": [
              "<div>\n",
              "<style scoped>\n",
              "    .dataframe tbody tr th:only-of-type {\n",
              "        vertical-align: middle;\n",
              "    }\n",
              "\n",
              "    .dataframe tbody tr th {\n",
              "        vertical-align: top;\n",
              "    }\n",
              "\n",
              "    .dataframe thead th {\n",
              "        text-align: right;\n",
              "    }\n",
              "</style>\n",
              "<table border=\"1\" class=\"dataframe\">\n",
              "  <thead>\n",
              "    <tr style=\"text-align: right;\">\n",
              "      <th></th>\n",
              "      <th>genres</th>\n",
              "      <th>item_id</th>\n",
              "      <th>user_id</th>\n",
              "      <th>item_name</th>\n",
              "      <th>playtime_forever</th>\n",
              "      <th>playtime_hours</th>\n",
              "    </tr>\n",
              "  </thead>\n",
              "  <tbody>\n",
              "    <tr>\n",
              "      <th>0</th>\n",
              "      <td>Action, Indie, Racing</td>\n",
              "      <td>282010</td>\n",
              "      <td>Uw0tm8MeaslesVaccines</td>\n",
              "      <td>Carmageddon Max Pack</td>\n",
              "      <td>5</td>\n",
              "      <td>0.083333</td>\n",
              "    </tr>\n",
              "    <tr>\n",
              "      <th>1</th>\n",
              "      <td>Action, Indie, Racing</td>\n",
              "      <td>282010</td>\n",
              "      <td>kelpykelpy</td>\n",
              "      <td>Carmageddon Max Pack</td>\n",
              "      <td>0</td>\n",
              "      <td>0.000000</td>\n",
              "    </tr>\n",
              "    <tr>\n",
              "      <th>2</th>\n",
              "      <td>Action, Indie, Racing</td>\n",
              "      <td>282010</td>\n",
              "      <td>76561198049237610</td>\n",
              "      <td>Carmageddon Max Pack</td>\n",
              "      <td>0</td>\n",
              "      <td>0.000000</td>\n",
              "    </tr>\n",
              "    <tr>\n",
              "      <th>3</th>\n",
              "      <td>Action, Indie, Racing</td>\n",
              "      <td>282010</td>\n",
              "      <td>76561198046186720</td>\n",
              "      <td>Carmageddon Max Pack</td>\n",
              "      <td>0</td>\n",
              "      <td>0.000000</td>\n",
              "    </tr>\n",
              "    <tr>\n",
              "      <th>4</th>\n",
              "      <td>Action, Indie, Racing</td>\n",
              "      <td>282010</td>\n",
              "      <td>76561198091166709</td>\n",
              "      <td>Carmageddon Max Pack</td>\n",
              "      <td>13</td>\n",
              "      <td>0.216667</td>\n",
              "    </tr>\n",
              "  </tbody>\n",
              "</table>\n",
              "</div>"
            ],
            "text/plain": [
              "                  genres  item_id                user_id  \\\n",
              "0  Action, Indie, Racing   282010  Uw0tm8MeaslesVaccines   \n",
              "1  Action, Indie, Racing   282010             kelpykelpy   \n",
              "2  Action, Indie, Racing   282010      76561198049237610   \n",
              "3  Action, Indie, Racing   282010      76561198046186720   \n",
              "4  Action, Indie, Racing   282010      76561198091166709   \n",
              "\n",
              "              item_name  playtime_forever  playtime_hours  \n",
              "0  Carmageddon Max Pack                 5        0.083333  \n",
              "1  Carmageddon Max Pack                 0        0.000000  \n",
              "2  Carmageddon Max Pack                 0        0.000000  \n",
              "3  Carmageddon Max Pack                 0        0.000000  \n",
              "4  Carmageddon Max Pack                13        0.216667  "
            ]
          },
          "execution_count": 22,
          "metadata": {},
          "output_type": "execute_result"
        }
      ],
      "source": [
        "dfgamesitems.head()"
      ]
    },
    {
      "cell_type": "code",
      "execution_count": 23,
      "metadata": {
        "id": "Tt_S-veyMD0r"
      },
      "outputs": [],
      "source": [
        "dfgamesitemsreviews= pd.merge(dfgamesitems, dfreviews2, on='item_id', how='inner')"
      ]
    },
    {
      "cell_type": "code",
      "execution_count": 24,
      "metadata": {},
      "outputs": [
        {
          "name": "stdout",
          "output_type": "stream",
          "text": [
            "<class 'pandas.core.frame.DataFrame'>\n",
            "RangeIndex: 8424045 entries, 0 to 8424044\n",
            "Data columns (total 7 columns):\n",
            " #   Column            Dtype  \n",
            "---  ------            -----  \n",
            " 0   genres            object \n",
            " 1   item_id           int32  \n",
            " 2   user_id           object \n",
            " 3   item_name         object \n",
            " 4   playtime_forever  int64  \n",
            " 5   playtime_hours    float64\n",
            " 6   Fecha_posteo      object \n",
            "dtypes: float64(1), int32(1), int64(1), object(4)\n",
            "memory usage: 417.8+ MB\n"
          ]
        }
      ],
      "source": [
        "dfgamesitemsreviews.info()"
      ]
    },
    {
      "cell_type": "code",
      "execution_count": 25,
      "metadata": {
        "colab": {
          "base_uri": "https://localhost:8080/",
          "height": 206
        },
        "id": "1Zab74ZhMYVW",
        "outputId": "2f9a3d29-7487-4185-eef6-72f85162bd5f"
      },
      "outputs": [
        {
          "data": {
            "text/html": [
              "<div>\n",
              "<style scoped>\n",
              "    .dataframe tbody tr th:only-of-type {\n",
              "        vertical-align: middle;\n",
              "    }\n",
              "\n",
              "    .dataframe tbody tr th {\n",
              "        vertical-align: top;\n",
              "    }\n",
              "\n",
              "    .dataframe thead th {\n",
              "        text-align: right;\n",
              "    }\n",
              "</style>\n",
              "<table border=\"1\" class=\"dataframe\">\n",
              "  <thead>\n",
              "    <tr style=\"text-align: right;\">\n",
              "      <th></th>\n",
              "      <th>genres</th>\n",
              "      <th>item_id</th>\n",
              "      <th>user_id</th>\n",
              "      <th>item_name</th>\n",
              "      <th>playtime_forever</th>\n",
              "      <th>playtime_hours</th>\n",
              "      <th>Fecha_posteo</th>\n",
              "    </tr>\n",
              "  </thead>\n",
              "  <tbody>\n",
              "    <tr>\n",
              "      <th>0</th>\n",
              "      <td>Action</td>\n",
              "      <td>70</td>\n",
              "      <td>NitemarePK</td>\n",
              "      <td>Half-Life</td>\n",
              "      <td>0</td>\n",
              "      <td>0.0</td>\n",
              "      <td>2015-10-28</td>\n",
              "    </tr>\n",
              "    <tr>\n",
              "      <th>1</th>\n",
              "      <td>Action</td>\n",
              "      <td>70</td>\n",
              "      <td>NitemarePK</td>\n",
              "      <td>Half-Life</td>\n",
              "      <td>0</td>\n",
              "      <td>0.0</td>\n",
              "      <td>2011-01-27</td>\n",
              "    </tr>\n",
              "    <tr>\n",
              "      <th>2</th>\n",
              "      <td>Action</td>\n",
              "      <td>70</td>\n",
              "      <td>NitemarePK</td>\n",
              "      <td>Half-Life</td>\n",
              "      <td>0</td>\n",
              "      <td>0.0</td>\n",
              "      <td>2014-07-01</td>\n",
              "    </tr>\n",
              "    <tr>\n",
              "      <th>3</th>\n",
              "      <td>Action</td>\n",
              "      <td>70</td>\n",
              "      <td>NitemarePK</td>\n",
              "      <td>Half-Life</td>\n",
              "      <td>0</td>\n",
              "      <td>0.0</td>\n",
              "      <td>2013-12-06</td>\n",
              "    </tr>\n",
              "    <tr>\n",
              "      <th>4</th>\n",
              "      <td>Action</td>\n",
              "      <td>70</td>\n",
              "      <td>NitemarePK</td>\n",
              "      <td>Half-Life</td>\n",
              "      <td>0</td>\n",
              "      <td>0.0</td>\n",
              "      <td>2013-08-07</td>\n",
              "    </tr>\n",
              "  </tbody>\n",
              "</table>\n",
              "</div>"
            ],
            "text/plain": [
              "   genres  item_id     user_id  item_name  playtime_forever  playtime_hours  \\\n",
              "0  Action       70  NitemarePK  Half-Life                 0             0.0   \n",
              "1  Action       70  NitemarePK  Half-Life                 0             0.0   \n",
              "2  Action       70  NitemarePK  Half-Life                 0             0.0   \n",
              "3  Action       70  NitemarePK  Half-Life                 0             0.0   \n",
              "4  Action       70  NitemarePK  Half-Life                 0             0.0   \n",
              "\n",
              "  Fecha_posteo  \n",
              "0   2015-10-28  \n",
              "1   2011-01-27  \n",
              "2   2014-07-01  \n",
              "3   2013-12-06  \n",
              "4   2013-08-07  "
            ]
          },
          "execution_count": 25,
          "metadata": {},
          "output_type": "execute_result"
        }
      ],
      "source": [
        "dfgamesitemsreviews.head()"
      ]
    },
    {
      "cell_type": "code",
      "execution_count": 26,
      "metadata": {
        "colab": {
          "base_uri": "https://localhost:8080/"
        },
        "id": "H_TUTP8cNfdk",
        "outputId": "3f1a8c8b-8f1c-4094-8a63-c813c7d4e5ad"
      },
      "outputs": [],
      "source": [
        "# Convertimos la columna a formato datetime\n",
        "dfgamesitemsreviews['Fecha_posteo'].isnull().sum()\n",
        "dfgamesitemsreviews['Fecha_posteo'] = pd.to_datetime(dfgamesitemsreviews['Fecha_posteo'])"
      ]
    },
    {
      "cell_type": "code",
      "execution_count": 27,
      "metadata": {},
      "outputs": [
        {
          "name": "stdout",
          "output_type": "stream",
          "text": [
            "Año\n",
            "2010    7.801064e+05\n",
            "2011    6.377476e+06\n",
            "2012    2.002517e+07\n",
            "2013    1.620520e+08\n",
            "2014    6.038058e+08\n",
            "2015    6.603777e+08\n",
            "Name: playtime_hours, dtype: float64\n"
          ]
        }
      ],
      "source": [
        "#veamos bien los datos de las horas jugadas\n",
        "\n",
        "# Extrae el año de la columna 'Fecha_posteo' y crea una nueva columna 'Año'\n",
        "dfgamesitemsreviews['Año'] = dfgamesitemsreviews['Fecha_posteo'].dt.year\n",
        "# Agrupa por año y suma las horas jugadas\n",
        "horas_por_año = dfgamesitemsreviews.groupby('Año')['playtime_hours'].sum()\n",
        "\n",
        "# Muestra el resultado\n",
        "print(horas_por_año)\n"
      ]
    },
    {
      "cell_type": "code",
      "execution_count": 28,
      "metadata": {},
      "outputs": [],
      "source": [
        "import pandas as pd\n",
        "\n",
        "# Calcula los cuartiles y el IQR\n",
        "Q1 = dfgamesitemsreviews['playtime_hours'].quantile(0.25)\n",
        "Q3 = dfgamesitemsreviews['playtime_hours'].quantile(0.75)\n",
        "IQR = Q3 - Q1\n",
        "\n",
        "# Calcula los límites inferior y superior\n",
        "lower_bound = Q1 - 1.5 * IQR\n",
        "upper_bound = Q3 + 1.5 * IQR\n",
        "\n",
        "# Filtra el DataFrame para mantener solo los valores dentro del rango\n",
        "df_no_outliers = dfgamesitemsreviews[(dfgamesitemsreviews['playtime_hours'] >= lower_bound) & (dfgamesitemsreviews['playtime_hours'] <= upper_bound)]\n",
        "\n",
        "# df_no_outliers ahora contiene solo las filas sin valores atípicos en la columna 'playtime_hours'\n",
        "\n"
      ]
    },
    {
      "cell_type": "code",
      "execution_count": 29,
      "metadata": {},
      "outputs": [
        {
          "name": "stderr",
          "output_type": "stream",
          "text": [
            "C:\\Users\\W10\\AppData\\Local\\Temp\\ipykernel_11240\\1611409504.py:4: SettingWithCopyWarning: \n",
            "A value is trying to be set on a copy of a slice from a DataFrame.\n",
            "Try using .loc[row_indexer,col_indexer] = value instead\n",
            "\n",
            "See the caveats in the documentation: https://pandas.pydata.org/pandas-docs/stable/user_guide/indexing.html#returning-a-view-versus-a-copy\n",
            "  df_no_outliers['Año'] = df_no_outliers['Fecha_posteo'].dt.year\n"
          ]
        },
        {
          "name": "stdout",
          "output_type": "stream",
          "text": [
            "Año\n",
            "2010    2.294183e+05\n",
            "2011    2.384491e+06\n",
            "2012    6.284057e+06\n",
            "2013    4.402541e+07\n",
            "2014    1.427225e+08\n",
            "2015    1.296796e+08\n",
            "Name: playtime_hours, dtype: float64\n"
          ]
        }
      ],
      "source": [
        "#veamos bien los datos de las horas jugadas ahora que aplicamos la diferencia de quartiles\n",
        "\n",
        "# Extrae el año de la columna 'Fecha_posteo' y crea una nueva columna 'Año'\n",
        "df_no_outliers['Año'] = df_no_outliers['Fecha_posteo'].dt.year\n",
        "# Agrupa por año y suma las horas jugadas\n",
        "horas_por_año = df_no_outliers.groupby('Año')['playtime_hours'].sum()\n",
        "\n",
        "# Muestra el resultado\n",
        "print(horas_por_año)"
      ]
    },
    {
      "cell_type": "code",
      "execution_count": 30,
      "metadata": {},
      "outputs": [
        {
          "name": "stderr",
          "output_type": "stream",
          "text": [
            "C:\\Users\\W10\\AppData\\Local\\Temp\\ipykernel_11240\\3730758905.py:4: SettingWithCopyWarning: \n",
            "A value is trying to be set on a copy of a slice from a DataFrame.\n",
            "Try using .loc[row_indexer,col_indexer] = value instead\n",
            "\n",
            "See the caveats in the documentation: https://pandas.pydata.org/pandas-docs/stable/user_guide/indexing.html#returning-a-view-versus-a-copy\n",
            "  df_no_outliers['Año'] = df_no_outliers['Fecha_posteo'].dt.year\n"
          ]
        },
        {
          "data": {
            "image/png": "[encoded data removed]",
            "text/plain": [
              "<Figure size 1000x600 with 1 Axes>"
            ]
          },
          "metadata": {},
          "output_type": "display_data"
        }
      ],
      "source": [
        "import matplotlib.pyplot as plt\n",
        "\n",
        "# Veamos bien los datos de las horas jugadas\n",
        "df_no_outliers['Año'] = df_no_outliers['Fecha_posteo'].dt.year\n",
        "\n",
        "# Agrupa por año y suma las horas jugadas\n",
        "horas_por_año = df_no_outliers.groupby('Año')['playtime_hours'].sum()\n",
        "\n",
        "# Crear un box plot\n",
        "plt.figure(figsize=(10, 6))\n",
        "plt.boxplot(horas_por_año, vert=False, labels=['Horas Jugadas por Año'])\n",
        "plt.title('Box Plot de Horas Jugadas por Año')\n",
        "plt.xlabel('Horas Jugadas')\n",
        "plt.show()\n"
      ]
    },
    {
      "cell_type": "code",
      "execution_count": 31,
      "metadata": {},
      "outputs": [
        {
          "data": {
            "image/png": "[encoded data removed]",
            "text/plain": [
              "<Figure size 800x600 with 1 Axes>"
            ]
          },
          "metadata": {},
          "output_type": "display_data"
        }
      ],
      "source": [
        "plt.figure(figsize=(8, 6))\n",
        "plt.boxplot(df_no_outliers['playtime_hours'])\n",
        "plt.title('Boxplot de Playtime Hours')\n",
        "plt.ylabel('Playtime Hours')\n",
        "plt.show()"
      ]
    },
    {
      "cell_type": "code",
      "execution_count": 32,
      "metadata": {},
      "outputs": [
        {
          "data": {
            "text/html": [
              "<div>\n",
              "<style scoped>\n",
              "    .dataframe tbody tr th:only-of-type {\n",
              "        vertical-align: middle;\n",
              "    }\n",
              "\n",
              "    .dataframe tbody tr th {\n",
              "        vertical-align: top;\n",
              "    }\n",
              "\n",
              "    .dataframe thead th {\n",
              "        text-align: right;\n",
              "    }\n",
              "</style>\n",
              "<table border=\"1\" class=\"dataframe\">\n",
              "  <thead>\n",
              "    <tr style=\"text-align: right;\">\n",
              "      <th></th>\n",
              "      <th>genres</th>\n",
              "      <th>item_id</th>\n",
              "      <th>user_id</th>\n",
              "      <th>item_name</th>\n",
              "      <th>playtime_forever</th>\n",
              "      <th>playtime_hours</th>\n",
              "      <th>Fecha_posteo</th>\n",
              "      <th>Año</th>\n",
              "    </tr>\n",
              "  </thead>\n",
              "  <tbody>\n",
              "    <tr>\n",
              "      <th>0</th>\n",
              "      <td>Action</td>\n",
              "      <td>70</td>\n",
              "      <td>NitemarePK</td>\n",
              "      <td>Half-Life</td>\n",
              "      <td>0</td>\n",
              "      <td>0.0</td>\n",
              "      <td>2015-10-28</td>\n",
              "      <td>2015</td>\n",
              "    </tr>\n",
              "    <tr>\n",
              "      <th>1</th>\n",
              "      <td>Action</td>\n",
              "      <td>70</td>\n",
              "      <td>NitemarePK</td>\n",
              "      <td>Half-Life</td>\n",
              "      <td>0</td>\n",
              "      <td>0.0</td>\n",
              "      <td>2011-01-27</td>\n",
              "      <td>2011</td>\n",
              "    </tr>\n",
              "    <tr>\n",
              "      <th>2</th>\n",
              "      <td>Action</td>\n",
              "      <td>70</td>\n",
              "      <td>NitemarePK</td>\n",
              "      <td>Half-Life</td>\n",
              "      <td>0</td>\n",
              "      <td>0.0</td>\n",
              "      <td>2014-07-01</td>\n",
              "      <td>2014</td>\n",
              "    </tr>\n",
              "    <tr>\n",
              "      <th>3</th>\n",
              "      <td>Action</td>\n",
              "      <td>70</td>\n",
              "      <td>NitemarePK</td>\n",
              "      <td>Half-Life</td>\n",
              "      <td>0</td>\n",
              "      <td>0.0</td>\n",
              "      <td>2013-12-06</td>\n",
              "      <td>2013</td>\n",
              "    </tr>\n",
              "    <tr>\n",
              "      <th>4</th>\n",
              "      <td>Action</td>\n",
              "      <td>70</td>\n",
              "      <td>NitemarePK</td>\n",
              "      <td>Half-Life</td>\n",
              "      <td>0</td>\n",
              "      <td>0.0</td>\n",
              "      <td>2013-08-07</td>\n",
              "      <td>2013</td>\n",
              "    </tr>\n",
              "    <tr>\n",
              "      <th>...</th>\n",
              "      <td>...</td>\n",
              "      <td>...</td>\n",
              "      <td>...</td>\n",
              "      <td>...</td>\n",
              "      <td>...</td>\n",
              "      <td>...</td>\n",
              "      <td>...</td>\n",
              "      <td>...</td>\n",
              "    </tr>\n",
              "    <tr>\n",
              "      <th>8424040</th>\n",
              "      <td>Action</td>\n",
              "      <td>80</td>\n",
              "      <td>XxLaughingJackClown77xX</td>\n",
              "      <td>Counter-Strike: Condition Zero</td>\n",
              "      <td>0</td>\n",
              "      <td>0.0</td>\n",
              "      <td>2014-10-26</td>\n",
              "      <td>2014</td>\n",
              "    </tr>\n",
              "    <tr>\n",
              "      <th>8424041</th>\n",
              "      <td>Action</td>\n",
              "      <td>80</td>\n",
              "      <td>XxLaughingJackClown77xX</td>\n",
              "      <td>Counter-Strike: Condition Zero</td>\n",
              "      <td>0</td>\n",
              "      <td>0.0</td>\n",
              "      <td>2013-12-08</td>\n",
              "      <td>2013</td>\n",
              "    </tr>\n",
              "    <tr>\n",
              "      <th>8424042</th>\n",
              "      <td>Action</td>\n",
              "      <td>80</td>\n",
              "      <td>XxLaughingJackClown77xX</td>\n",
              "      <td>Counter-Strike: Condition Zero</td>\n",
              "      <td>0</td>\n",
              "      <td>0.0</td>\n",
              "      <td>2015-01-05</td>\n",
              "      <td>2015</td>\n",
              "    </tr>\n",
              "    <tr>\n",
              "      <th>8424043</th>\n",
              "      <td>Action</td>\n",
              "      <td>80</td>\n",
              "      <td>XxLaughingJackClown77xX</td>\n",
              "      <td>Counter-Strike: Condition Zero</td>\n",
              "      <td>0</td>\n",
              "      <td>0.0</td>\n",
              "      <td>2014-10-31</td>\n",
              "      <td>2014</td>\n",
              "    </tr>\n",
              "    <tr>\n",
              "      <th>8424044</th>\n",
              "      <td>Action</td>\n",
              "      <td>80</td>\n",
              "      <td>XxLaughingJackClown77xX</td>\n",
              "      <td>Counter-Strike: Condition Zero</td>\n",
              "      <td>0</td>\n",
              "      <td>0.0</td>\n",
              "      <td>2015-05-04</td>\n",
              "      <td>2015</td>\n",
              "    </tr>\n",
              "  </tbody>\n",
              "</table>\n",
              "<p>7137386 rows × 8 columns</p>\n",
              "</div>"
            ],
            "text/plain": [
              "         genres  item_id                  user_id  \\\n",
              "0        Action       70               NitemarePK   \n",
              "1        Action       70               NitemarePK   \n",
              "2        Action       70               NitemarePK   \n",
              "3        Action       70               NitemarePK   \n",
              "4        Action       70               NitemarePK   \n",
              "...         ...      ...                      ...   \n",
              "8424040  Action       80  XxLaughingJackClown77xX   \n",
              "8424041  Action       80  XxLaughingJackClown77xX   \n",
              "8424042  Action       80  XxLaughingJackClown77xX   \n",
              "8424043  Action       80  XxLaughingJackClown77xX   \n",
              "8424044  Action       80  XxLaughingJackClown77xX   \n",
              "\n",
              "                              item_name  playtime_forever  playtime_hours  \\\n",
              "0                             Half-Life                 0             0.0   \n",
              "1                             Half-Life                 0             0.0   \n",
              "2                             Half-Life                 0             0.0   \n",
              "3                             Half-Life                 0             0.0   \n",
              "4                             Half-Life                 0             0.0   \n",
              "...                                 ...               ...             ...   \n",
              "8424040  Counter-Strike: Condition Zero                 0             0.0   \n",
              "8424041  Counter-Strike: Condition Zero                 0             0.0   \n",
              "8424042  Counter-Strike: Condition Zero                 0             0.0   \n",
              "8424043  Counter-Strike: Condition Zero                 0             0.0   \n",
              "8424044  Counter-Strike: Condition Zero                 0             0.0   \n",
              "\n",
              "        Fecha_posteo   Año  \n",
              "0         2015-10-28  2015  \n",
              "1         2011-01-27  2011  \n",
              "2         2014-07-01  2014  \n",
              "3         2013-12-06  2013  \n",
              "4         2013-08-07  2013  \n",
              "...              ...   ...  \n",
              "8424040   2014-10-26  2014  \n",
              "8424041   2013-12-08  2013  \n",
              "8424042   2015-01-05  2015  \n",
              "8424043   2014-10-31  2014  \n",
              "8424044   2015-05-04  2015  \n",
              "\n",
              "[7137386 rows x 8 columns]"
            ]
          },
          "execution_count": 32,
          "metadata": {},
          "output_type": "execute_result"
        }
      ],
      "source": [
        "df_no_outliers\n",
        "#nuevo df"
      ]
    },
    {
      "cell_type": "code",
      "execution_count": 34,
      "metadata": {},
      "outputs": [
        {
          "name": "stdout",
          "output_type": "stream",
          "text": [
            "La cantidad de valores iguales a cero en la columna 'playtime_hours' es: 552835\n"
          ]
        }
      ],
      "source": [
        "ceros = (df_no_outliers['playtime_hours'] == 0.0).sum()\n",
        "print(f\"La cantidad de valores iguales a cero en la columna 'playtime_hours' es: {ceros}\")\n"
      ]
    },
    {
      "cell_type": "code",
      "execution_count": 35,
      "metadata": {},
      "outputs": [],
      "source": [
        "# sacamos las filas con valor 0.0 ya que no nos aportan al objetivo de nuestra funcion\n",
        "df_filtrado = df_no_outliers[df_no_outliers['playtime_hours'] != 0.0]\n"
      ]
    },
    {
      "cell_type": "code",
      "execution_count": 36,
      "metadata": {},
      "outputs": [
        {
          "name": "stdout",
          "output_type": "stream",
          "text": [
            "<class 'pandas.core.frame.DataFrame'>\n",
            "Index: 6584551 entries, 168 to 8424008\n",
            "Data columns (total 8 columns):\n",
            " #   Column            Dtype         \n",
            "---  ------            -----         \n",
            " 0   genres            object        \n",
            " 1   item_id           int32         \n",
            " 2   user_id           object        \n",
            " 3   item_name         object        \n",
            " 4   playtime_forever  int64         \n",
            " 5   playtime_hours    float64       \n",
            " 6   Fecha_posteo      datetime64[ns]\n",
            " 7   Año               int32         \n",
            "dtypes: datetime64[ns](1), float64(1), int32(2), int64(1), object(3)\n",
            "memory usage: 401.9+ MB\n"
          ]
        }
      ],
      "source": [
        "df_filtrado.info()"
      ]
    },
    {
      "cell_type": "code",
      "execution_count": 37,
      "metadata": {},
      "outputs": [
        {
          "data": {
            "text/plain": [
              "genres              0\n",
              "item_id             0\n",
              "user_id             0\n",
              "item_name           0\n",
              "playtime_forever    0\n",
              "playtime_hours      0\n",
              "Fecha_posteo        0\n",
              "Año                 0\n",
              "dtype: int64"
            ]
          },
          "execution_count": 37,
          "metadata": {},
          "output_type": "execute_result"
        }
      ],
      "source": [
        "df_filtrado.isnull().sum()"
      ]
    },
    {
      "cell_type": "code",
      "execution_count": 38,
      "metadata": {},
      "outputs": [
        {
          "name": "stderr",
          "output_type": "stream",
          "text": [
            "C:\\Users\\W10\\AppData\\Local\\Temp\\ipykernel_11240\\20918578.py:4: SettingWithCopyWarning: \n",
            "A value is trying to be set on a copy of a slice from a DataFrame\n",
            "\n",
            "See the caveats in the documentation: https://pandas.pydata.org/pandas-docs/stable/user_guide/indexing.html#returning-a-view-versus-a-copy\n",
            "  df_filtrado.drop(columnas_a_eliminar, axis=1, inplace=True)\n"
          ]
        }
      ],
      "source": [
        "#columnas a eliminar\n",
        "columnas_a_eliminar = ['item_id', 'item_name', 'playtime_forever', 'Fecha_posteo']\n",
        "\n",
        "df_filtrado.drop(columnas_a_eliminar, axis=1, inplace=True)"
      ]
    },
    {
      "cell_type": "code",
      "execution_count": 39,
      "metadata": {},
      "outputs": [
        {
          "data": {
            "text/html": [
              "<div>\n",
              "<style scoped>\n",
              "    .dataframe tbody tr th:only-of-type {\n",
              "        vertical-align: middle;\n",
              "    }\n",
              "\n",
              "    .dataframe tbody tr th {\n",
              "        vertical-align: top;\n",
              "    }\n",
              "\n",
              "    .dataframe thead th {\n",
              "        text-align: right;\n",
              "    }\n",
              "</style>\n",
              "<table border=\"1\" class=\"dataframe\">\n",
              "  <thead>\n",
              "    <tr style=\"text-align: right;\">\n",
              "      <th></th>\n",
              "      <th>genres</th>\n",
              "      <th>user_id</th>\n",
              "      <th>playtime_hours</th>\n",
              "      <th>Año</th>\n",
              "    </tr>\n",
              "  </thead>\n",
              "  <tbody>\n",
              "    <tr>\n",
              "      <th>168</th>\n",
              "      <td>Action</td>\n",
              "      <td>DingarooEF</td>\n",
              "      <td>1.800000</td>\n",
              "      <td>2015</td>\n",
              "    </tr>\n",
              "    <tr>\n",
              "      <th>169</th>\n",
              "      <td>Action</td>\n",
              "      <td>DingarooEF</td>\n",
              "      <td>1.800000</td>\n",
              "      <td>2011</td>\n",
              "    </tr>\n",
              "    <tr>\n",
              "      <th>170</th>\n",
              "      <td>Action</td>\n",
              "      <td>DingarooEF</td>\n",
              "      <td>1.800000</td>\n",
              "      <td>2014</td>\n",
              "    </tr>\n",
              "    <tr>\n",
              "      <th>171</th>\n",
              "      <td>Action</td>\n",
              "      <td>DingarooEF</td>\n",
              "      <td>1.800000</td>\n",
              "      <td>2013</td>\n",
              "    </tr>\n",
              "    <tr>\n",
              "      <th>172</th>\n",
              "      <td>Action</td>\n",
              "      <td>DingarooEF</td>\n",
              "      <td>1.800000</td>\n",
              "      <td>2013</td>\n",
              "    </tr>\n",
              "    <tr>\n",
              "      <th>...</th>\n",
              "      <td>...</td>\n",
              "      <td>...</td>\n",
              "      <td>...</td>\n",
              "      <td>...</td>\n",
              "    </tr>\n",
              "    <tr>\n",
              "      <th>8424004</th>\n",
              "      <td>Action</td>\n",
              "      <td>qrowid</td>\n",
              "      <td>0.016667</td>\n",
              "      <td>2014</td>\n",
              "    </tr>\n",
              "    <tr>\n",
              "      <th>8424005</th>\n",
              "      <td>Action</td>\n",
              "      <td>qrowid</td>\n",
              "      <td>0.016667</td>\n",
              "      <td>2013</td>\n",
              "    </tr>\n",
              "    <tr>\n",
              "      <th>8424006</th>\n",
              "      <td>Action</td>\n",
              "      <td>qrowid</td>\n",
              "      <td>0.016667</td>\n",
              "      <td>2015</td>\n",
              "    </tr>\n",
              "    <tr>\n",
              "      <th>8424007</th>\n",
              "      <td>Action</td>\n",
              "      <td>qrowid</td>\n",
              "      <td>0.016667</td>\n",
              "      <td>2014</td>\n",
              "    </tr>\n",
              "    <tr>\n",
              "      <th>8424008</th>\n",
              "      <td>Action</td>\n",
              "      <td>qrowid</td>\n",
              "      <td>0.016667</td>\n",
              "      <td>2015</td>\n",
              "    </tr>\n",
              "  </tbody>\n",
              "</table>\n",
              "<p>6584551 rows × 4 columns</p>\n",
              "</div>"
            ],
            "text/plain": [
              "         genres     user_id  playtime_hours   Año\n",
              "168      Action  DingarooEF        1.800000  2015\n",
              "169      Action  DingarooEF        1.800000  2011\n",
              "170      Action  DingarooEF        1.800000  2014\n",
              "171      Action  DingarooEF        1.800000  2013\n",
              "172      Action  DingarooEF        1.800000  2013\n",
              "...         ...         ...             ...   ...\n",
              "8424004  Action      qrowid        0.016667  2014\n",
              "8424005  Action      qrowid        0.016667  2013\n",
              "8424006  Action      qrowid        0.016667  2015\n",
              "8424007  Action      qrowid        0.016667  2014\n",
              "8424008  Action      qrowid        0.016667  2015\n",
              "\n",
              "[6584551 rows x 4 columns]"
            ]
          },
          "execution_count": 39,
          "metadata": {},
          "output_type": "execute_result"
        }
      ],
      "source": [
        "df_filtrado"
      ]
    },
    {
      "cell_type": "code",
      "execution_count": 40,
      "metadata": {},
      "outputs": [
        {
          "name": "stderr",
          "output_type": "stream",
          "text": [
            "C:\\Users\\W10\\AppData\\Local\\Temp\\ipykernel_11240\\1071815395.py:2: SettingWithCopyWarning: \n",
            "A value is trying to be set on a copy of a slice from a DataFrame.\n",
            "Try using .loc[row_indexer,col_indexer] = value instead\n",
            "\n",
            "See the caveats in the documentation: https://pandas.pydata.org/pandas-docs/stable/user_guide/indexing.html#returning-a-view-versus-a-copy\n",
            "  df_filtrado['genres'] = df_filtrado['genres'].str.lower()\n"
          ]
        }
      ],
      "source": [
        "# dejamos la columna de genero toda en minuscula \n",
        "df_filtrado['genres'] = df_filtrado['genres'].str.lower()\n"
      ]
    },
    {
      "cell_type": "code",
      "execution_count": 42,
      "metadata": {},
      "outputs": [
        {
          "name": "stdout",
          "output_type": "stream",
          "text": [
            "<class 'pandas.core.frame.DataFrame'>\n",
            "Index: 6584551 entries, 168 to 8424008\n",
            "Data columns (total 4 columns):\n",
            " #   Column          Dtype  \n",
            "---  ------          -----  \n",
            " 0   genres          object \n",
            " 1   user_id         object \n",
            " 2   playtime_hours  float64\n",
            " 3   Año             int32  \n",
            "dtypes: float64(1), int32(1), object(2)\n",
            "memory usage: 226.1+ MB\n"
          ]
        }
      ],
      "source": [
        "df_filtrado.info()"
      ]
    },
    {
      "cell_type": "code",
      "execution_count": 43,
      "metadata": {},
      "outputs": [],
      "source": [
        "# Vamos a reducirlo a la mitad por una cuestion de espacio en render \n",
        "df_reducido = df_filtrado.sample(frac=0.5, random_state=1)"
      ]
    },
    {
      "cell_type": "code",
      "execution_count": 44,
      "metadata": {},
      "outputs": [
        {
          "name": "stdout",
          "output_type": "stream",
          "text": [
            "<class 'pandas.core.frame.DataFrame'>\n",
            "Index: 3292276 entries, 289547 to 349386\n",
            "Data columns (total 4 columns):\n",
            " #   Column          Dtype  \n",
            "---  ------          -----  \n",
            " 0   genres          object \n",
            " 1   user_id         object \n",
            " 2   playtime_hours  float64\n",
            " 3   Año             int32  \n",
            "dtypes: float64(1), int32(1), object(2)\n",
            "memory usage: 113.0+ MB\n"
          ]
        }
      ],
      "source": [
        "df_reducido.info()"
      ]
    },
    {
      "cell_type": "code",
      "execution_count": 1,
      "metadata": {},
      "outputs": [
        {
          "ename": "NameError",
          "evalue": "name 'df_reducido' is not defined",
          "output_type": "error",
          "traceback": [
            "\u001b[1;31m---------------------------------------------------------------------------\u001b[0m",
            "\u001b[1;31mNameError\u001b[0m                                 Traceback (most recent call last)",
            "\u001b[1;32mc:\\Users\\W10\\Desktop\\henry data science\\proyecto individual 1\\PI MLOps - STEAM\\def_UserForGenre2.ipynb Cell 44\u001b[0m line \u001b[0;36m2\n\u001b[0;32m      <a href='vscode-notebook-cell:/c%3A/Users/W10/Desktop/henry%20data%20science/proyecto%20individual%201/PI%20MLOps%20-%20STEAM/def_UserForGenre2.ipynb#X61sZmlsZQ%3D%3D?line=0'>1</a>\u001b[0m archivo_salida \u001b[39m=\u001b[39m \u001b[39m'\u001b[39m\u001b[39mdf_2reducido.parquet\u001b[39m\u001b[39m'\u001b[39m\n\u001b[1;32m----> <a href='vscode-notebook-cell:/c%3A/Users/W10/Desktop/henry%20data%20science/proyecto%20individual%201/PI%20MLOps%20-%20STEAM/def_UserForGenre2.ipynb#X61sZmlsZQ%3D%3D?line=1'>2</a>\u001b[0m df_reducido\u001b[39m.\u001b[39mto_parquet(archivo_salida, index\u001b[39m=\u001b[39m\u001b[39mFalse\u001b[39;00m)\n",
            "\u001b[1;31mNameError\u001b[0m: name 'df_reducido' is not defined"
          ]
        }
      ],
      "source": [
        "archivo_salida = 'df_2reducido.parquet'\n",
        "df_reducido.to_parquet(archivo_salida, index=False)"
      ]
    },
    {
      "cell_type": "code",
      "execution_count": 3,
      "metadata": {},
      "outputs": [],
      "source": [
        "import pandas as pd"
      ]
    },
    {
      "cell_type": "code",
      "execution_count": 4,
      "metadata": {},
      "outputs": [],
      "source": [
        "df = pd.read_parquet('df_2reducido.parquet')"
      ]
    },
    {
      "cell_type": "code",
      "execution_count": 5,
      "metadata": {},
      "outputs": [
        {
          "name": "stdout",
          "output_type": "stream",
          "text": [
            "<class 'pandas.core.frame.DataFrame'>\n",
            "RangeIndex: 3292276 entries, 0 to 3292275\n",
            "Data columns (total 4 columns):\n",
            " #   Column          Dtype  \n",
            "---  ------          -----  \n",
            " 0   genres          object \n",
            " 1   user_id         object \n",
            " 2   playtime_hours  float64\n",
            " 3   Año             int32  \n",
            "dtypes: float64(1), int32(1), object(2)\n",
            "memory usage: 87.9+ MB\n"
          ]
        }
      ],
      "source": [
        "df.info()"
      ]
    },
    {
      "cell_type": "code",
      "execution_count": 6,
      "metadata": {},
      "outputs": [],
      "source": [
        "# Vamos a tener que reducirlo un poco mas aun\n",
        "tamano_muestra = 0.5  #50% tomamos\n",
        "\n",
        "# Tomar una muestra aleatoria del DataFrame\n",
        "df = df.sample(frac=tamano_muestra, random_state=42)"
      ]
    },
    {
      "cell_type": "code",
      "execution_count": 7,
      "metadata": {},
      "outputs": [
        {
          "name": "stdout",
          "output_type": "stream",
          "text": [
            "<class 'pandas.core.frame.DataFrame'>\n",
            "Index: 1646138 entries, 2006171 to 2534029\n",
            "Data columns (total 4 columns):\n",
            " #   Column          Non-Null Count    Dtype  \n",
            "---  ------          --------------    -----  \n",
            " 0   genres          1646138 non-null  object \n",
            " 1   user_id         1646138 non-null  object \n",
            " 2   playtime_hours  1646138 non-null  float64\n",
            " 3   Año             1646138 non-null  int32  \n",
            "dtypes: float64(1), int32(1), object(2)\n",
            "memory usage: 56.5+ MB\n"
          ]
        }
      ],
      "source": [
        "df.info()"
      ]
    },
    {
      "cell_type": "code",
      "execution_count": 8,
      "metadata": {},
      "outputs": [],
      "source": [
        "archivo_salida = 'df_2reducidov2.parquet'\n",
        "df.to_parquet(archivo_salida, index=False)"
      ]
    },
    {
      "cell_type": "code",
      "execution_count": 9,
      "metadata": {
        "id": "8KMcnzOcMZCJ"
      },
      "outputs": [],
      "source": [
        "def UserForGenre(genero: str):\n",
        "    # Filtrar el df por género\n",
        "    df_genre = df[df['genres'] == genero]\n",
        "\n",
        "    if df_genre.empty:\n",
        "        return {\"Usuario con más horas jugadas para \" + genero: \"Ninguno\", \"Horas jugadas\": []}\n",
        "\n",
        "    df_genre['Año'] = pd.to_datetime(df_genre['Año'], format='%Y')\n",
        "    # Encontrar el usuario con mas horas jugadas para ese genero\n",
        "    max_playtime_user = df_genre.loc[df_genre['playtime_hours'].idxmax()]['user_id']\n",
        "\n",
        "    # Horas jugadas por año\n",
        "    playtime_by_year = df_genre.groupby(df_genre['Año'].dt.year)['playtime_hours'].sum().reset_index()\n",
        "\n",
        "    # Crear una lista de diccionarios para la acumulación de horas por año\n",
        "    playtime_list = [{\"Año\": year, \"Horas\": hours} for year, hours in zip(playtime_by_year['Año'], playtime_by_year['playtime_hours'])]\n",
        "\n",
        "    return {\"Usuario con más horas jugadas para \" + genero: max_playtime_user, \"Horas jugadas\": playtime_list}\n"
      ]
    },
    {
      "cell_type": "code",
      "execution_count": 10,
      "metadata": {
        "colab": {
          "base_uri": "https://localhost:8080/"
        },
        "id": "hKhrYGedNH5l",
        "outputId": "7be2baf9-c5ae-4455-8c83-0d4388dcedbf"
      },
      "outputs": [
        {
          "name": "stderr",
          "output_type": "stream",
          "text": [
            "C:\\Users\\W10\\AppData\\Local\\Temp\\ipykernel_9264\\1092603485.py:8: SettingWithCopyWarning: \n",
            "A value is trying to be set on a copy of a slice from a DataFrame.\n",
            "Try using .loc[row_indexer,col_indexer] = value instead\n",
            "\n",
            "See the caveats in the documentation: https://pandas.pydata.org/pandas-docs/stable/user_guide/indexing.html#returning-a-view-versus-a-copy\n",
            "  df_genre['Año'] = pd.to_datetime(df_genre['Año'], format='%Y')\n"
          ]
        }
      ],
      "source": [
        "#probamos\n",
        "resultado = UserForGenre(\"action\")\n"
      ]
    },
    {
      "cell_type": "code",
      "execution_count": 11,
      "metadata": {
        "colab": {
          "base_uri": "https://localhost:8080/"
        },
        "id": "vLz2HVRWNsJL",
        "outputId": "e7991830-acaf-4996-df44-cf25580ac932"
      },
      "outputs": [
        {
          "name": "stdout",
          "output_type": "stream",
          "text": [
            "{'Usuario con más horas jugadas para action': 'theuglybarnacle', 'Horas jugadas': [{'Año': 2010, 'Horas': 20032.916666666668}, {'Año': 2011, 'Horas': 116847.93333333333}, {'Año': 2012, 'Horas': 487547.6}, {'Año': 2013, 'Horas': 3514076.033333333}, {'Año': 2014, 'Horas': 13449239.666666666}, {'Año': 2015, 'Horas': 17279126.35}]}\n"
          ]
        }
      ],
      "source": [
        "print(resultado)"
      ]
    }
  ],
  "metadata": {
    "colab": {
      "provenance": []
    },
    "kernelspec": {
      "display_name": "Python 3",
      "name": "python3"
    },
    "language_info": {
      "codemirror_mode": {
        "name": "ipython",
        "version": 3
      },
      "file_extension": ".py",
      "mimetype": "text/x-python",
      "name": "python",
      "nbconvert_exporter": "python",
      "pygments_lexer": "ipython3",
      "version": "3.11.3"
    }
  },
  "nbformat": 4,
  "nbformat_minor": 0
}
